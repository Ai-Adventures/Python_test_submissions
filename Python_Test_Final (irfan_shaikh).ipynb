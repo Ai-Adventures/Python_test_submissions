{
  "cells": [
    {
      "cell_type": "markdown",
      "metadata": {
        "id": "AoBhB2LUBoyf"
      },
      "source": [
        "## Python Test\n",
        "\n",
        "### Instructions:\n",
        "\n",
        "You are given with Python coding problems. These problems will give you the chance to test your implementations of the questions. Each code runs your implementations for a number of testcases. You use the test codes to make sure that:\n",
        "\n",
        "    • Your function does not crash, that is, there is no Python errors when trying to run the\n",
        "    function.\n",
        "\n",
        "    • Compare the results of the testcases to your results. Expected results are given at the\n",
        "    end of each code.\n",
        "\n",
        "\n",
        "In each problem, replace pass command with your implementation of each required function."
      ]
    },
    {
      "cell_type": "markdown",
      "metadata": {
        "id": "a9aj25yKCjXR"
      },
      "source": [
        "### Question 1 - Arithmetic\n",
        "\n",
        "In this question, your task is to implement a function `do_arithmetic(x,y,op)` which takes three input arguments: a number x,\n",
        "a number y, and a string op representing an operation. The function has to perform the\n",
        "operation on the two numbers and return the result.\n",
        "\n",
        "- Example 1: if you call the function with the parameter `do_arithmetic(10,4,’add’)` the function should return the value 14.0.\n",
        "\n",
        "- Example 2: `do_arithmetic(2,3,’*’)` should return 6.0.\n",
        "\n",
        "**Detailed instructions:**\n",
        "-  You can assume that x and y are always provided and always valid numbers (e.g. integers or floats).\n",
        "\n",
        "- `op` is a string representing the operation to perform. You have to implement four operations with ’add’, ’+’, ’subtract’, ’-’, ’multiply’, ’*’, and ’divide’, ’/’.\n",
        "\n",
        "- If `op` is not specified by the user it should default to ’add’.\n",
        "\n",
        "- If `op` is specified by the user but it is not one of the four operations (with eight keywords), print ’Unknown operation’ and return None.\n",
        "\n",
        "- Division by zero should be avoided. To this end, return None whenever division by zero would occur, and print ’Division by 0!’\n",
        "\n",
        "- The returned result should always be of type float.\n",
        "\n",
        "Test code: The following test cases will be tested:\n",
        "\n",
        "`do_arithmetic(24, -7, 'add')`\n",
        "- Expected result:- 17.0\n",
        "\n",
        "`do_arithmetic(6, 6, 'multiply')`\n",
        "- Expected result:- 36.0\n",
        "\n",
        "`do_arithmetic(4, 0, '/')`\n",
        "- Expected result: \"Division by Zero!\"\n",
        "\n",
        "`do_arithmetic(3, 9, '-')`\n",
        "- Expected result: -6.0\n",
        "\n",
        "`do_arithmetic(10, -43, 'subtract')`\n",
        "- Expected result: 53.0\n",
        "\n",
        "`do_arithmetic(3, 9)`\n",
        "- Expected result: 12.0"
      ]
    },
    {
      "cell_type": "code",
      "execution_count": null,
      "metadata": {
        "id": "6qw-Ev62CZ55"
      },
      "outputs": [],
      "source": [
        "def do_arithmetic(x,y,op):\n",
        "  # your code here\n",
        "  pass"
      ]
    },
    {
      "cell_type": "code",
      "execution_count": null,
      "metadata": {
        "colab": {
          "base_uri": "https://localhost:8080/"
        },
        "id": "NqQt1Mu3bHvq",
        "outputId": "04e666d4-dc9c-41cb-bdab-4a57657bd462"
      },
      "outputs": [
        {
          "name": "stdout",
          "output_type": "stream",
          "text": [
            "Expected result:  17.0\n",
            "Expected result:  36.0\n",
            "Expected result:  division by zero\n",
            "Expected result:  -6.0\n",
            "Expected result:  53.0\n",
            "Expected result:  12.0\n"
          ]
        }
      ],
      "source": [
        "def do_arithmetic(x,y,op='+'):\n",
        "  if op=='add' or op=='+':\n",
        "    print('Expected result: ',float(x+y))\n",
        "\n",
        "  elif op=='subtract' or op=='-':\n",
        "    print('Expected result: ',float(x-y))\n",
        "\n",
        "  elif op=='divide' or op=='/':\n",
        "    try:\n",
        "      print('Expected result: ',float(x/y))\n",
        "    except ZeroDivisionError as e:\n",
        "      print('Expected result: ',e)\n",
        "\n",
        "  elif op=='multiply' or op=='*':\n",
        "    print('Expected result: ',float(x*y))\n",
        "\n",
        "  elif op==None:\n",
        "    print('Expected result: ',float(x+y))\n",
        "\n",
        "  else:\n",
        "    print('Unknown operation')\n",
        "\n",
        "\n",
        "do_arithmetic(24, -7, 'add')\n",
        "do_arithmetic(6, 6, 'multiply')\n",
        "do_arithmetic(4, 0, '/')\n",
        "do_arithmetic(3, 9, '-')\n",
        "do_arithmetic(10, -43, 'subtract')\n",
        "do_arithmetic(3, 9)"
      ]
    },
    {
      "cell_type": "markdown",
      "metadata": {
        "id": "oiXY9pAQD5bE"
      },
      "source": [
        "### Question 2 - Sum of digits\n",
        "\n",
        "Write a function `sum_of_digits(s)` that takes as input a string s that contains some numbers. The function calculates the sum of all the digits in the string, ignoring any symbols that\n",
        "are not digits.\n",
        "\n",
        "• Example: `sum_of_digits(\"123\")` should return 6 since 1+2+3 = 6\n",
        "\n",
        "• Example 2: `sum_of_digits(\"10a20\")` should return 3 because 1+0+2+0 = 3.\n",
        "Detailed instructions:\n",
        "\n",
        "- if s includes both digits and nondigits\n",
        "\n",
        "  – Calculate the sum of digits and return the result whilst ignoring any\n",
        "  \n",
        "  non-digit symbols in the string.\n",
        "  \n",
        "  – print e.g. for `sum_of_digits(\"10a20\")`\n",
        "  \n",
        "  ’The sum of digits operation performs 1+0+2+0’\n",
        "\n",
        "  – Save the extracted non-digits in a variable of interest as a list and print \"The extracted non-digits are: [’a’]\"\n",
        "\n",
        "- If s is not provided or an empty string return 0 and print\n",
        "  \n",
        "  ’Empty string entered!’.\n",
        "\n",
        "- If s is provided, but it contains no digits return 0 and print\n",
        "  \n",
        "  ’The sum of digits operation could not detect a digit!’\n",
        "  \n",
        "  ’The returned input letters are: [ALL NONDIGITS HERE]’\n",
        "\n",
        "- The returned number should be an integer.\n",
        "\n",
        "  - Example 1: When you run `sum_of_digits(\"a1w3\")` , the function should print\n",
        "    \n",
        "    The sum of digits operation performs 1+3\n",
        "    \n",
        "    The extracted non-digits are: [’a’, ’w’]\n",
        "    \n",
        "    4\n",
        "\n",
        "  - Example 2: When you run `sum_of_digits(\"united\")`, the function should print\n",
        "    \n",
        "    The sum of digits operation could not detect a digit!\n",
        "\n",
        "    The returned input letters are: [’u’, ’n’, ’i’, ’t’, ’e’, ’d’]\n",
        "    \n",
        "    0\n",
        "\n",
        "Test code: The following test cases will be tested:\n",
        "\n",
        "`sum_of_digits(\"123\")`\n",
        "\n",
        "- Expected result:\n",
        "  \n",
        "  The sum of digit operation performs 1 + 2 + 3\n",
        "  \n",
        "  The extracted non-digits are []\n",
        "  \n",
        "  6\n",
        "\n",
        "`sum_of_digits(\"we10a20b\")`\n",
        "\n",
        "- Expected result:\n",
        "\n",
        "  The sum of digit operation performs 1 + 0 + 2 + 0\n",
        "\n",
        "  The extracted non-digits are ['w', 'e', 'a', 'b']\n",
        "\n",
        "  3\n",
        "\n",
        "`sum_of_digits(\"united\")`\n",
        "- Expected result:\n",
        "\n",
        "  The sum of digits operation could not detect a digit!\n",
        "  \n",
        "  The extracted non-digits are ['u', 'n', 'i', 't', 'e', 'd']\n",
        "  \n",
        "  0\n",
        "\n",
        "`sum_of_digits(\"\")`\n",
        "\n",
        "- Expected result:\n",
        "\n",
        "  The sum of digits operation could not detect a digit!\n",
        "  \n",
        "  The extracted non-digits are []\n",
        "  \n",
        "  0"
      ]
    },
    {
      "cell_type": "code",
      "execution_count": null,
      "metadata": {
        "id": "quwAzI41D44Y"
      },
      "outputs": [],
      "source": [
        "def sum_of_digits(s):\n",
        "  # your code here\n",
        "  pass"
      ]
    },
    {
      "cell_type": "code",
      "execution_count": null,
      "metadata": {
        "colab": {
          "base_uri": "https://localhost:8080/"
        },
        "id": "PrkASfpSgMc2",
        "outputId": "b1d60de9-b623-4527-a231-942104b86a31"
      },
      "outputs": [
        {
          "name": "stdout",
          "output_type": "stream",
          "text": [
            "Expected result:\n",
            "The sum of digit operation performs 1+2+3\n",
            "The extracted non-digits are []\n",
            "6\n",
            "Expected result:\n",
            "The sum of digit operation performs 1+0+2+0\n",
            "The extracted non-digits are ['w', 'e', 'a', 'b']\n",
            "3\n",
            "Expected result:\n",
            "The sum of digits operation could not detect a digit!\n",
            "The extracted non-digits are ['u', 'n', 'i', 't', 'e', 'd']\n",
            "0\n",
            "Expected result:\n",
            "The sum of digits operation could not detect a digit!\n",
            "The extracted non-digits are []\n",
            "0\n"
          ]
        }
      ],
      "source": [
        "def sum_of_digits(s):\n",
        "  digit=[]\n",
        "  othr=[]\n",
        "  for i in s:\n",
        "    if i.isdigit():\n",
        "      digit.append(i)\n",
        "    else:\n",
        "      othr.append(i)\n",
        "  print(f'Expected result:')\n",
        "  if len(digit)!=0:\n",
        "    x='+'.join(digit)\n",
        "    print(f'The sum of digit operation performs',x)\n",
        "  else:\n",
        "    print(f'The sum of digits operation could not detect a digit!')\n",
        "\n",
        "  print(f'The extracted non-digits are',othr)\n",
        "  for i in range(len(digit)):\n",
        "    digit[i]=int(digit[i])\n",
        "  print(sum(digit))\n",
        "\n",
        "sum_of_digits(\"123\")\n",
        "sum_of_digits(\"we10a20b\")\n",
        "sum_of_digits(\"united\")\n",
        "sum_of_digits(\"\")\n"
      ]
    },
    {
      "cell_type": "markdown",
      "metadata": {
        "id": "Ho-lFx1GFOvj"
      },
      "source": [
        "### Question 3 - Pluralize\n",
        "\n",
        "Please download following file named `pronoun.txt` before you solve this questions the link is given below:\n",
        "\n",
        "[Required file link](https://cdn.discordapp.com/attachments/953213295710584862/974555326865100830/pronoun.txt)\n",
        "\n",
        "Write a function `pluralize(word)` that determines the plural of an English word.\n",
        "Input: Your function takes one argument as input, word, a string representing the word to be\n",
        "pluralised. We assume this word will only be one single token, i.e., no spaces. Your function will also have to load the text file `proper nouns.txt`.\n",
        "\n",
        "Output: The function should return a dictionary of the form:\n",
        "  - {’plural’: word_in_plural, ’status’: x}\n",
        "\n",
        "\n",
        "where word_in_plural is the pluralized version of the input argument word and x is a\n",
        "string which can have one of the following values: ’empty_string’, ’proper_noun’, ’\n",
        "already_in_plural’, ’success’.\n",
        "\n",
        "\n",
        "Below is the logic (in order) that the function should execute.\n",
        "\n",
        "1) Determine if the word is an empty string, already in plural, or a proper noun.\n",
        "\n",
        "    • If the word is an empty string, then your function returns a dictionary with the following values:\n",
        "    \n",
        "      – word_in_plural = ’’ and x = ’empty_string’\n",
        "    \n",
        "      – Explanation: The input word is an empty string and it cannot be pluralized.\n",
        "    \n",
        "    • If the word is already in plural, then your function returns a dictionary with the following values:\n",
        "    \n",
        "      – word_in_plural = word and x = ’already_in_plural’.\n",
        "    \n",
        "      – Explanation: The input word remains untouched (e.g., input: houses, output: houses).\n",
        "    \n",
        "    • If the word is a proper noun, then your function returns a dictionary with the following values:\n",
        "    \n",
        "      – word_in_plural = word and x = ’proper_noun’.\n",
        "    \n",
        "      – Explanation: The input word is a proper noun, and therefore cannot be pluralized (e.g., input: Adam, output: Adam).\n",
        "\n",
        "    • How to determine plural form: We will assume a word is in plural if it ends with ’s’.\n",
        "\n",
        "    • How to determine if a word is a proper noun: We will assume a word is a proper noun if it exists in the file proper nouns.txt. Note that your function should convert any capitalised input to lower case first because the proper nouns in the list are all lower case. The values in your output dictionary, however, will retain the original capitalisation\n",
        "\n",
        "2) If the word is not plural and is not a proper noun, then:\n",
        "  Apply the following English plural rules.\n",
        "    \n",
        "    • If the word ends with a vowel:\n",
        "        – add -s.\n",
        "    \n",
        "    • Otherwise:\n",
        "        \n",
        "        – If it ends with ’y’ and is preceded by a consonant, erase the last letter and add\n",
        "        \n",
        "          -ies.\n",
        "        \n",
        "        – If it ends with ’f’, erase the last letter and add -ves.\n",
        "        \n",
        "        – If it ends with ’sh’/’ch’/’z’, add -es.\n",
        "        \n",
        "        – If none of the above applies, just add -s.\n",
        "\n",
        "    • After these rules are applied, your output dictionary should be:\n",
        "        – {’plural’: word_in_plural, ’status’: ’success’}\n",
        "\n",
        "\n",
        "Test code: The following test cases will be tested:\n",
        "\n",
        "`pluralize(\"failure\")`\n",
        "- Expected result: `{'plural':'failures', 'status':'success'}`\n",
        "\n",
        "`pluralize(\"food\")`\n",
        "- Expected result: `{'plural':'foods', 'status':'success'}`\n",
        "\n",
        "`pluralize(\"Zulma\")`\n",
        "- Expected result: `{'plural':'zulma', 'status':'proper_noun'}`\n",
        "\n",
        "`pluralize(\"injury\")`\n",
        "- Expected result: `{'plural':'injuries', 'status':'success'}`\n",
        "\n",
        "`pluralize(\"elf\")`\n",
        "- Expected result: `{'plural':'elves', 'status':'success'}`\n",
        "\n",
        "`pluralize(\"buzz\")`\n",
        "- Expected result: `{'plural':'buzzes', 'status':'success'}`\n",
        "\n",
        "`pluralize(\"computers\")`\n",
        "- Expected result: `{'plural':'computers', 'status':'already_in_plural'}`\n",
        "\n",
        "`pluralize(\"PCs\")`\n",
        "- Expected result: `{'plural':'PCs', 'status':'already_in_plural'}`\n",
        "\n",
        "`pluralize(\"\")`\n",
        "- Expected result: `{'plural':'', 'status':'empty_string'}`\n",
        "\n",
        "`pluralize(\"highway\")`\n",
        "- Expected result: `{'plural':'highways', 'status':'success'}`\n",
        "\n",
        "`pluralize(\"presentation\")`\n",
        "- Expected result: `{'plural':'presentations', 'status':'success'}`\n",
        "\n",
        "`pluralize(\"pouch\")`\n",
        "- Expected result: `{'plural':'pouches', 'status':'success'}`\n",
        "\n",
        "`pluralize(\"COVID-19\")`\n",
        "- Expected result: `{'plural':'COVID-19s', 'status':'success'}`\n",
        "\n",
        "`pluralize(\"adam\")`\n",
        "- Expected result: `{'plural':'adam', 'status':'proper_noun'}`\n"
      ]
    },
    {
      "cell_type": "code",
      "execution_count": null,
      "metadata": {
        "id": "rWa_mAUQejHH"
      },
      "outputs": [],
      "source": [
        "def pluralize(string1):\n",
        "  fileopen=open('pronoun.txt')\n",
        "  readfile=fileopen.read()\n",
        "  vowels=['a','e','i','o','u']\n",
        "  d={}\n",
        "  def plural(string1):\n",
        "    string1=string1.lower()\n",
        "    if string1[-1] in vowels:\n",
        "      return string1+'s'\n",
        "\n",
        "    elif string1[-1]=='y' and string1[-2] not in vowels:\n",
        "      return string1[:-1]+'ies'\n",
        "\n",
        "\n",
        "    elif string1[-1]=='f':\n",
        "      return string1[:-1]+'ves'\n",
        "\n",
        "\n",
        "    elif string1[-2:]=='sh' or string1[-2:]=='ch' or string1[-1]=='z':\n",
        "      return string1+'es'\n",
        "\n",
        "    else:\n",
        "      return string1+'s'\n",
        "\n",
        "  if len(string1)==0:\n",
        "    d['Plural word']=''\n",
        "    d['Status']='empty string'\n",
        "\n",
        "  elif string1 in readfile:\n",
        "    d['Plural word']=string1\n",
        "    d['Status']='Proper Noun'\n",
        "\n",
        "  else:\n",
        "    if string1[-1]=='s':\n",
        "      d['Plural word']=string1\n",
        "      d['Status']='already_in_plural'\n",
        "\n",
        "    else:\n",
        "      pulral_word=plural(string1)\n",
        "      d['Plural word']=pulral_word\n",
        "      d['Status']='success'\n",
        "\n",
        "    fileopen.close()\n",
        "\n",
        "  return print('Expected Result:',d)\n"
      ]
    },
    {
      "cell_type": "code",
      "execution_count": null,
      "metadata": {
        "colab": {
          "base_uri": "https://localhost:8080/"
        },
        "id": "XTkPpumdy--K",
        "outputId": "bbcd3e09-1b49-484e-cef1-d0bc89e59044"
      },
      "outputs": [
        {
          "name": "stdout",
          "output_type": "stream",
          "text": [
            "\n",
            "Expected Result: {'Plural word': 'failures', 'Status': 'success'}\n"
          ]
        }
      ],
      "source": [
        "pluralize(\"failure\")"
      ]
    },
    {
      "cell_type": "code",
      "execution_count": null,
      "metadata": {
        "colab": {
          "base_uri": "https://localhost:8080/"
        },
        "id": "b-52vbskzA0B",
        "outputId": "edcd741e-8546-4faa-ee16-261bf591f6b2"
      },
      "outputs": [
        {
          "name": "stdout",
          "output_type": "stream",
          "text": [
            "Expected Result: {'Plural word': 'foods', 'Status': 'success'}\n"
          ]
        }
      ],
      "source": [
        "pluralize(\"food\")"
      ]
    },
    {
      "cell_type": "code",
      "execution_count": null,
      "metadata": {
        "colab": {
          "base_uri": "https://localhost:8080/"
        },
        "id": "EQks7vKZzE5L",
        "outputId": "af226b3e-71b8-4189-ad82-e22499594abc"
      },
      "outputs": [
        {
          "name": "stdout",
          "output_type": "stream",
          "text": [
            "Expected Result: {'Plural word': 'Zulmas', 'Status': 'success'}\n"
          ]
        }
      ],
      "source": [
        "pluralize(\"Zulma\")"
      ]
    },
    {
      "cell_type": "code",
      "execution_count": null,
      "metadata": {
        "colab": {
          "base_uri": "https://localhost:8080/"
        },
        "id": "MG8SjkfqzIN5",
        "outputId": "54618a2a-e962-4a3b-8935-0db6b160d715"
      },
      "outputs": [
        {
          "name": "stdout",
          "output_type": "stream",
          "text": [
            "Expected Result: {'Plural word': 'injuries', 'Status': 'success'}\n"
          ]
        }
      ],
      "source": [
        "pluralize(\"injury\")"
      ]
    },
    {
      "cell_type": "code",
      "execution_count": null,
      "metadata": {
        "colab": {
          "base_uri": "https://localhost:8080/"
        },
        "id": "A-wsW_tc0h22",
        "outputId": "cc86d3fd-5dbe-4dbc-c6d0-61c4ff32f7bd"
      },
      "outputs": [
        {
          "name": "stdout",
          "output_type": "stream",
          "text": [
            "Expected Result: {'Plural word': 'elves', 'Status': 'success'}\n"
          ]
        }
      ],
      "source": [
        "pluralize(\"elf\")"
      ]
    },
    {
      "cell_type": "code",
      "execution_count": null,
      "metadata": {
        "colab": {
          "base_uri": "https://localhost:8080/"
        },
        "id": "8CGfLA330m36",
        "outputId": "04a37f15-7c4a-47d1-9f3b-f45470ec7831"
      },
      "outputs": [
        {
          "name": "stdout",
          "output_type": "stream",
          "text": [
            "Expected Result: {'Plural word': 'buzzes', 'Status': 'success'}\n"
          ]
        }
      ],
      "source": [
        "pluralize(\"buzz\")"
      ]
    },
    {
      "cell_type": "code",
      "execution_count": null,
      "metadata": {
        "colab": {
          "base_uri": "https://localhost:8080/"
        },
        "id": "F-2HLl5H0pz7",
        "outputId": "2a0778d8-082c-4a10-a0db-ecba82163cbc"
      },
      "outputs": [
        {
          "name": "stdout",
          "output_type": "stream",
          "text": [
            "Expected Result: {'Plural word': 'computers', 'Status': 'already_in_plural'}\n"
          ]
        }
      ],
      "source": [
        "pluralize(\"computers\")"
      ]
    },
    {
      "cell_type": "code",
      "execution_count": null,
      "metadata": {
        "colab": {
          "base_uri": "https://localhost:8080/"
        },
        "id": "TgqLdKz_0rZl",
        "outputId": "95c9c792-17f8-4540-f01b-0ec71798863a"
      },
      "outputs": [
        {
          "name": "stdout",
          "output_type": "stream",
          "text": [
            "Expected Result: {'Plural word': 'PCs', 'Status': 'already_in_plural'}\n"
          ]
        }
      ],
      "source": [
        "pluralize(\"PCs\")"
      ]
    },
    {
      "cell_type": "code",
      "execution_count": null,
      "metadata": {
        "colab": {
          "base_uri": "https://localhost:8080/"
        },
        "id": "4Igo9bqj07Bz",
        "outputId": "c67bd51a-3e72-4b7e-ea10-f76c08433c3e"
      },
      "outputs": [
        {
          "name": "stdout",
          "output_type": "stream",
          "text": [
            "Expected Result: {'Plural word': '', 'Status': 'empty string'}\n"
          ]
        }
      ],
      "source": [
        "pluralize(\"\")"
      ]
    },
    {
      "cell_type": "code",
      "execution_count": null,
      "metadata": {
        "colab": {
          "base_uri": "https://localhost:8080/"
        },
        "id": "P0pPdC9n1OeS",
        "outputId": "acedb0ad-fc0f-4d92-e45a-3c76d36644cf"
      },
      "outputs": [
        {
          "name": "stdout",
          "output_type": "stream",
          "text": [
            "Expected Result: {'Plural word': 'highways', 'Status': 'success'}\n"
          ]
        }
      ],
      "source": [
        "pluralize(\"highway\")"
      ]
    },
    {
      "cell_type": "code",
      "execution_count": null,
      "metadata": {
        "colab": {
          "base_uri": "https://localhost:8080/"
        },
        "id": "GmpPGl431U_q",
        "outputId": "b3c83363-4359-4a08-f096-dbe07702c275"
      },
      "outputs": [
        {
          "name": "stdout",
          "output_type": "stream",
          "text": [
            "Expected Result: {'Plural word': 'presentations', 'Status': 'success'}\n"
          ]
        }
      ],
      "source": [
        "pluralize(\"presentation\")"
      ]
    },
    {
      "cell_type": "code",
      "execution_count": null,
      "metadata": {
        "colab": {
          "base_uri": "https://localhost:8080/"
        },
        "id": "VBpLYpH01avS",
        "outputId": "4b4b6d2a-1412-4fe8-9a5f-44af8d032c81"
      },
      "outputs": [
        {
          "name": "stdout",
          "output_type": "stream",
          "text": [
            "Expected Result: {'Plural word': 'pouches', 'Status': 'success'}\n"
          ]
        }
      ],
      "source": [
        "pluralize(\"pouch\")"
      ]
    },
    {
      "cell_type": "code",
      "execution_count": null,
      "metadata": {
        "colab": {
          "base_uri": "https://localhost:8080/"
        },
        "id": "WPNX-HaQ1eYu",
        "outputId": "742e1878-eae2-4e5f-c8bf-6f420194fdf1"
      },
      "outputs": [
        {
          "name": "stdout",
          "output_type": "stream",
          "text": [
            "Expected Result: {'Plural word': 'COVID-19s', 'Status': 'success'}\n"
          ]
        }
      ],
      "source": [
        "pluralize(\"COVID-19\")"
      ]
    },
    {
      "cell_type": "code",
      "execution_count": null,
      "metadata": {
        "colab": {
          "base_uri": "https://localhost:8080/"
        },
        "id": "4bEMLIqa1iUn",
        "outputId": "2f159fb8-49e2-4e22-948c-b0e438ab4e68"
      },
      "outputs": [
        {
          "name": "stdout",
          "output_type": "stream",
          "text": [
            "Expected Result: {'Plural word': 'adam', 'Status': 'Proper Noun'}\n"
          ]
        }
      ],
      "source": [
        "pluralize(\"adam\")"
      ]
    },
    {
      "cell_type": "markdown",
      "metadata": {
        "id": "-XQCi9ydHG9t"
      },
      "source": [
        "### Question 4 - Function renamer\n",
        "\n",
        "\n",
        "You are working on a large-scale software project involving thousands of different Python files. The files have been written by different programmers and the naming of functions is somewhat inconsistent. You receive a new directive stating that the function names all have to be in camel case. In camel case, function names consisting of multiple words have a capital letter in each word and most underscores are removed. For instance, `def MyArithmeticCalculator()` is in camel case but `def my_arithmetic_calculator()` is not in camel case.\n",
        "\n",
        "You want to write a Python program that automatically processes Python code and renames the function names instead of doing it by hand. The instruction states that:\n",
        "\n",
        "  1.) All functions names need to be changed to camel case. E.g. a function\n",
        "  `calculate_speed_of_vehicle()` needs to be renamed to `CalculateSpeedOfVehicle()`.\n",
        "\n",
        "  2.) If the function has one or more leading ’_’ (underscores) they need to be preserved.\n",
        "\n",
        "  All other underscores need to be removed. E.g. a function `__calc_size()` is renamed to `__CalcSize()`.\n",
        "\n",
        "  3.) If the function is already in camel case, you do not need to change it but it still needs to appear in the dictionary d specified below.\n",
        "\n",
        "  4.) You can assume that there will be no name clashes. That is, a given function name which is not in camel case will not already appear in camel case elsewhere. E.g.if there is a function `print_all_strings()` then there is no function `PrintAllStrings()` elsewhere in the code.\n",
        "\n",
        "5.) Tip: You can use regular expressions to find the function names.\n",
        "\n",
        "\n",
        "To implement this, write a function `function_renamer(code)` that takes as input a string code that represents the Python code. It is typically a multi-line Python string. Your function needs to return the tuple `(d, newcode)`:\n",
        "\n",
        "  • `d` is a nested dictionary where each key corresponds to the original function name. The value is a nested dictionary that has the following items:\n",
        "\n",
        "    – hash: hash code of the original function name (tip: use Python’s hash function)\n",
        "\n",
        "    – camelcase: camel case version of original function name\n",
        "\n",
        "    – allcaps: all caps version of original function name\n",
        "\n",
        "  • newcode is a string containing the code wherein all function names have been renamed by their camel case versions. Note that you need to change the function name and also all other locations where the function name is used (e.g. function calls). You should not change anything else in the code (e.g. the contents of any strings). To clarify this, a few examples are given below:\n",
        "    - Example 1: Assume your input code is the multi-line string\n",
        "    \n",
        "        def add_two_numbers(a, b):\n",
        "          return a + b\n",
        "          print(add_two_numbers(10, 20))\n",
        "\n",
        "    \n",
        "    \n",
        "      After processing it with your function, the code should be changed to\n",
        "\n",
        "        def AddTwoNumbers(a, b):\n",
        "          return a + b\n",
        "        print(AddTwoNumbers(10, 20))\n",
        "\n",
        "        The nested dictionary is given by\n",
        "        d = {’add_two_numbers’:\n",
        "        {’hash’:-9214996652071026704,\n",
        "        ’camelcase’:’AddTwoNumbers’,\n",
        "        ’allcaps’:’ADD_TWO_NUMBERS’} }\n",
        "\n",
        "\n",
        "    - Example 2: Assume your input code is the multi-line string\n",
        "          def _major_split(*args):\n",
        "            return (args[:2], args[2:])\n",
        "          \n",
        "          \n",
        "          def CheckTruth(t = True):\n",
        "            print(’t is’, t)\n",
        "            return _major_split([t]*10)\n",
        "          \n",
        "          x, y = _major_split((10, 20, 30, 40, 50))\n",
        "\n",
        "\n",
        "\n",
        "      CheckTruth(len(x) == 10)\n",
        "\n",
        "      After processing it with your function, the code should be changed to\n",
        "          def _MajorSplit(*args):\n",
        "            return (args[:2], args[2:])\n",
        "          \n",
        "          def CheckTruth(t = True):\n",
        "            print(’t is’, t)\n",
        "            return _MajorSplit([t]*10)\n",
        "          x, y = _MajorSplit((10, 20, 30, 40, 50))\n",
        "          \n",
        "          CheckTruth(len(x) == 10)\n",
        "          \n",
        "          The nested dictionary is given by\n",
        "          \n",
        "          d = {’CheckTruth’:\n",
        "          {’hash’:-6410081306665365595,\n",
        "          ’camelcase’:’CheckTruth’,\n",
        "          ’allcaps’:’CHECKTRUTH’,\n",
        "          ’_major_split’:\n",
        "          {’hash’:484498917506710667,\n",
        "          ’camelcase’:’_MajorSplit’,\n",
        "          ’allcaps’:’_MAJOR_SPLIT’}}\n",
        "\n",
        "\n",
        "\n",
        "Test code: The examples given above are the only test cases to be handled for this question."
      ]
    },
    {
      "cell_type": "code",
      "execution_count": 60,
      "metadata": {
        "id": "xBZrRcs55qt_"
      },
      "outputs": [],
      "source": [
        "import re\n",
        "\n",
        "def function_renamer(code):\n",
        "  regex = re.compile('def\\s+(\\w+)')\n",
        "  function_names=regex.findall(code)\n",
        "  function_info={}\n",
        "  for function_name in function_names:\n",
        "    camel_case1=[]\n",
        "    if function_name[0]=='_':\n",
        "      camel_case1.append(function_name[0])\n",
        "      a=function_name[1:].split('_')\n",
        "      for i in a:\n",
        "        camel_case1.append(i.title())\n",
        "        camel_1=''.join(camel_case1)\n",
        "      code=code.replace(function_name,camel_1)\n",
        "      function_info.update({function_name:{'hash':hash(function_name),'Camel_case':camel_1,'Allcaps':function_name.upper()}})\n",
        "      # print(code)\n",
        "\n",
        "    else:\n",
        "      a=function_name.split('_')\n",
        "      for i in a:\n",
        "        camel_case1.append(i.title())\n",
        "        camel_1=''.join(camel_case1)\n",
        "      code=code.replace(function_name,camel_1)\n",
        "      function_info.update({function_name:{'hash':hash(function_name),'Camel_case':camel_1,'Allcaps':function_name.upper()}})\n",
        "    # print(code)\n",
        "  return function_info,code\n",
        "\n"
      ]
    },
    {
      "cell_type": "code",
      "source": [
        "code='''def add_two_numbers(a, b):\n",
        "  return a + b\n",
        "  print(add_two_numbers(10, 20))'''\n",
        "\n",
        "function_info,new_code=function_renamer(code)\n",
        "print(function_info)\n",
        "print(new_code)"
      ],
      "metadata": {
        "colab": {
          "base_uri": "https://localhost:8080/"
        },
        "id": "0yf0AFzy4uYj",
        "outputId": "f9b3a9b4-b1b0-4fce-eaf1-ec890bf0bd8d"
      },
      "execution_count": 61,
      "outputs": [
        {
          "output_type": "stream",
          "name": "stdout",
          "text": [
            "{'add_two_numbers': {'hash': 7176261155372647106, 'Camel_case': 'AddTwoNumbers', 'Allcaps': 'ADD_TWO_NUMBERS'}}\n",
            "def AddTwoNumbers(a, b):\n",
            "  return a + b\n",
            "  print(AddTwoNumbers(10, 20))\n"
          ]
        }
      ]
    },
    {
      "cell_type": "code",
      "source": [
        "code='''def _major_split(*args):\n",
        "        return (args[:2], args[2:])\n",
        "\n",
        "\n",
        "      def CheckTruth(t = True):\n",
        "        print(’t is’, t)\n",
        "        return _major_split([t]*10)\n",
        "\n",
        "      x, y = _major_split((10, 20, 30, 40, 50))\n",
        "\n",
        "\n",
        "\n",
        "  CheckTruth(len(x) == 10)'''\n",
        "function_info,new_code=function_renamer(code)\n",
        "print(function_info)\n",
        "print(new_code)"
      ],
      "metadata": {
        "colab": {
          "base_uri": "https://localhost:8080/"
        },
        "id": "sBBqWagK7Onw",
        "outputId": "06072859-9d3f-4082-c054-5ec8d5cafbf4"
      },
      "execution_count": 62,
      "outputs": [
        {
          "output_type": "stream",
          "name": "stdout",
          "text": [
            "{'_major_split': {'hash': 5782864941533341404, 'Camel_case': '_MajorSplit', 'Allcaps': '_MAJOR_SPLIT'}, 'CheckTruth': {'hash': 1726540424911925916, 'Camel_case': 'Checktruth', 'Allcaps': 'CHECKTRUTH'}}\n",
            "def _MajorSplit(*args):\n",
            "        return (args[:2], args[2:])\n",
            "\n",
            "\n",
            "      def Checktruth(t = True):\n",
            "        print(’t is’, t)\n",
            "        return _MajorSplit([t]*10)\n",
            "\n",
            "      x, y = _MajorSplit((10, 20, 30, 40, 50))\n",
            "\n",
            "\n",
            "\n",
            "  Checktruth(len(x) == 10)\n"
          ]
        }
      ]
    },
    {
      "cell_type": "markdown",
      "metadata": {
        "id": "TSSWnkRKpDmB"
      },
      "source": [
        "## Submit your solution\n",
        "\n",
        "Once you are finish with the test, please make sure that you have renamed your solutions in the format given ahead ex. **python_test(pranav_uikey)** and submit it using this [following link](https://github.com/Ai-Adventures/Python_test_submissions)"
      ]
    },
    {
      "cell_type": "markdown",
      "metadata": {
        "id": "3DGlZHtVnU0A"
      },
      "source": [
        "## All The Best!!"
      ]
    }
  ],
  "metadata": {
    "colab": {
      "provenance": []
    },
    "kernelspec": {
      "display_name": "Python 3",
      "language": "python",
      "name": "python3"
    },
    "language_info": {
      "name": "python",
      "version": "3.7.10-final"
    }
  },
  "nbformat": 4,
  "nbformat_minor": 0
}