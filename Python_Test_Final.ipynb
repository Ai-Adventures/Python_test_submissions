{
 "cells": [
  {
   "cell_type": "markdown",
   "metadata": {
    "id": "AoBhB2LUBoyf"
   },
   "source": [
    "## Python Test\n",
    "\n",
    "### Instructions:\n",
    "\n",
    "You are given with Python coding problems. These problems will give you the chance to test your implementations of the questions. Each code runs your implementations for a number of testcases. You use the test codes to make sure that:\n",
    "\n",
    "    • Your function does not crash, that is, there is no Python errors when trying to run the\n",
    "    function.\n",
    "\n",
    "    • Compare the results of the testcases to your results. Expected results are given at the\n",
    "    end of each code.\n",
    "\n",
    "\n",
    "In each problem, replace pass command with your implementation of each required function."
   ]
  },
  {
   "cell_type": "markdown",
   "metadata": {
    "id": "a9aj25yKCjXR"
   },
   "source": [
    "### Question 1 - Arithmetic\n",
    "\n",
    "In this question, your task is to implement a function `do_arithmetic(x,y,op)` which takes three input arguments: a number x,\n",
    "a number y, and a string op representing an operation. The function has to perform the\n",
    "operation on the two numbers and return the result.\n",
    "\n",
    "- Example 1: if you call the function with the parameter `do_arithmetic(10,4,’add’)` the function should return the value 14.0.\n",
    "\n",
    "- Example 2: `do_arithmetic(2,3,’*’)` should return 6.0.\n",
    "\n",
    "**Detailed instructions:**\n",
    "-  You can assume that x and y are always provided and always valid numbers (e.g. integers or floats).\n",
    "\n",
    "- `op` is a string representing the operation to perform. You have to implement four operations with ’add’, ’+’, ’subtract’, ’-’, ’multiply’, ’*’, and ’divide’, ’/’.\n",
    "\n",
    "- If `op` is not specified by the user it should default to ’add’.\n",
    "\n",
    "- If `op` is specified by the user but it is not one of the four operations (with eight keywords), print ’Unknown operation’ and return None.\n",
    "\n",
    "- Division by zero should be avoided. To this end, return None whenever division by zero would occur, and print ’Division by 0!’\n",
    "\n",
    "- The returned result should always be of type float.\n",
    "\n",
    "Test code: The following test cases will be tested:\n",
    "\n",
    "`do_arithmetic(24, -7, 'add')`\n",
    "- Expected result:- 17.0\n",
    "\n",
    "`do_arithmetic(6, 6, 'multiply')`\n",
    "- Expected result:- 36.0\n",
    "\n",
    "`do_arithmetic(4, 0, '/')`\n",
    "- Expected result: \"Division by Zero!\"\n",
    "\n",
    "`do_arithmetic(3, 9, '-')`\n",
    "- Expected result: -6.0\n",
    "\n",
    "`do_arithmetic(10, -43, 'subtract')`\n",
    "- Expected result: 53.0\n",
    "\n",
    "`do_arithmetic(3, 9)`\n",
    "- Expected result: 12.0"
   ]
  },
  {
   "cell_type": "code",
   "execution_count": 50,
   "metadata": {
    "id": "6qw-Ev62CZ55"
   },
   "outputs": [],
   "source": [
    "def do_arithmetic(x, y,op='+'): #Default argument op='+'\n",
    "    try:\n",
    "        if op == '+' or op == 'add' :\n",
    "            Addition=x+y\n",
    "            return (f'Expected result:- {float(Addition)}')\n",
    "\n",
    "        elif op == '*' or op == 'multiply' :\n",
    "            Multiply=x*y\n",
    "            return (f\"Expected result:- {float(Multiply)}\")\n",
    "        elif op == '/' or op =='division' :\n",
    "            Division=x/y\n",
    "            return (f\"Expected result:- {float(Division)}\")\n",
    "        elif op == '-' or op =='subtract'  :\n",
    "            Substraction=x-y\n",
    "            return (f\"Expected result:- {float(Substraction)}\")\n",
    "        else:\n",
    "            Add=x+y\n",
    "            return (float(Add))\n",
    "    except Exception as e :\n",
    "        return (f'Error Occured: {e}')\n",
    "\n",
    "    else:\n",
    "        return ('Code is completely execute')\n",
    "        \n",
    "        \n",
    "\n"
   ]
  },
  {
   "cell_type": "code",
   "execution_count": 51,
   "metadata": {},
   "outputs": [
    {
     "data": {
      "text/plain": [
       "'Expected result:- 17.0'"
      ]
     },
     "execution_count": 51,
     "metadata": {},
     "output_type": "execute_result"
    }
   ],
   "source": [
    "do_arithmetic(24, -7, 'add')"
   ]
  },
  {
   "cell_type": "code",
   "execution_count": 52,
   "metadata": {},
   "outputs": [
    {
     "data": {
      "text/plain": [
       "'Expected result:- 36.0'"
      ]
     },
     "execution_count": 52,
     "metadata": {},
     "output_type": "execute_result"
    }
   ],
   "source": [
    "do_arithmetic(6, 6, 'multiply')"
   ]
  },
  {
   "cell_type": "code",
   "execution_count": 53,
   "metadata": {},
   "outputs": [
    {
     "data": {
      "text/plain": [
       "'Error Occured: division by zero'"
      ]
     },
     "execution_count": 53,
     "metadata": {},
     "output_type": "execute_result"
    }
   ],
   "source": [
    "do_arithmetic(4, 0, '/')"
   ]
  },
  {
   "cell_type": "code",
   "execution_count": 54,
   "metadata": {},
   "outputs": [
    {
     "data": {
      "text/plain": [
       "'Expected result:- -6.0'"
      ]
     },
     "execution_count": 54,
     "metadata": {},
     "output_type": "execute_result"
    }
   ],
   "source": [
    "do_arithmetic(3, 9, '-')"
   ]
  },
  {
   "cell_type": "code",
   "execution_count": 55,
   "metadata": {},
   "outputs": [
    {
     "data": {
      "text/plain": [
       "'Expected result:- 53.0'"
      ]
     },
     "execution_count": 55,
     "metadata": {},
     "output_type": "execute_result"
    }
   ],
   "source": [
    "do_arithmetic(10, -43, 'subtract')"
   ]
  },
  {
   "cell_type": "code",
   "execution_count": 56,
   "metadata": {},
   "outputs": [
    {
     "data": {
      "text/plain": [
       "'Expected result:- 12.0'"
      ]
     },
     "execution_count": 56,
     "metadata": {},
     "output_type": "execute_result"
    }
   ],
   "source": [
    "do_arithmetic(3, 9)"
   ]
  },
  {
   "cell_type": "code",
   "execution_count": 47,
   "metadata": {},
   "outputs": [
    {
     "name": "stdout",
     "output_type": "stream",
     "text": [
      "Enter a First Number: 5\n",
      "Enter a second Number: 4\n",
      "\n",
      "9\n",
      "Code is completely execute\n"
     ]
    }
   ],
   "source": [
    "x=int(input('Enter a First Number: '))\n",
    "y=int(input('Enter a second Number: '))\n",
    "op=str(input()).title()\n",
    "\n",
    "try:\n",
    "    if op == '+' or op == 'Add' :\n",
    "        print(x+y)\n",
    "\n",
    "    elif op == '*' or op == 'Multiply' :\n",
    "        print(x * y)\n",
    "    elif op == '/' or op =='Division' :\n",
    "        print(x/y)\n",
    "    elif op == '-' or op =='Subtract'  :\n",
    "        print(x-y)\n",
    "    else:\n",
    "        print(x+y)\n",
    "except Exception as e :\n",
    "    print(f'Error Occured: {e}')\n",
    "    \n",
    "else:\n",
    "    print('Code is completely execute')\n"
   ]
  },
  {
   "cell_type": "code",
   "execution_count": null,
   "metadata": {},
   "outputs": [],
   "source": []
  },
  {
   "cell_type": "markdown",
   "metadata": {
    "id": "oiXY9pAQD5bE"
   },
   "source": [
    "### Question 2 - Sum of digits\n",
    "\n",
    "Write a function `sum_of_digits(s)` that takes as input a string s that contains some numbers. The function calculates the sum of all the digits in the string, ignoring any symbols that\n",
    "are not digits.\n",
    "\n",
    "• Example: `sum_of_digits(\"123\")` should return 6 since 1+2+3 = 6\n",
    "\n",
    "• Example 2: `sum_of_digits(\"10a20\")` should return 3 because 1+0+2+0 = 3.\n",
    "Detailed instructions:\n",
    "\n",
    "- if s includes both digits and nondigits\n",
    " \n",
    "  – Calculate the sum of digits and return the result whilst ignoring any\n",
    "  \n",
    "  non-digit symbols in the string.\n",
    "  \n",
    "  – print e.g. for `sum_of_digits(\"10a20\")`\n",
    "  \n",
    "  ’The sum of digits operation performs 1+0+2+0’\n",
    "\n",
    "  – Save the extracted non-digits in a variable of interest as a list and print \"The extracted non-digits are: [’a’]\"\n",
    "\n",
    "- If s is not provided or an empty string return 0 and print\n",
    "  \n",
    "  ’Empty string entered!’.\n",
    "\n",
    "- If s is provided, but it contains no digits return 0 and print\n",
    "  \n",
    "  ’The sum of digits operation could not detect a digit!’\n",
    "  \n",
    "  ’The returned input letters are: [ALL NONDIGITS HERE]’\n",
    "\n",
    "- The returned number should be an integer.\n",
    "\n",
    "  - Example 1: When you run `sum_of_digits(\"a1w3\")` , the function should print\n",
    "    \n",
    "    The sum of digits operation performs 1+3\n",
    "    \n",
    "    The extracted non-digits are: [’a’, ’w’]\n",
    "    \n",
    "    4\n",
    "\n",
    "  - Example 2: When you run `sum_of_digits(\"united\")`, the function should print\n",
    "    \n",
    "    The sum of digits operation could not detect a digit!\n",
    "\n",
    "    The returned input letters are: [’u’, ’n’, ’i’, ’t’, ’e’, ’d’]\n",
    "    \n",
    "    0\n",
    "\n",
    "Test code: The following test cases will be tested:\n",
    "\n",
    "`sum_of_digits(\"123\")`\n",
    "\n",
    "- Expected result: \n",
    "  \n",
    "  The sum of digit operation performs 1 + 2 + 3\n",
    "  \n",
    "  The extracted non-digits are []\n",
    "  \n",
    "  6\n",
    "\n",
    "`sum_of_digits(\"we10a20b\")`\n",
    "\n",
    "- Expected result: \n",
    "\n",
    "  The sum of digit operation performs 1 + 0 + 2 + 0\n",
    "\n",
    "  The extracted non-digits are ['w', 'e', 'a', 'b']\n",
    "\n",
    "  3\n",
    "\n",
    "`sum_of_digits(\"united\")`\n",
    "- Expected result: \n",
    "\n",
    "  The sum of digits operation could not detect a digit!\n",
    "  \n",
    "  The extracted non-digits are ['u', 'n', 'i', 't', 'e', 'd']\n",
    "  \n",
    "  0\n",
    "\n",
    "`sum_of_digits(\"\")`\n",
    "\n",
    "- Expected result:\n",
    "\n",
    "  The sum of digits operation could not detect a digit!\n",
    "  \n",
    "  The extracted non-digits are []\n",
    "  \n",
    "  0"
   ]
  },
  {
   "cell_type": "code",
   "execution_count": 4,
   "metadata": {
    "id": "quwAzI41D44Y"
   },
   "outputs": [],
   "source": [
    "def sum_of_digits(s):\n",
    "    lnum=[]\n",
    "    lalpha=[]\n",
    "    lschar=[]\n",
    "    digit_number=' '\n",
    "    c=0\n",
    "    \n",
    "    for i in s :\n",
    "    #     for j in i :\n",
    "    \n",
    "            if i.isdigit():\n",
    "                lnum.append(i)\n",
    "                digit_number='+'.join(lnum)\n",
    "                c=c+(int(i))\n",
    "            elif i.isalpha():\n",
    "                lalpha.append(i)\n",
    "            else:\n",
    "                lschar.append(i)\n",
    "\n",
    "    if c==0:\n",
    "        print('The sum of digits operation could not detect a digit!')\n",
    "    else:\n",
    "        print (f'The sum of digits operation performs: {digit_number} ={c} ')\n",
    "    print (f'The extracted non-digits are: {lalpha}' )\n",
    "    print (f'Special character: {lschar}')"
   ]
  },
  {
   "cell_type": "code",
   "execution_count": 6,
   "metadata": {},
   "outputs": [
    {
     "name": "stdout",
     "output_type": "stream",
     "text": [
      "The sum of digits operation could not detect a digit!\n",
      "The extracted non-digits are: ['A', 'v', 'i', 'n', 'a', 's', 'h']\n",
      "Special character: []\n"
     ]
    }
   ],
   "source": [
    "sum_of_digits(\"Avinash\")"
   ]
  },
  {
   "cell_type": "code",
   "execution_count": 24,
   "metadata": {},
   "outputs": [
    {
     "name": "stdout",
     "output_type": "stream",
     "text": [
      "The sum of digits operation could not detect a digit!\n",
      "The extracted non-digits are: ['u', 'n', 'i', 't', 'e', 'd']\n",
      "Special character: []\n"
     ]
    }
   ],
   "source": [
    "sum_of_digits(\"united\")"
   ]
  },
  {
   "cell_type": "code",
   "execution_count": 25,
   "metadata": {},
   "outputs": [
    {
     "name": "stdout",
     "output_type": "stream",
     "text": [
      "The sum of digits operation could not detect a digit!\n",
      "The extracted non-digits are: []\n",
      "Special character: []\n"
     ]
    }
   ],
   "source": [
    "sum_of_digits(\"\")"
   ]
  },
  {
   "cell_type": "code",
   "execution_count": null,
   "metadata": {},
   "outputs": [],
   "source": []
  },
  {
   "cell_type": "code",
   "execution_count": null,
   "metadata": {},
   "outputs": [],
   "source": []
  },
  {
   "cell_type": "code",
   "execution_count": 13,
   "metadata": {},
   "outputs": [
    {
     "name": "stdout",
     "output_type": "stream",
     "text": [
      "Enter a characters:1a3p4\n",
      "8\n"
     ]
    }
   ],
   "source": [
    "s=input('Enter a characters:')\n",
    "# l=[]\n",
    "c=0\n",
    "for i in s :\n",
    "    if i.isdigit():\n",
    "        c=c+(int(i))\n",
    "print(c)\n",
    "\n",
    "              "
   ]
  },
  {
   "cell_type": "code",
   "execution_count": 20,
   "metadata": {},
   "outputs": [
    {
     "name": "stdout",
     "output_type": "stream",
     "text": [
      "Enter a character: rwtyuiiiajj\n",
      "The sum of digits operation could not detect a digit!\n",
      "The extracted non-digits are: ['r', 'w', 't', 'y', 'u', 'i', 'i', 'i', 'a', 'j', 'j']\n",
      "Special character: []\n"
     ]
    }
   ],
   "source": [
    "s=input('Enter a character: ')\n",
    "lnum=[]\n",
    "lalpha=[]\n",
    "lschar=[]\n",
    "digit_number=' '\n",
    "c=0\n",
    "\n",
    "for i in s :\n",
    "#     for j in i :\n",
    "  \n",
    "        if i.isdigit():\n",
    "            lnum.append(i)\n",
    "            digit_number='+'.join(lnum)\n",
    "            c=c+(int(i))\n",
    "        elif i.isalpha():\n",
    "            lalpha.append(i)\n",
    "        else:\n",
    "            lschar.append(i)\n",
    "            \n",
    "# nested if use in if condition(if i.isdigit() ) \n",
    "if c==0:\n",
    "    print('The sum of digits operation could not detect a digit!')\n",
    "else:\n",
    "    print (f'The sum of digits operation performs: {digit_number} ={c} ')\n",
    "print (f'The extracted non-digits are: {lalpha}' )\n",
    "print (f'Special character: {lschar}')"
   ]
  },
  {
   "cell_type": "code",
   "execution_count": null,
   "metadata": {},
   "outputs": [],
   "source": []
  },
  {
   "cell_type": "code",
   "execution_count": null,
   "metadata": {},
   "outputs": [],
   "source": []
  },
  {
   "cell_type": "code",
   "execution_count": 19,
   "metadata": {},
   "outputs": [
    {
     "name": "stdout",
     "output_type": "stream",
     "text": [
      "Enter a characters: dsfgahjj\n"
     ]
    },
    {
     "data": {
      "text/plain": [
       "0"
      ]
     },
     "execution_count": 19,
     "metadata": {},
     "output_type": "execute_result"
    }
   ],
   "source": [
    "s=str(input('Enter a characters: '))\n",
    "sum(int(c) for c in s if c.isdigit())"
   ]
  },
  {
   "cell_type": "markdown",
   "metadata": {
    "id": "Ho-lFx1GFOvj"
   },
   "source": [
    "### Question 3 - Pluralize\n",
    "\n",
    "Please download following file named `pronoun.txt` before you solve this questions the link is given below:\n",
    "\n",
    "[Required file link](https://cdn.discordapp.com/attachments/953213295710584862/974555326865100830/pronoun.txt)\n",
    "\n",
    "Write a function `pluralize(word)` that determines the plural of an English word.\n",
    "Input: Your function takes one argument as input, word, a string representing the word to be\n",
    "pluralised. We assume this word will only be one single token, i.e., no spaces. Your function will also have to load the text file `proper nouns.txt`.\n",
    "\n",
    "Output: The function should return a dictionary of the form:\n",
    "  - {’plural’: word_in_plural, ’status’: x}\n",
    "\n",
    "\n",
    "where word_in_plural is the pluralized version of the input argument word and x is a\n",
    "string which can have one of the following values: ’empty_string’, ’proper_noun’, ’\n",
    "already_in_plural’, ’success’.\n",
    "\n",
    "\n",
    "Below is the logic (in order) that the function should execute.\n",
    "\n",
    "1) Determine if the word is an empty string, already in plural, or a proper noun.\n",
    "\n",
    "    • If the word is an empty string, then your function returns a dictionary with the following values:\n",
    "    \n",
    "      – word_in_plural = ’’ and x = ’empty_string’\n",
    "    \n",
    "      – Explanation: The input word is an empty string and it cannot be pluralized.\n",
    "    \n",
    "    • If the word is already in plural, then your function returns a dictionary with the following values:\n",
    "    \n",
    "      – word_in_plural = word and x = ’already_in_plural’.\n",
    "    \n",
    "      – Explanation: The input word remains untouched (e.g., input: houses, output: houses).\n",
    "    \n",
    "    • If the word is a proper noun, then your function returns a dictionary with the following values:\n",
    "    \n",
    "      – word_in_plural = word and x = ’proper_noun’.\n",
    "    \n",
    "      – Explanation: The input word is a proper noun, and therefore cannot be pluralized (e.g., input: Adam, output: Adam).\n",
    "\n",
    "    • How to determine plural form: We will assume a word is in plural if it ends with ’s’.\n",
    "\n",
    "    • How to determine if a word is a proper noun: We will assume a word is a proper noun if it exists in the file proper nouns.txt. Note that your function should convert any capitalised input to lower case first because the proper nouns in the list are all lower case. The values in your output dictionary, however, will retain the original capitalisation\n",
    "\n",
    "2) If the word is not plural and is not a proper noun, then:\n",
    "  Apply the following English plural rules.\n",
    "    \n",
    "    • If the word ends with a vowel:\n",
    "        – add -s.\n",
    "    \n",
    "    • Otherwise:\n",
    "        \n",
    "        – If it ends with ’y’ and is preceded by a consonant, erase the last letter and add\n",
    "        \n",
    "          -ies.\n",
    "        \n",
    "        – If it ends with ’f’, erase the last letter and add -ves.\n",
    "        \n",
    "        – If it ends with ’sh’/’ch’/’z’, add -es.\n",
    "        \n",
    "        – If none of the above applies, just add -s.\n",
    "\n",
    "    • After these rules are applied, your output dictionary should be:\n",
    "        – {’plural’: word_in_plural, ’status’: ’success’}\n",
    "\n",
    "\n",
    "Test code: The following test cases will be tested:\n",
    "\n",
    "`pluralize(\"failure\")`\n",
    "- Expected result: `{'plural':'failures', 'status':'success'}`\n",
    "\n",
    "`pluralize(\"food\")`\n",
    "- Expected result: `{'plural':'foods', 'status':'success'}`\n",
    "\n",
    "`pluralize(\"Zulma\")`\n",
    "- Expected result: `{'plural':'zulma', 'status':'proper_noun'}`\n",
    "\n",
    "`pluralize(\"injury\")`\n",
    "- Expected result: `{'plural':'injuries', 'status':'success'}`\n",
    "\n",
    "`pluralize(\"elf\")`\n",
    "- Expected result: `{'plural':'elves', 'status':'success'}`\n",
    "\n",
    "`pluralize(\"buzz\")`\n",
    "- Expected result: `{'plural':'buzzes', 'status':'success'}`\n",
    "\n",
    "`pluralize(\"computers\")`\n",
    "- Expected result: `{'plural':'computers', 'status':'already_in_plural'}`\n",
    "\n",
    "`pluralize(\"PCs\")`\n",
    "- Expected result: `{'plural':'PCs', 'status':'already_in_plural'}`\n",
    "\n",
    "`pluralize(\"\")`\n",
    "- Expected result: `{'plural':'', 'status':'empty_string'}`\n",
    "\n",
    "`pluralize(\"highway\")`\n",
    "- Expected result: `{'plural':'highways', 'status':'success'}`\n",
    "\n",
    "`pluralize(\"presentation\")`\n",
    "- Expected result: `{'plural':'presentations', 'status':'success'}`\n",
    "\n",
    "`pluralize(\"pouch\")`\n",
    "- Expected result: `{'plural':'pouches', 'status':'success'}`\n",
    "\n",
    "`pluralize(\"COVID-19\")`\n",
    "- Expected result: `{'plural':'COVID-19s', 'status':'success'}`\n",
    "\n",
    "`pluralize(\"adam\")`\n",
    "- Expected result: `{'plural':'adam', 'status':'proper_noun'}`\n"
   ]
  },
  {
   "cell_type": "code",
   "execution_count": null,
   "metadata": {},
   "outputs": [],
   "source": []
  },
  {
   "cell_type": "code",
   "execution_count": 115,
   "metadata": {},
   "outputs": [],
   "source": [
    "\n",
    "def pluralize(word):\n",
    "\n",
    "    if not word :\n",
    "        return {'word_in_plural':word,'x' :'empty_string'}\n",
    "\n",
    "    if word.endswith('s'):\n",
    "        return {'word_in_plural':word,'x' : 'already_in_plural'}\n",
    "\n",
    "    lowercase_word=word.lower()\n",
    "    with open (\"pronoun.txt\",'r') as file:\n",
    "        \n",
    "        proper_nouns=[line.strip().lower() for line in file ]\n",
    "#         for line in file :\n",
    "#             proper_nouns=line.strip().lower()\n",
    "    file.close()\n",
    "    if lowercase_word in proper_nouns :\n",
    "        return {'word_in_plural':word,'x' : 'proper_noun'}\n",
    "    #     else:\n",
    "    #         return {'word_in_plural':word+'s','x' : 'empty_string_nor_proper_noun'}\n",
    "\n",
    "# pluralize('adam')\n",
    "    vowel_pattern='aeiuo'\n",
    "    pluralized_word=\"\"\n",
    "    if word[-1] in vowel_pattern :\n",
    "        pluralized_word=word+'s'\n",
    "#         print(pluralized_word)\n",
    "\n",
    "    elif word.endswith('y') and word[-2] not in vowel_pattern :\n",
    "        pluralized_word=word[:-1]+'ies'\n",
    "#         print(pluralized_word)\n",
    "\n",
    "    elif word.endswith('f'):\n",
    "        pluralized_word=word[:-1]+'ves'\n",
    "#         print(pluralized_word)\n",
    "\n",
    "    elif word.endswith('sh') or word.endswith('ch') or word.endswith('z'):\n",
    "        pluralized_word=word+'es'\n",
    "#         print(pluralized_word)\n",
    "\n",
    "    else:\n",
    "        pluralized_word=word+'s'\n",
    "#         print(pluralized_word)\n",
    "    \n",
    "    return {'plural':pluralized_word, 'status': 'success'}\n"
   ]
  },
  {
   "cell_type": "code",
   "execution_count": 116,
   "metadata": {},
   "outputs": [
    {
     "data": {
      "text/plain": [
       "{'plural': 'failures', 'status': 'success'}"
      ]
     },
     "execution_count": 116,
     "metadata": {},
     "output_type": "execute_result"
    }
   ],
   "source": [
    "pluralize(\"failure\")"
   ]
  },
  {
   "cell_type": "code",
   "execution_count": 117,
   "metadata": {},
   "outputs": [
    {
     "data": {
      "text/plain": [
       "{'plural': 'foods', 'status': 'success'}"
      ]
     },
     "execution_count": 117,
     "metadata": {},
     "output_type": "execute_result"
    }
   ],
   "source": [
    "pluralize(\"food\")"
   ]
  },
  {
   "cell_type": "code",
   "execution_count": 118,
   "metadata": {},
   "outputs": [
    {
     "data": {
      "text/plain": [
       "{'word_in_plural': 'Zulma', 'x': 'proper_noun'}"
      ]
     },
     "execution_count": 118,
     "metadata": {},
     "output_type": "execute_result"
    }
   ],
   "source": [
    "pluralize(\"Zulma\")"
   ]
  },
  {
   "cell_type": "code",
   "execution_count": 119,
   "metadata": {},
   "outputs": [
    {
     "data": {
      "text/plain": [
       "{'plural': 'injuries', 'status': 'success'}"
      ]
     },
     "execution_count": 119,
     "metadata": {},
     "output_type": "execute_result"
    }
   ],
   "source": [
    "pluralize(\"injury\")"
   ]
  },
  {
   "cell_type": "code",
   "execution_count": 120,
   "metadata": {},
   "outputs": [
    {
     "data": {
      "text/plain": [
       "{'plural': 'elves', 'status': 'success'}"
      ]
     },
     "execution_count": 120,
     "metadata": {},
     "output_type": "execute_result"
    }
   ],
   "source": [
    "pluralize(\"elf\")"
   ]
  },
  {
   "cell_type": "code",
   "execution_count": 121,
   "metadata": {},
   "outputs": [
    {
     "data": {
      "text/plain": [
       "{'plural': 'buzzes', 'status': 'success'}"
      ]
     },
     "execution_count": 121,
     "metadata": {},
     "output_type": "execute_result"
    }
   ],
   "source": [
    "pluralize(\"buzz\")"
   ]
  },
  {
   "cell_type": "code",
   "execution_count": 122,
   "metadata": {},
   "outputs": [
    {
     "data": {
      "text/plain": [
       "{'word_in_plural': 'computers', 'x': 'already_in_plural'}"
      ]
     },
     "execution_count": 122,
     "metadata": {},
     "output_type": "execute_result"
    }
   ],
   "source": [
    "pluralize(\"computers\")"
   ]
  },
  {
   "cell_type": "code",
   "execution_count": 123,
   "metadata": {},
   "outputs": [
    {
     "data": {
      "text/plain": [
       "{'word_in_plural': 'PCs', 'x': 'already_in_plural'}"
      ]
     },
     "execution_count": 123,
     "metadata": {},
     "output_type": "execute_result"
    }
   ],
   "source": [
    "pluralize(\"PCs\")"
   ]
  },
  {
   "cell_type": "code",
   "execution_count": 124,
   "metadata": {},
   "outputs": [
    {
     "data": {
      "text/plain": [
       "{'word_in_plural': '', 'x': 'empty_string'}"
      ]
     },
     "execution_count": 124,
     "metadata": {},
     "output_type": "execute_result"
    }
   ],
   "source": [
    "pluralize(\"\")"
   ]
  },
  {
   "cell_type": "code",
   "execution_count": 125,
   "metadata": {},
   "outputs": [
    {
     "data": {
      "text/plain": [
       "{'plural': 'highways', 'status': 'success'}"
      ]
     },
     "execution_count": 125,
     "metadata": {},
     "output_type": "execute_result"
    }
   ],
   "source": [
    "pluralize(\"highway\")"
   ]
  },
  {
   "cell_type": "code",
   "execution_count": 126,
   "metadata": {},
   "outputs": [
    {
     "data": {
      "text/plain": [
       "{'plural': 'presentations', 'status': 'success'}"
      ]
     },
     "execution_count": 126,
     "metadata": {},
     "output_type": "execute_result"
    }
   ],
   "source": [
    "pluralize(\"presentation\")"
   ]
  },
  {
   "cell_type": "code",
   "execution_count": 127,
   "metadata": {},
   "outputs": [
    {
     "data": {
      "text/plain": [
       "{'plural': 'pouches', 'status': 'success'}"
      ]
     },
     "execution_count": 127,
     "metadata": {},
     "output_type": "execute_result"
    }
   ],
   "source": [
    "pluralize(\"pouch\")"
   ]
  },
  {
   "cell_type": "code",
   "execution_count": 104,
   "metadata": {},
   "outputs": [
    {
     "data": {
      "text/plain": [
       "{'plural': 'COVID-19s', 'status': 'success'}"
      ]
     },
     "execution_count": 104,
     "metadata": {},
     "output_type": "execute_result"
    }
   ],
   "source": [
    "pluralize(\"COVID-19\")"
   ]
  },
  {
   "cell_type": "code",
   "execution_count": 105,
   "metadata": {},
   "outputs": [
    {
     "data": {
      "text/plain": [
       "{'word_in_plural': 'adam', 'x': 'proper_noun'}"
      ]
     },
     "execution_count": 105,
     "metadata": {},
     "output_type": "execute_result"
    }
   ],
   "source": [
    "pluralize(\"adam\")"
   ]
  },
  {
   "cell_type": "code",
   "execution_count": null,
   "metadata": {},
   "outputs": [],
   "source": []
  },
  {
   "cell_type": "code",
   "execution_count": null,
   "metadata": {},
   "outputs": [],
   "source": []
  },
  {
   "cell_type": "markdown",
   "metadata": {
    "id": "-XQCi9ydHG9t"
   },
   "source": [
    "### Question 4 - Function renamer\n",
    "\n",
    "\n",
    "You are working on a large-scale software project involving thousands of different Python files. The files have been written by different programmers and the naming of functions is somewhat inconsistent. You receive a new directive stating that the function names all have to be in camel case. In camel case, function names consisting of multiple words have a capital letter in each word and most underscores are removed. For instance, `def MyArithmeticCalculator()` is in camel case but `def my_arithmetic_calculator()` is not in camel case.\n",
    "\n",
    "You want to write a Python program that automatically processes Python code and renames the function names instead of doing it by hand. The instruction states that:\n",
    "\n",
    "  1.) All functions names need to be changed to camel case. E.g. a function\n",
    "  `calculate_speed_of_vehicle()` needs to be renamed to `CalculateSpeedOfVehicle()`.\n",
    "\n",
    "  2.) If the function has one or more leading ’_’ (underscores) they need to be preserved.\n",
    "\n",
    "  All other underscores need to be removed. E.g. a function `__calc_size()` is renamed to `__CalcSize()`.\n",
    "\n",
    "  3.) If the function is already in camel case, you do not need to change it but it still needs to appear in the dictionary d specified below.\n",
    "\n",
    "  4.) You can assume that there will be no name clashes. That is, a given function name which is not in camel case will not already appear in camel case elsewhere. E.g.if there is a function `print_all_strings()` then there is no function `PrintAllStrings()` elsewhere in the code.\n",
    "\n",
    "5.) Tip: You can use regular expressions to find the function names.\n",
    "\n",
    "\n",
    "To implement this, write a function `function_renamer(code)` that takes as input a string code that represents the Python code. It is typically a multi-line Python string. Your function needs to return the tuple `(d, newcode)`:\n",
    "\n",
    "  • `d` is a nested dictionary where each key corresponds to the original function name. The value is a nested dictionary that has the following items:\n",
    "\n",
    "    – hash: hash code of the original function name (tip: use Python’s hash function)\n",
    "\n",
    "    – camelcase: camel case version of original function name\n",
    "\n",
    "    – allcaps: all caps version of original function name\n",
    "\n",
    "  • newcode is a string containing the code wherein all function names have been renamed by their camel case versions. Note that you need to change the function name and also all other locations where the function name is used (e.g. function calls). You should not change anything else in the code (e.g. the contents of any strings). To clarify this, a few examples are given below:\n",
    "    - Example 1: Assume your input code is the multi-line string\n",
    "    \n",
    "        def add_two_numbers(a, b):\n",
    "          return a + b\n",
    "          print(add_two_numbers(10, 20))\n",
    " \n",
    "    \n",
    "    \n",
    "      After processing it with your function, the code should be changed to\n",
    "\n",
    "        def AddTwoNumbers(a, b):\n",
    "          return a + b\n",
    "        print(AddTwoNumbers(10, 20))\n",
    "\n",
    "        The nested dictionary is given by\n",
    "        d = {’add_two_numbers’:\n",
    "        {’hash’:-9214996652071026704,\n",
    "        ’camelcase’:’AddTwoNumbers’,\n",
    "        ’allcaps’:’ADD_TWO_NUMBERS’} }\n",
    "\n",
    "\n",
    "    - Example 2: Assume your input code is the multi-line string\n",
    "          def _major_split(*args):\n",
    "            return (args[:2], args[2:])\n",
    "          \n",
    "          \n",
    "          def CheckTruth(t = True):\n",
    "            print(’t is’, t)\n",
    "            return _major_split([t]*10)\n",
    "          \n",
    "          x, y = _major_split((10, 20, 30, 40, 50))\n",
    "\n",
    "\n",
    "\n",
    "      CheckTruth(len(x) == 10)\n",
    "\n",
    "      After processing it with your function, the code should be changed to\n",
    "          def _MajorSplit(*args):\n",
    "            return (args[:2], args[2:])\n",
    "          \n",
    "          def CheckTruth(t = True):\n",
    "            print(’t is’, t)\n",
    "            return _MajorSplit([t]*10)\n",
    "          x, y = _MajorSplit((10, 20, 30, 40, 50))\n",
    "          \n",
    "          CheckTruth(len(x) == 10)\n",
    "          \n",
    "          The nested dictionary is given by\n",
    "          \n",
    "          d = {’CheckTruth’:\n",
    "          {’hash’:-6410081306665365595,\n",
    "          ’camelcase’:’CheckTruth’,\n",
    "          ’allcaps’:’CHECKTRUTH’,\n",
    "          ’_major_split’:\n",
    "          {’hash’:484498917506710667,\n",
    "          ’camelcase’:’_MajorSplit’,\n",
    "          ’allcaps’:’_MAJOR_SPLIT’}}\n",
    "\n",
    "\n",
    "\n",
    "Test code: The examples given above are the only test cases to be handled for this question."
   ]
  },
  {
   "cell_type": "code",
   "execution_count": null,
   "metadata": {
    "id": "FQy1xCBIJu5E"
   },
   "outputs": [],
   "source": [
    "def function_renamer(code):\n",
    "  # your code here\n",
    "  pass"
   ]
  },
  {
   "cell_type": "code",
   "execution_count": 38,
   "metadata": {},
   "outputs": [
    {
     "name": "stdout",
     "output_type": "stream",
     "text": [
      "After processing it with your function, the code should be changed to : \n",
      " \n",
      " def AddTwoNumbers(a, b):\n",
      "      return a + b\n",
      "      print(AddTwoNumbers(10, 20))\n",
      "\n",
      "original_name1: add_two_numbers\n",
      "Hash: 326964583695057512\n",
      "{'add_two_numbers': {'hash': 326964583695057512, 'camel case': 'AddTwoNumbers', 'allcaps': 'ADDTWONUMBERS'}}\n"
     ]
    }
   ],
   "source": [
    "Example1='''\n",
    " def add_two_numbers(a, b):\n",
    "      return a + b\n",
    "      print(add_two_numbers(10, 20))\n",
    "'''\n",
    "# print(f'Before processing it with your function :\\n {Example1}')\n",
    "d={}\n",
    "import re\n",
    "\n",
    "\n",
    "\n",
    "pattern=re.sub(r\"[a-zA-Z]+_[a-zA-Z]+_[a-zA-Z]+\",\"AddTwoNumbers\",Example1)\n",
    "\n",
    "print(f'After processing it with your function, the code should be changed to : \\n {pattern}')\n",
    "\n",
    "\n",
    "original_name=re.findall(\"[a-zA-Z]+_[a-zA-Z]+_[a-zA-Z]+\",Example1)\n",
    "original_name1=original_name[0]\n",
    "print('original_name1:',original_name1)\n",
    "\n",
    "#hashmethod use:\n",
    "hash_code=hash(original_name1)\n",
    "print('Hash:',hash_code)\n",
    "\n",
    "def display(original_name1):\n",
    "    return original_name1.title().replace('_','')\n",
    "display(original_name1)\n",
    "camel_case=display(original_name1)\n",
    "allcaps=camel_case.upper()\n",
    "d[original_name1]={\n",
    "    'hash':hash_code,\n",
    "    'camel case':camel_case,\n",
    "    'allcaps':allcaps\n",
    "    \n",
    "}\n",
    "print(d)"
   ]
  },
  {
   "cell_type": "code",
   "execution_count": 39,
   "metadata": {},
   "outputs": [
    {
     "ename": "SyntaxError",
     "evalue": "invalid character '’' (U+2019) (4047710496.py, line 7)",
     "output_type": "error",
     "traceback": [
      "\u001b[1;36m  Cell \u001b[1;32mIn[39], line 7\u001b[1;36m\u001b[0m\n\u001b[1;33m    print(’t is’, t)\u001b[0m\n\u001b[1;37m          ^\u001b[0m\n\u001b[1;31mSyntaxError\u001b[0m\u001b[1;31m:\u001b[0m invalid character '’' (U+2019)\n"
     ]
    }
   ],
   "source": [
    "# Example 2: Assume your input code is the multi-line string\n",
    "def _major_split(*args):\n",
    "    return (args[:2], args[2:])\n",
    "\n",
    "\n",
    "def CheckTruth(t = True):\n",
    "    print(’t is’, t)\n",
    "    return _major_split([t]*10)\n",
    "\n",
    "x, y = _major_split((10, 20, 30, 40, 50))\n",
    "\n",
    "CheckTruth(len(x) == 10)\n",
    "\n",
    "def _major_split(*args):\n",
    "return (args[:2],args[2:])\n",
    "\n",
    "def  \n"
   ]
  },
  {
   "cell_type": "code",
   "execution_count": 40,
   "metadata": {},
   "outputs": [
    {
     "ename": "SyntaxError",
     "evalue": "incomplete input (191976538.py, line 3)",
     "output_type": "error",
     "traceback": [
      "\u001b[1;36m  Cell \u001b[1;32mIn[40], line 3\u001b[1;36m\u001b[0m\n\u001b[1;33m    \u001b[0m\n\u001b[1;37m    ^\u001b[0m\n\u001b[1;31mSyntaxError\u001b[0m\u001b[1;31m:\u001b[0m incomplete input\n"
     ]
    }
   ],
   "source": [
    "import re\n",
    "def to_camel_case(match):\n",
    "    "
   ]
  },
  {
   "cell_type": "code",
   "execution_count": 41,
   "metadata": {},
   "outputs": [
    {
     "data": {
      "text/plain": [
       "326964583695057512"
      ]
     },
     "execution_count": 41,
     "metadata": {},
     "output_type": "execute_result"
    }
   ],
   "source": [
    "hash('add_two_numbers')"
   ]
  },
  {
   "cell_type": "code",
   "execution_count": 49,
   "metadata": {},
   "outputs": [
    {
     "name": "stdout",
     "output_type": "stream",
     "text": [
      "\n",
      " def add_two_numbers(a, b):\n",
      "      return a + b\n",
      "      print(add_two_numbers(10, 20))\n",
      "\n"
     ]
    }
   ],
   "source": [
    "import re\n",
    "pattern = re.compile(r'^[a-zA-Z_]\\w*\\([^)]*\\):$')\n",
    "Example1='''\n",
    " def add_two_numbers(a, b):\n",
    "      return a + b\n",
    "      print(add_two_numbers(10, 20))\n",
    "'''\n",
    "# ex=pattern.findall(Example1)\n",
    "# print(ex)\n",
    "new_code=pattern.sub(\"AddTwoNumbers\",Example1)\n",
    "print(new_code)"
   ]
  },
  {
   "cell_type": "code",
   "execution_count": 43,
   "metadata": {},
   "outputs": [],
   "source": [
    "def sum_of_digits(s):\n",
    "    return sum(int(c) for c in s if c.isdigit())\n"
   ]
  },
  {
   "cell_type": "code",
   "execution_count": 53,
   "metadata": {},
   "outputs": [
    {
     "ename": "IndentationError",
     "evalue": "unexpected indent (968309531.py, line 10)",
     "output_type": "error",
     "traceback": [
      "\u001b[1;36m  Cell \u001b[1;32mIn[53], line 10\u001b[1;36m\u001b[0m\n\u001b[1;33m    print(ex)\u001b[0m\n\u001b[1;37m    ^\u001b[0m\n\u001b[1;31mIndentationError\u001b[0m\u001b[1;31m:\u001b[0m unexpected indent\n"
     ]
    }
   ],
   "source": [
    "import re\n",
    "pattern = re.compile(r'^[a-zA-Z_]\\w*\\([^)]*\\):$')\n",
    "Example1='''\n",
    " def add_two_numbers(a, b):\n",
    "      return a + b\n",
    "      print(add_two_numbers(10, 20))\n",
    "'''\n",
    "def function_renamer(code):\n",
    "    ex=pattern.findall(Example1)\n",
    "        print(ex)\n"
   ]
  },
  {
   "cell_type": "markdown",
   "metadata": {
    "id": "TSSWnkRKpDmB"
   },
   "source": [
    "## Submit your solution\n",
    "\n",
    "Once you are finish with the test, please make sure that you have renamed your solutions in the format given ahead ex. **python_test(pranav_uikey)** and submit it using this [following link](https://github.com/Ai-Adventures/Python_test_submissions)"
   ]
  },
  {
   "cell_type": "markdown",
   "metadata": {
    "id": "3DGlZHtVnU0A"
   },
   "source": [
    "## All The Best!!"
   ]
  }
 ],
 "metadata": {
  "colab": {
   "collapsed_sections": [],
   "provenance": []
  },
  "kernelspec": {
   "display_name": "Python 3 (ipykernel)",
   "language": "python",
   "name": "python3"
  },
  "language_info": {
   "codemirror_mode": {
    "name": "ipython",
    "version": 3
   },
   "file_extension": ".py",
   "mimetype": "text/x-python",
   "name": "python",
   "nbconvert_exporter": "python",
   "pygments_lexer": "ipython3",
   "version": "3.11.3"
  }
 },
 "nbformat": 4,
 "nbformat_minor": 1
}
