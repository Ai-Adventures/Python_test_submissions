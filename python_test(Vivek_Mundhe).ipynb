{
  "cells": [
    {
      "cell_type": "markdown",
      "metadata": {
        "id": "AoBhB2LUBoyf"
      },
      "source": [
        "## Python Test\n",
        "\n",
        "### Instructions:\n",
        "\n",
        "You are given with Python coding problems. These problems will give you the chance to test your implementations of the questions. Each code runs your implementations for a number of testcases. You use the test codes to make sure that:\n",
        "\n",
        "    • Your function does not crash, that is, there is no Python errors when trying to run the\n",
        "    function.\n",
        "\n",
        "    • Compare the results of the testcases to your results. Expected results are given at the\n",
        "    end of each code.\n",
        "\n",
        "\n",
        "In each problem, replace pass command with your implementation of each required function."
      ]
    },
    {
      "cell_type": "markdown",
      "metadata": {
        "id": "a9aj25yKCjXR"
      },
      "source": [
        "### Question 1 - Arithmetic\n",
        "\n",
        "In this question, your task is to implement a function `do_arithmetic(x,y,op)` which takes three input arguments: a number x,\n",
        "a number y, and a string op representing an operation. The function has to perform the\n",
        "operation on the two numbers and return the result.\n",
        "\n",
        "- Example 1: if you call the function with the parameter `do_arithmetic(10,4,’add’)` the function should return the value 14.0.\n",
        "\n",
        "- Example 2: `do_arithmetic(2,3,’*’)` should return 6.0.\n",
        "\n",
        "**Detailed instructions:**\n",
        "-  You can assume that x and y are always provided and always valid numbers (e.g. integers or floats).\n",
        "\n",
        "- `op` is a string representing the operation to perform. You have to implement four operations with ’add’, ’+’, ’subtract’, ’-’, ’multiply’, ’*’, and ’divide’, ’/’.\n",
        "\n",
        "- If `op` is not specified by the user it should default to ’add’.\n",
        "\n",
        "- If `op` is specified by the user but it is not one of the four operations (with eight keywords), print ’Unknown operation’ and return None.\n",
        "\n",
        "- Division by zero should be avoided. To this end, return None whenever division by zero would occur, and print ’Division by 0!’\n",
        "\n",
        "- The returned result should always be of type float.\n",
        "\n",
        "Test code: The following test cases will be tested:\n",
        "\n",
        "`do_arithmetic(24, -7, 'add')`\n",
        "- Expected result:- 17.0\n",
        "\n",
        "`do_arithmetic(6, 6, 'multiply')`\n",
        "- Expected result:- 36.0\n",
        "\n",
        "`do_arithmetic(4, 0, '/')`\n",
        "- Expected result: \"Division by Zero!\"\n",
        "\n",
        "`do_arithmetic(3, 9, '-')`\n",
        "- Expected result: -6.0\n",
        "\n",
        "`do_arithmetic(10, -43, 'subtract')`\n",
        "- Expected result: 53.0\n",
        "\n",
        "`do_arithmetic(3, 9)`\n",
        "- Expected result: 12.0"
      ]
    },
    {
      "cell_type": "code",
      "execution_count": null,
      "metadata": {
        "id": "6qw-Ev62CZ55"
      },
      "outputs": [],
      "source": [
        "def do_arithmetic(x,y,op='+'):\n",
        "  # your code here\n",
        "  if op==\"+\" or op==\"add\":\n",
        "    return(float(x+y))\n",
        "  elif op==\"-\" or op==\"subtract\":\n",
        "    return(float(x-y))\n",
        "  elif op==\"*\" or op==\"multiply\":\n",
        "    return(float(x*y))\n",
        "  elif op==\"/\" or op==\"divide\":\n",
        "    try:\n",
        "      return(float(x/y))\n",
        "    except ZeroDivisionError as err:\n",
        "      print(\"Division by Zero!\")\n",
        "      return None\n",
        "      # print(err)\n"
      ]
    },
    {
      "cell_type": "code",
      "execution_count": null,
      "metadata": {
        "colab": {
          "base_uri": "https://localhost:8080/"
        },
        "id": "Q21MOoIMYWWJ",
        "outputId": "3ac13fcb-8fdf-4127-dbfc-f9248e961231"
      },
      "outputs": [
        {
          "data": {
            "text/plain": [
              "17.0"
            ]
          },
          "execution_count": 106,
          "metadata": {},
          "output_type": "execute_result"
        }
      ],
      "source": [
        "do_arithmetic(24, -7, 'add')"
      ]
    },
    {
      "cell_type": "code",
      "execution_count": null,
      "metadata": {
        "colab": {
          "base_uri": "https://localhost:8080/"
        },
        "id": "CVp7ad4sby9f",
        "outputId": "e7be8cf4-15ec-4959-afb7-de3f9f60df23"
      },
      "outputs": [
        {
          "data": {
            "text/plain": [
              "12.0"
            ]
          },
          "execution_count": 107,
          "metadata": {},
          "output_type": "execute_result"
        }
      ],
      "source": [
        "do_arithmetic(3, 9)"
      ]
    },
    {
      "cell_type": "code",
      "execution_count": null,
      "metadata": {
        "colab": {
          "base_uri": "https://localhost:8080/"
        },
        "id": "MjpNGsFnb7HH",
        "outputId": "df1916d5-a350-43ae-a7ca-b5aeaefeee6d"
      },
      "outputs": [
        {
          "data": {
            "text/plain": [
              "36.0"
            ]
          },
          "execution_count": 108,
          "metadata": {},
          "output_type": "execute_result"
        }
      ],
      "source": [
        "do_arithmetic(6, 6, 'multiply')"
      ]
    },
    {
      "cell_type": "code",
      "execution_count": null,
      "metadata": {
        "colab": {
          "base_uri": "https://localhost:8080/"
        },
        "id": "JKf5ZWoecHP_",
        "outputId": "d9a88932-c2c6-4aff-cb40-389611606282"
      },
      "outputs": [
        {
          "name": "stdout",
          "output_type": "stream",
          "text": [
            "Division by Zero!\n"
          ]
        }
      ],
      "source": [
        "do_arithmetic(4, 0, '/')"
      ]
    },
    {
      "cell_type": "code",
      "execution_count": null,
      "metadata": {
        "colab": {
          "base_uri": "https://localhost:8080/"
        },
        "id": "oLvsr48ccHz2",
        "outputId": "7eed3dbf-c479-46be-ee05-c04c0cfc1f00"
      },
      "outputs": [
        {
          "data": {
            "text/plain": [
              "-6.0"
            ]
          },
          "execution_count": 104,
          "metadata": {},
          "output_type": "execute_result"
        }
      ],
      "source": [
        "do_arithmetic(3, 9, '-')"
      ]
    },
    {
      "cell_type": "code",
      "execution_count": null,
      "metadata": {
        "colab": {
          "base_uri": "https://localhost:8080/"
        },
        "id": "DJaK90rqcICH",
        "outputId": "cc8f7460-bbf2-478c-9774-03411115bfae"
      },
      "outputs": [
        {
          "name": "stdout",
          "output_type": "stream",
          "text": [
            "53.0\n"
          ]
        }
      ],
      "source": [
        "do_arithmetic(10, -43, 'subtract')"
      ]
    },
    {
      "cell_type": "code",
      "execution_count": null,
      "metadata": {
        "colab": {
          "base_uri": "https://localhost:8080/"
        },
        "id": "R2uQRDPGcIP5",
        "outputId": "fd913b27-4caa-4d92-c525-f935ec3a1d7c"
      },
      "outputs": [
        {
          "name": "stdout",
          "output_type": "stream",
          "text": [
            "12.0\n"
          ]
        }
      ],
      "source": [
        "do_arithmetic(3, 9)"
      ]
    },
    {
      "cell_type": "markdown",
      "metadata": {
        "id": "oiXY9pAQD5bE"
      },
      "source": [
        "### Question 2 - Sum of digits\n",
        "\n",
        "Write a function `sum_of_digits(s)` that takes as input a string s that contains some numbers. The function calculates the sum of all the digits in the string, ignoring any symbols that\n",
        "are not digits.\n",
        "\n",
        "• Example: `sum_of_digits(\"123\")` should return 6 since 1+2+3 = 6\n",
        "\n",
        "• Example 2: `sum_of_digits(\"10a20\")` should return 3 because 1+0+2+0 = 3.\n",
        "Detailed instructions:\n",
        "\n",
        "- if s includes both digits and nondigits\n",
        " \n",
        "  – Calculate the sum of digits and return the result whilst ignoring any\n",
        "  \n",
        "  non-digit symbols in the string.\n",
        "  \n",
        "  – print e.g. for `sum_of_digits(\"10a20\")`\n",
        "  \n",
        "  ’The sum of digits operation performs 1+0+2+0’\n",
        "\n",
        "  – Save the extracted non-digits in a variable of interest as a list and print \"The extracted non-digits are: [’a’]\"\n",
        "\n",
        "- If s is not provided or an empty string return 0 and print\n",
        "  \n",
        "  ’Empty string entered!’.\n",
        "\n",
        "- If s is provided, but it contains no digits return 0 and print\n",
        "  \n",
        "  ’The sum of digits operation could not detect a digit!’\n",
        "  \n",
        "  ’The returned input letters are: [ALL NONDIGITS HERE]’\n",
        "\n",
        "- The returned number should be an integer.\n",
        "\n",
        "  - Example 1: When you run `sum_of_digits(\"a1w3\")` , the function should print\n",
        "    \n",
        "    The sum of digits operation performs 1+3\n",
        "    \n",
        "    The extracted non-digits are: [’a’, ’w’]\n",
        "    \n",
        "    4\n",
        "\n",
        "  - Example 2: When you run `sum_of_digits(\"united\")`, the function should print\n",
        "    \n",
        "    The sum of digits operation could not detect a digit!\n",
        "\n",
        "    The returned input letters are: [’u’, ’n’, ’i’, ’t’, ’e’, ’d’]\n",
        "    \n",
        "    0\n",
        "\n",
        "Test code: The following test cases will be tested:\n",
        "\n",
        "`sum_of_digits(\"123\")`\n",
        "\n",
        "- Expected result: \n",
        "  \n",
        "  The sum of digit operation performs 1 + 2 + 3\n",
        "  \n",
        "  The extracted non-digits are []\n",
        "  \n",
        "  6\n",
        "\n",
        "`sum_of_digits(\"we10a20b\")`\n",
        "\n",
        "- Expected result: \n",
        "\n",
        "  The sum of digit operation performs 1 + 0 + 2 + 0\n",
        "\n",
        "  The extracted non-digits are ['w', 'e', 'a', 'b']\n",
        "\n",
        "  3\n",
        "\n",
        "`sum_of_digits(\"united\")`\n",
        "- Expected result: \n",
        "\n",
        "  The sum of digits operation could not detect a digit!\n",
        "  \n",
        "  The extracted non-digits are ['u', 'n', 'i', 't', 'e', 'd']\n",
        "  \n",
        "  0\n",
        "\n",
        "`sum_of_digits(\"\")`\n",
        "\n",
        "- Expected result:\n",
        "\n",
        "  The sum of digits operation could not detect a digit!\n",
        "  \n",
        "  The extracted non-digits are []\n",
        "  \n",
        "  0"
      ]
    },
    {
      "cell_type": "code",
      "execution_count": 12,
      "metadata": {
        "id": "quwAzI41D44Y"
      },
      "outputs": [],
      "source": [
        "def sum_of_digits(s):\n",
        "  # s=''\n",
        "  import re\n",
        "  sum=0\n",
        "  addition='+'\n",
        "  numbers=[]\n",
        "  non_numbers=[]\n",
        "  for i in s:\n",
        "    # print(i)\n",
        "    regex=re.compile('\\d')\n",
        "    if re.match(regex,i):\n",
        "      numbers.append(i)\n",
        "      sum+=int(i)\n",
        "    else:\n",
        "      non_numbers.append(i)\n",
        "  if len(numbers)==0:\n",
        "    print(\"The sum of digits operation could not detect a digit!\")\n",
        "    print(f\"The extracted non-digits are {non_numbers}\") \n",
        "  else:\n",
        "    print(f\"sum of digit operations performs {addition.join(numbers)}\") \n",
        "    print(f\"The extracted non-digits are {non_numbers}\") \n",
        "  return (sum)\n",
        "  # pass"
      ]
    },
    {
      "cell_type": "code",
      "execution_count": 13,
      "metadata": {
        "id": "uea5dQjvdvkM"
      },
      "outputs": [],
      "source": [
        "# s='gvhbj89652'\n",
        "# import re\n",
        "# sum=0\n",
        "# addition='+'\n",
        "# numbers=[]\n",
        "# non_numbers=[]\n",
        "# for i in s:\n",
        "#   # print(i)\n",
        "#   regex=re.compile('\\d')\n",
        "#   if re.match(regex,i):\n",
        "#     numbers.append(i)\n",
        "#     sum+=int(i)\n",
        "#   else:\n",
        "#     non_numbers.append(i)\n",
        "# if len(numbers)==0:\n",
        "#   print(\"The sum of digits operation could not detect a digit!\")\n",
        "#   print(f\"The extracted non-digits are {non_numbers}\") \n",
        "# else:\n",
        "#   print(f\"sum of digit operations performs {addition.join(numbers)}\") \n",
        "#   print(f\"The extracted non-digits are {non_numbers}\") \n",
        "# print(sum)\n",
        "\n",
        "# # The sum of digit operation performs 1 + 0 + 2 + 0"
      ]
    },
    {
      "cell_type": "code",
      "execution_count": 14,
      "metadata": {
        "colab": {
          "base_uri": "https://localhost:8080/"
        },
        "id": "4FUGb--Ndv4x",
        "outputId": "cebde82c-a442-4b52-9e05-1e1467f1e224"
      },
      "outputs": [
        {
          "output_type": "stream",
          "name": "stdout",
          "text": [
            "sum of digit operations performs 1+0+2+0\n",
            "The extracted non-digits are ['w', 'e', 'a', 'b']\n"
          ]
        },
        {
          "output_type": "execute_result",
          "data": {
            "text/plain": [
              "3"
            ]
          },
          "metadata": {},
          "execution_count": 14
        }
      ],
      "source": [
        "sum_of_digits(\"we10a20b\")"
      ]
    },
    {
      "cell_type": "code",
      "execution_count": 15,
      "metadata": {
        "colab": {
          "base_uri": "https://localhost:8080/"
        },
        "id": "fmiYm-t3dwDI",
        "outputId": "62b4dfd7-839c-4921-85f6-9400db55d833"
      },
      "outputs": [
        {
          "output_type": "stream",
          "name": "stdout",
          "text": [
            "sum of digit operations performs 1+2+3\n",
            "The extracted non-digits are []\n"
          ]
        },
        {
          "output_type": "execute_result",
          "data": {
            "text/plain": [
              "6"
            ]
          },
          "metadata": {},
          "execution_count": 15
        }
      ],
      "source": [
        "sum_of_digits(\"123\")"
      ]
    },
    {
      "cell_type": "code",
      "execution_count": 16,
      "metadata": {
        "colab": {
          "base_uri": "https://localhost:8080/"
        },
        "id": "k8fkbi9vdwLY",
        "outputId": "2025540f-72f3-4b03-97d7-e56db0a0bcd7"
      },
      "outputs": [
        {
          "output_type": "stream",
          "name": "stdout",
          "text": [
            "The sum of digits operation could not detect a digit!\n",
            "The extracted non-digits are ['u', 'n', 'i', 't', 'e', 'd']\n"
          ]
        },
        {
          "output_type": "execute_result",
          "data": {
            "text/plain": [
              "0"
            ]
          },
          "metadata": {},
          "execution_count": 16
        }
      ],
      "source": [
        "sum_of_digits(\"united\")"
      ]
    },
    {
      "cell_type": "code",
      "execution_count": 17,
      "metadata": {
        "colab": {
          "base_uri": "https://localhost:8080/"
        },
        "id": "Ua6n76L8dwTA",
        "outputId": "ec09a850-2263-4227-f261-eea4659e1157"
      },
      "outputs": [
        {
          "output_type": "stream",
          "name": "stdout",
          "text": [
            "The sum of digits operation could not detect a digit!\n",
            "The extracted non-digits are []\n"
          ]
        },
        {
          "output_type": "execute_result",
          "data": {
            "text/plain": [
              "0"
            ]
          },
          "metadata": {},
          "execution_count": 17
        }
      ],
      "source": [
        "sum_of_digits(\"\")"
      ]
    },
    {
      "cell_type": "code",
      "execution_count": 17,
      "metadata": {
        "id": "S7tEwvUNdwY_"
      },
      "outputs": [],
      "source": []
    },
    {
      "cell_type": "markdown",
      "metadata": {
        "id": "Ho-lFx1GFOvj"
      },
      "source": [
        "### Question 3 - Pluralize\n",
        "\n",
        "Please download following file named `pronoun.txt` before you solve this questions the link is given below:\n",
        "\n",
        "[Required file link](https://cdn.discordapp.com/attachments/953213295710584862/974555326865100830/pronoun.txt)\n",
        "\n",
        "Write a function `pluralize(word)` that determines the plural of an English word.\n",
        "Input: Your function takes one argument as input, word, a string representing the word to be\n",
        "pluralised. We assume this word will only be one single token, i.e., no spaces. Your function will also have to load the text file `proper nouns.txt`.\n",
        "\n",
        "Output: The function should return a dictionary of the form:\n",
        "  - {’plural’: word_in_plural, ’status’: x}\n",
        "\n",
        "\n",
        "where word_in_plural is the pluralized version of the input argument word and x is a\n",
        "string which can have one of the following values: ’empty_string’, ’proper_noun’, ’\n",
        "already_in_plural’, ’success’.\n",
        "\n",
        "\n",
        "Below is the logic (in order) that the function should execute.\n",
        "\n",
        "1) Determine if the word is an empty string, already in plural, or a proper noun.\n",
        "\n",
        "    • If the word is an empty string, then your function returns a dictionary with the following values:\n",
        "    \n",
        "      – word_in_plural = ’’ and x = ’empty_string’\n",
        "    \n",
        "      – Explanation: The input word is an empty string and it cannot be pluralized.\n",
        "    \n",
        "    • If the word is already in plural, then your function returns a dictionary with the following values:\n",
        "    \n",
        "      – word_in_plural = word and x = ’already_in_plural’.\n",
        "    \n",
        "      – Explanation: The input word remains untouched (e.g., input: houses, output: houses).\n",
        "    \n",
        "    • If the word is a proper noun, then your function returns a dictionary with the following values:\n",
        "    \n",
        "      – word_in_plural = word and x = ’proper_noun’.\n",
        "    \n",
        "      – Explanation: The input word is a proper noun, and therefore cannot be pluralized (e.g., input: Adam, output: Adam).\n",
        "\n",
        "    • How to determine plural form: We will assume a word is in plural if it ends with ’s’.\n",
        "\n",
        "    • How to determine if a word is a proper noun: We will assume a word is a proper noun if it exists in the file proper nouns.txt. Note that your function should convert any capitalised input to lower case first because the proper nouns in the list are all lower case. The values in your output dictionary, however, will retain the original capitalisation\n",
        "\n",
        "2) If the word is not plural and is not a proper noun, then:\n",
        "  Apply the following English plural rules.\n",
        "    \n",
        "    • If the word ends with a vowel:\n",
        "        – add -s.\n",
        "    \n",
        "    • Otherwise:\n",
        "        \n",
        "        – If it ends with ’y’ and is preceded by a consonant, erase the last letter and add\n",
        "        \n",
        "          -ies.\n",
        "        \n",
        "        – If it ends with ’f’, erase the last letter and add -ves.\n",
        "        \n",
        "        – If it ends with ’sh’/’ch’/’z’, add -es.\n",
        "        \n",
        "        – If none of the above applies, just add -s.\n",
        "\n",
        "    • After these rules are applied, your output dictionary should be:\n",
        "        – {’plural’: word_in_plural, ’status’: ’success’}\n",
        "\n",
        "\n",
        "Test code: The following test cases will be tested:\n",
        "\n",
        "`pluralize(\"failure\")`\n",
        "- Expected result: `{'plural':'failures', 'status':'success'}`\n",
        "\n",
        "`pluralize(\"food\")`\n",
        "- Expected result: `{'plural':'foods', 'status':'success'}`\n",
        "\n",
        "`pluralize(\"Zulma\")`\n",
        "- Expected result: `{'plural':'zulma', 'status':'proper_noun'}`\n",
        "\n",
        "`pluralize(\"injury\")`\n",
        "- Expected result: `{'plural':'injuries', 'status':'success'}`\n",
        "\n",
        "`pluralize(\"elf\")`\n",
        "- Expected result: `{'plural':'elves', 'status':'success'}`\n",
        "\n",
        "`pluralize(\"buzz\")`\n",
        "- Expected result: `{'plural':'buzzes', 'status':'success'}`\n",
        "\n",
        "`pluralize(\"computers\")`\n",
        "- Expected result: `{'plural':'computers', 'status':'already_in_plural'}`\n",
        "\n",
        "`pluralize(\"PCs\")`\n",
        "- Expected result: `{'plural':'PCs', 'status':'already_in_plural'}`\n",
        "\n",
        "`pluralize(\"\")`\n",
        "- Expected result: `{'plural':'', 'status':'empty_string'}`\n",
        "\n",
        "`pluralize(\"highway\")`\n",
        "- Expected result: `{'plural':'highways', 'status':'success'}`\n",
        "\n",
        "`pluralize(\"presentation\")`\n",
        "- Expected result: `{'plural':'presentations', 'status':'success'}`\n",
        "\n",
        "`pluralize(\"pouch\")`\n",
        "- Expected result: `{'plural':'pouches', 'status':'success'}`\n",
        "\n",
        "`pluralize(\"COVID-19\")`\n",
        "- Expected result: `{'plural':'COVID-19s', 'status':'success'}`\n",
        "\n",
        "`pluralize(\"adam\")`\n",
        "- Expected result: `{'plural':'adam', 'status':'proper_noun'}`\n"
      ]
    },
    {
      "cell_type": "code",
      "execution_count": null,
      "metadata": {
        "id": "_FIyLJCstKsD"
      },
      "outputs": [],
      "source": [
        "def pluralize(s):\n",
        "  f=open('pronoun.txt')\n",
        "  a=f.read().split()\n",
        "  # print(a)\n",
        "  # s='abduf'\n",
        "  dict1={}\n",
        "  if s==''or s==\"\":\n",
        "      dict1['plural',]=''\n",
        "      dict1['status']='empty string'\n",
        "  elif s[-1]==s:\n",
        "    dict1['plural']=s\n",
        "    dict1['status']='already in plural'\n",
        "  elif s in a:\n",
        "    dict1['plural']=s\n",
        "    dict1['status']='proper noun'\n",
        "  else:\n",
        "    if s[-1] in ['a','e','i','o','u']:\n",
        "      s=s+'s'\n",
        "      # dict1['plural']=s\n",
        "      # dict1['status']='success'\n",
        "    elif s[-1]=='y' and s[-2] not in ['a','e','i','o','u']:\n",
        "      s=s[:-1]+'ies'\n",
        "    elif s[-1]=='f':\n",
        "      s=s[:-1]+'ves'\n",
        "    elif s[-2:]=='sh' or s[-2:]=='ch' or s[-1]=='z':\n",
        "      s=s+'es'\n",
        "    else:\n",
        "      s=s+'s'\n",
        "    dict1['plural']=s\n",
        "    dict1['status']='success'\n",
        "  return dict1\n",
        "      \n"
      ]
    },
    {
      "cell_type": "code",
      "execution_count": null,
      "metadata": {
        "id": "gO4vhkSfvZDa"
      },
      "outputs": [],
      "source": [
        "# f=open('pronoun.txt')\n",
        "# a=f.read().split()\n",
        "# # print(a)\n",
        "# s='abduf'\n",
        "# dict1={}\n",
        "# if s==''or s==\"\":\n",
        "#     dict1['plural',]=''\n",
        "#     dict1['status']='empty string'\n",
        "# elif s[-1]==s:\n",
        "#   dict1['plural']=s\n",
        "#   dict1['status']='already in plural'\n",
        "# elif s in a:\n",
        "#   dict1['plural']=s\n",
        "#   dict1['status']='proper noun'\n",
        "# else:\n",
        "#   if s[-1] in ['a','e','i','o','u']:\n",
        "#     s=s+'s'\n",
        "#   elif s[-1]=='y' or s[-2] not in ['a','e','i','o','u']:\n",
        "#     s=s[:-1]+'ies'\n",
        "#   elif s[-1]=='f':\n",
        "#     s=s[:-1]+'ves'\n",
        "#   elif s[:-2]=='sh' or s[:-2]=='ch' or s[-1]=='z':\n",
        "#     s=s+'es'\n",
        "#   dict1['plural']=s\n",
        "#   dict1['status']='success'\n",
        "# dict1"
      ]
    },
    {
      "cell_type": "code",
      "execution_count": null,
      "metadata": {
        "colab": {
          "base_uri": "https://localhost:8080/"
        },
        "id": "EnMVCCcq8TPs",
        "outputId": "974bbc9a-c755-41a4-dc09-72814240cbee"
      },
      "outputs": [
        {
          "name": "stdout",
          "output_type": "stream",
          "text": [
            "jk\n"
          ]
        }
      ],
      "source": [
        "d='hjhjk'\n",
        "print(d[-2:])"
      ]
    },
    {
      "cell_type": "code",
      "execution_count": null,
      "metadata": {
        "colab": {
          "base_uri": "https://localhost:8080/"
        },
        "id": "pub6-_KEvZl5",
        "outputId": "e0d700d4-537a-4f8e-ffba-9423750df4fa"
      },
      "outputs": [
        {
          "data": {
            "text/plain": [
              "{'plural': 'failures', 'status': 'success'}"
            ]
          },
          "execution_count": 241,
          "metadata": {},
          "output_type": "execute_result"
        }
      ],
      "source": [
        "pluralize(\"failure\")"
      ]
    },
    {
      "cell_type": "code",
      "execution_count": null,
      "metadata": {
        "colab": {
          "base_uri": "https://localhost:8080/"
        },
        "id": "JeMPHYwyvZuc",
        "outputId": "0152417f-3b74-452a-d890-273f8b01b0ed"
      },
      "outputs": [
        {
          "data": {
            "text/plain": [
              "{'plural': 'foods', 'status': 'success'}"
            ]
          },
          "execution_count": 242,
          "metadata": {},
          "output_type": "execute_result"
        }
      ],
      "source": [
        "pluralize(\"food\")"
      ]
    },
    {
      "cell_type": "code",
      "execution_count": null,
      "metadata": {
        "colab": {
          "base_uri": "https://localhost:8080/"
        },
        "id": "XEF6J5sNvZ22",
        "outputId": "f96263b1-c030-4e1a-9ef5-8cbc85a305c7"
      },
      "outputs": [
        {
          "data": {
            "text/plain": [
              "{'plural': 'Zulmas', 'status': 'success'}"
            ]
          },
          "execution_count": 243,
          "metadata": {},
          "output_type": "execute_result"
        }
      ],
      "source": [
        "pluralize(\"Zulma\")"
      ]
    },
    {
      "cell_type": "code",
      "execution_count": null,
      "metadata": {
        "colab": {
          "base_uri": "https://localhost:8080/"
        },
        "id": "_23Yrl0x5zGH",
        "outputId": "6268b1fa-5caf-4b85-fdbb-1ca07f766c6e"
      },
      "outputs": [
        {
          "data": {
            "text/plain": [
              "{'plural': 'injuries', 'status': 'success'}"
            ]
          },
          "execution_count": 244,
          "metadata": {},
          "output_type": "execute_result"
        }
      ],
      "source": [
        "pluralize(\"injury\")"
      ]
    },
    {
      "cell_type": "code",
      "execution_count": null,
      "metadata": {
        "colab": {
          "base_uri": "https://localhost:8080/"
        },
        "id": "GF7sinO85zRT",
        "outputId": "49fb7b8f-8333-4ff4-fc81-18b9756594ca"
      },
      "outputs": [
        {
          "data": {
            "text/plain": [
              "{'plural': 'elves', 'status': 'success'}"
            ]
          },
          "execution_count": 245,
          "metadata": {},
          "output_type": "execute_result"
        }
      ],
      "source": [
        "pluralize(\"elf\")"
      ]
    },
    {
      "cell_type": "code",
      "execution_count": null,
      "metadata": {
        "colab": {
          "base_uri": "https://localhost:8080/"
        },
        "id": "vDbBU3g75zcs",
        "outputId": "a0e2da53-b227-48aa-de06-d233d314cde7"
      },
      "outputs": [
        {
          "data": {
            "text/plain": [
              "{'plural': 'buzzes', 'status': 'success'}"
            ]
          },
          "execution_count": 246,
          "metadata": {},
          "output_type": "execute_result"
        }
      ],
      "source": [
        "pluralize(\"buzz\")"
      ]
    },
    {
      "cell_type": "code",
      "execution_count": null,
      "metadata": {
        "colab": {
          "base_uri": "https://localhost:8080/"
        },
        "id": "R1WFJHaw5zkA",
        "outputId": "d8fc004e-aace-4e1c-e831-2b60149b8ba2"
      },
      "outputs": [
        {
          "data": {
            "text/plain": [
              "{'plural': 'computerss', 'status': 'success'}"
            ]
          },
          "execution_count": 247,
          "metadata": {},
          "output_type": "execute_result"
        }
      ],
      "source": [
        "pluralize(\"computers\")"
      ]
    },
    {
      "cell_type": "code",
      "execution_count": null,
      "metadata": {
        "colab": {
          "base_uri": "https://localhost:8080/"
        },
        "id": "y16XOYHH5zre",
        "outputId": "f17fdfff-3e68-441f-9980-4fa93cdc4287"
      },
      "outputs": [
        {
          "data": {
            "text/plain": [
              "{'plural': 'PCss', 'status': 'success'}"
            ]
          },
          "execution_count": 248,
          "metadata": {},
          "output_type": "execute_result"
        }
      ],
      "source": [
        "pluralize(\"PCs\")"
      ]
    },
    {
      "cell_type": "code",
      "execution_count": null,
      "metadata": {
        "colab": {
          "base_uri": "https://localhost:8080/"
        },
        "id": "K-0FBuoJ5zyU",
        "outputId": "05b5dfde-8cba-4e59-8f97-8d9113e78843"
      },
      "outputs": [
        {
          "data": {
            "text/plain": [
              "{('plural',): '', 'status': 'empty string'}"
            ]
          },
          "execution_count": 249,
          "metadata": {},
          "output_type": "execute_result"
        }
      ],
      "source": [
        "pluralize(\"\")"
      ]
    },
    {
      "cell_type": "code",
      "execution_count": null,
      "metadata": {
        "colab": {
          "base_uri": "https://localhost:8080/"
        },
        "id": "LV60G3NQ5z48",
        "outputId": "90f62854-1a16-4ac7-ffa7-8497dd23b26b"
      },
      "outputs": [
        {
          "data": {
            "text/plain": [
              "{'plural': 'highways', 'status': 'success'}"
            ]
          },
          "execution_count": 250,
          "metadata": {},
          "output_type": "execute_result"
        }
      ],
      "source": [
        "pluralize(\"highway\")"
      ]
    },
    {
      "cell_type": "code",
      "execution_count": null,
      "metadata": {
        "colab": {
          "base_uri": "https://localhost:8080/"
        },
        "id": "nweWw8485z_Z",
        "outputId": "e38ac064-9c50-4062-f3d4-70d527df8b73"
      },
      "outputs": [
        {
          "data": {
            "text/plain": [
              "{'plural': 'presentations', 'status': 'success'}"
            ]
          },
          "execution_count": 251,
          "metadata": {},
          "output_type": "execute_result"
        }
      ],
      "source": [
        "pluralize(\"presentation\")"
      ]
    },
    {
      "cell_type": "code",
      "execution_count": null,
      "metadata": {
        "colab": {
          "base_uri": "https://localhost:8080/"
        },
        "id": "lTlRfJL450GF",
        "outputId": "59e5a84d-a22c-4283-988e-7042ebcb4572"
      },
      "outputs": [
        {
          "data": {
            "text/plain": [
              "{'plural': 'pouches', 'status': 'success'}"
            ]
          },
          "execution_count": 252,
          "metadata": {},
          "output_type": "execute_result"
        }
      ],
      "source": [
        "pluralize(\"pouch\")\n"
      ]
    },
    {
      "cell_type": "code",
      "execution_count": null,
      "metadata": {
        "colab": {
          "base_uri": "https://localhost:8080/"
        },
        "id": "sN8JSZTi6GWS",
        "outputId": "92097978-9467-485b-ed6d-b706395add13"
      },
      "outputs": [
        {
          "data": {
            "text/plain": [
              "{'plural': 'COVID-19s', 'status': 'success'}"
            ]
          },
          "execution_count": 253,
          "metadata": {},
          "output_type": "execute_result"
        }
      ],
      "source": [
        "pluralize(\"COVID-19\")"
      ]
    },
    {
      "cell_type": "code",
      "execution_count": null,
      "metadata": {
        "colab": {
          "base_uri": "https://localhost:8080/"
        },
        "id": "Gfp3IjXQ6Gie",
        "outputId": "150d0ae5-b0e5-4c86-a374-645c9ced69ab"
      },
      "outputs": [
        {
          "data": {
            "text/plain": [
              "{'plural': 'adam', 'status': 'proper noun'}"
            ]
          },
          "execution_count": 254,
          "metadata": {},
          "output_type": "execute_result"
        }
      ],
      "source": [
        "pluralize(\"adam\")"
      ]
    },
    {
      "cell_type": "code",
      "execution_count": null,
      "metadata": {
        "id": "WLMjtSNO6Gti"
      },
      "outputs": [],
      "source": []
    },
    {
      "cell_type": "code",
      "execution_count": null,
      "metadata": {
        "id": "_3z2Qfq-xqZy"
      },
      "outputs": [],
      "source": [
        "  "
      ]
    },
    {
      "cell_type": "markdown",
      "metadata": {
        "id": "-XQCi9ydHG9t"
      },
      "source": [
        "### Question 4 - Function renamer\n",
        "\n",
        "---\n",
        "\n",
        "\n",
        "\n",
        "---\n",
        "\n",
        "\n",
        "\n",
        "\n",
        "You are working on a large-scale software project involving thousands of different Python files. The files have been written by different programmers and the naming of functions is somewhat inconsistent. You receive a new directive stating that the function names all have to be in camel case. In camel case, function names consisting of multiple words have a capital letter in each word and most underscores are removed. For instance, `def MyArithmeticCalculator()` is in camel case but `def my_arithmetic_calculator()` is not in camel case.\n",
        "\n",
        "You want to write a Python program that automatically processes Python code and renames the function names instead of doing it by hand. The instruction states that:\n",
        "\n",
        "  1.) All functions names need to be changed to camel case. E.g. a function\n",
        "  `calculate_speed_of_vehicle()` needs to be renamed to `CalculateSpeedOfVehicle()`.\n",
        "\n",
        "  2.) If the function has one or more leading ’_’ (underscores) they need to be preserved.\n",
        "\n",
        "  All other underscores need to be removed. E.g. a function `__calc_size()` is renamed to `__CalcSize()`.\n",
        "\n",
        "  3.) If the function is already in camel case, you do not need to change it but it still needs to appear in the dictionary d specified below.\n",
        "\n",
        "  4.) You can assume that there will be no name clashes. That is, a given function name which is not in camel case will not already appear in camel case elsewhere. E.g.if there is a function `print_all_strings()` then there is no function `PrintAllStrings()` elsewhere in the code.\n",
        "\n",
        "5.) Tip: You can use regular expressions to find the function names.\n",
        "\n",
        "\n",
        "To implement this, write a function `function_renamer(code)` that takes as input a string code that represents the Python code. It is typically a multi-line Python string. Your function needs to return the tuple `(d, newcode)`:\n",
        "\n",
        "  • `d` is a nested dictionary where each key corresponds to the original function name. The value is a nested dictionary that has the following items:\n",
        "\n",
        "    – hash: hash code of the original function name (tip: use Python’s hash function)\n",
        "\n",
        "    – camelcase: camel case version of original function name\n",
        "\n",
        "    – allcaps: all caps version of original function name\n",
        "\n",
        "  • newcode is a string containing the code wherein all function names have been renamed by their camel case versions. Note that you need to change the function name and also all other locations where the function name is used (e.g. function calls). You should not change anything else in the code (e.g. the contents of any strings). To clarify this, a few examples are given below:\n",
        "    - Example 1: Assume your input code is the multi-line string\n",
        "    \n",
        "        def add_two_numbers(a, b):\n",
        "          return a + b\n",
        "          print(add_two_numbers(10, 20))\n",
        " \n",
        "    \n",
        "    \n",
        "      After processing it with your function, the code should be changed to\n",
        "\n",
        "        def AddTwoNumbers(a, b):\n",
        "          return a + b\n",
        "        print(AddTwoNumbers(10, 20))\n",
        "\n",
        "        The nested dictionary is given by\n",
        "        d = {’add_two_numbers’:\n",
        "        {’hash’:-9214996652071026704,\n",
        "        ’camelcase’:’AddTwoNumbers’,\n",
        "        ’allcaps’:’ADD_TWO_NUMBERS’} }\n",
        "\n",
        "\n",
        "    - Example 2: Assume your input code is the multi-line string\n",
        "          def _major_split(*args):\n",
        "            return (args[:2], args[2:])\n",
        "          \n",
        "          \n",
        "          def CheckTruth(t = True):\n",
        "            print(’t is’, t)\n",
        "            return _major_split([t]*10)\n",
        "          \n",
        "          x, y = _major_split((10, 20, 30, 40, 50))\n",
        "\n",
        "\n",
        "\n",
        "      CheckTruth(len(x) == 10)\n",
        "\n",
        "      After processing it with your function, the code should be changed to\n",
        "          def _MajorSplit(*args):\n",
        "            return (args[:2], args[2:])\n",
        "          \n",
        "          def CheckTruth(t = True):\n",
        "            print(’t is’, t)\n",
        "            return _MajorSplit([t]*10)\n",
        "          x, y = _MajorSplit((10, 20, 30, 40, 50))\n",
        "          \n",
        "          CheckTruth(len(x) == 10)\n",
        "          \n",
        "          The nested dictionary is given by\n",
        "          \n",
        "          d = {’CheckTruth’:\n",
        "          {’hash’:-6410081306665365595,\n",
        "          ’camelcase’:’CheckTruth’,\n",
        "          ’allcaps’:’CHECKTRUTH’,\n",
        "          ’_major_split’:\n",
        "          {’hash’:484498917506710667,\n",
        "          ’camelcase’:’_MajorSplit’,\n",
        "          ’allcaps’:’_MAJOR_SPLIT’}}\n",
        "\n",
        "\n",
        "\n",
        "Test code: The examples given above are the only test cases to be handled for this question."
      ]
    },
    {
      "cell_type": "code",
      "source": [
        "s2=   '''      def add_two_numbers(a, b):\n",
        "      return a + b\n",
        "      print(add_two_numbers(10, 20))'''\n",
        "\n",
        "s='''      def _major_split(*args):\n",
        "        return (args[:2], args[2:])\n",
        "\n",
        "\n",
        "      def CheckTruth(t = True):\n",
        "        print(’t is’, t)\n",
        "        return _major_split([t]*10)\n",
        "\n",
        "      x, y = _major_split((10, 20, 30, 40, 50))\n",
        "\n",
        "\n",
        "\n",
        "  CheckTruth(len(x) == 10)'''\n",
        "import re"
      ],
      "metadata": {
        "id": "dGcIrEqqoCaK"
      },
      "execution_count": 2,
      "outputs": []
    },
    {
      "cell_type": "code",
      "execution_count": 3,
      "metadata": {
        "id": "FQy1xCBIJu5E"
      },
      "outputs": [],
      "source": [
        "def function_renamer(s):\n",
        "  func_names = re.findall(r'\\bdef\\s+(\\S+?)\\s*\\(', s)\n",
        "  d={}\n",
        "  d2={}\n",
        "  d3={}\n",
        "  for functions in func_names:\n",
        "    if '_' in functions:\n",
        "      functions1=functions.title()\n",
        "      functions1=re.sub('(?<=[a-z|A-Z])\\_','',functions1)\n",
        "      s=re.sub(functions,functions1,s)\n",
        "      d2['hash']=hash(functions)\n",
        "      d2['camelcase']=functions1\n",
        "      d2['allcaps']=functions.upper()\n",
        "      d[functions]=d2\n",
        "    else:\n",
        "      d3['hash']=hash(functions)\n",
        "      d3['camelcase']=functions\n",
        "      d3['allcaps']=functions.upper()\n",
        "      # d[functions]=d2\n",
        "      d[functions]=d3\n",
        "  print(d,s)\n",
        "\n"
      ]
    },
    {
      "cell_type": "code",
      "source": [
        "function_renamer(s)"
      ],
      "metadata": {
        "colab": {
          "base_uri": "https://localhost:8080/"
        },
        "id": "73qgXSFIoJey",
        "outputId": "53b05938-f157-47a2-cdf7-81d3fa6cb441"
      },
      "execution_count": 4,
      "outputs": [
        {
          "output_type": "stream",
          "name": "stdout",
          "text": [
            "{'_major_split': {'hash': 3764199667632240160, 'camelcase': '_MajorSplit', 'allcaps': '_MAJOR_SPLIT'}, 'CheckTruth': {'hash': 8300785838851184665, 'camelcase': 'CheckTruth', 'allcaps': 'CHECKTRUTH'}}       def _MajorSplit(*args):\n",
            "        return (args[:2], args[2:])\n",
            "\n",
            "\n",
            "      def CheckTruth(t = True):\n",
            "        print(’t is’, t)\n",
            "        return _MajorSplit([t]*10)\n",
            "\n",
            "      x, y = _MajorSplit((10, 20, 30, 40, 50))\n",
            "\n",
            "\n",
            "\n",
            "  CheckTruth(len(x) == 10)\n"
          ]
        }
      ]
    },
    {
      "cell_type": "code",
      "source": [
        "function_renamer(s2)"
      ],
      "metadata": {
        "colab": {
          "base_uri": "https://localhost:8080/"
        },
        "id": "oeM29YNdYnZy",
        "outputId": "55d754ff-08af-42e8-8f37-dcbe1b29317d"
      },
      "execution_count": 18,
      "outputs": [
        {
          "output_type": "stream",
          "name": "stdout",
          "text": [
            "{'add_two_numbers': {'hash': -4250136323730353315, 'camelcase': 'AddTwoNumbers', 'allcaps': 'ADD_TWO_NUMBERS'}}       def AddTwoNumbers(a, b):\n",
            "      return a + b\n",
            "      print(AddTwoNumbers(10, 20))\n"
          ]
        }
      ]
    },
    {
      "cell_type": "markdown",
      "metadata": {
        "id": "TSSWnkRKpDmB"
      },
      "source": [
        "## Submit your solution\n",
        "\n",
        "Once you are finish with the test, please make sure that you have renamed your solutions in the format given ahead ex. **python_test(pranav_uikey)** and submit it using this [following link](https://github.com/Ai-Adventures/Python_test_submissions)"
      ]
    },
    {
      "cell_type": "markdown",
      "metadata": {
        "id": "3DGlZHtVnU0A"
      },
      "source": [
        "## All The Best!!"
      ]
    }
  ],
  "metadata": {
    "colab": {
      "provenance": [],
      "collapsed_sections": [
        "Ho-lFx1GFOvj",
        "TSSWnkRKpDmB",
        "3DGlZHtVnU0A"
      ]
    },
    "kernelspec": {
      "display_name": "Python 3",
      "language": "python",
      "name": "python3"
    },
    "language_info": {
      "name": "python",
      "version": "3.7.10-final"
    }
  },
  "nbformat": 4,
  "nbformat_minor": 0
}