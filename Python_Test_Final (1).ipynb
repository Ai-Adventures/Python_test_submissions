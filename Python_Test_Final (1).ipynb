{
  "nbformat": 4,
  "nbformat_minor": 0,
  "metadata": {
    "colab": {
      "provenance": []
    },
    "kernelspec": {
      "name": "python3",
      "display_name": "Python 3",
      "language": "python"
    },
    "language_info": {
      "name": "python",
      "version": "3.7.10-final"
    }
  },
  "cells": [
    {
      "cell_type": "markdown",
      "source": [
        "## Python Test\n",
        "\n",
        "### Instructions:\n",
        "\n",
        "You are given with Python coding problems. These problems will give you the chance to test your implementations of the questions. Each code runs your implementations for a number of testcases. You use the test codes to make sure that:\n",
        "\n",
        "    • Your function does not crash, that is, there is no Python errors when trying to run the\n",
        "    function.\n",
        "\n",
        "    • Compare the results of the testcases to your results. Expected results are given at the\n",
        "    end of each code.\n",
        "\n",
        "\n",
        "In each problem, replace pass command with your implementation of each required function."
      ],
      "metadata": {
        "id": "AoBhB2LUBoyf"
      }
    },
    {
      "cell_type": "markdown",
      "source": [
        "### Question 1 - Arithmetic\n",
        "\n",
        "In this question, your task is to implement a function `do_arithmetic(x,y,op)` which takes three input arguments: a number x,\n",
        "a number y, and a string op representing an operation. The function has to perform the\n",
        "operation on the two numbers and return the result.\n",
        "\n",
        "- Example 1: if you call the function with the parameter `do_arithmetic(10,4,’add’)` the function should return the value 14.0.\n",
        "\n",
        "- Example 2: `do_arithmetic(2,3,’*’)` should return 6.0.\n",
        "\n",
        "**Detailed instructions:**\n",
        "-  You can assume that x and y are always provided and always valid numbers (e.g. integers or floats).\n",
        "\n",
        "- `op` is a string representing the operation to perform. You have to implement four operations with ’add’, ’+’, ’subtract’, ’-’, ’multiply’, ’*’, and ’divide’, ’/’.\n",
        "\n",
        "- If `op` is not specified by the user it should default to ’add’.\n",
        "\n",
        "- If `op` is specified by the user but it is not one of the four operations (with eight keywords), print ’Unknown operation’ and return None.\n",
        "\n",
        "- Division by zero should be avoided. To this end, return None whenever division by zero would occur, and print ’Division by 0!’\n",
        "\n",
        "- The returned result should always be of type float.\n",
        "\n",
        "Test code: The following test cases will be tested:\n",
        "\n",
        "`do_arithmetic(24, -7, 'add')`\n",
        "- Expected result:- 17.0\n",
        "\n",
        "`do_arithmetic(6, 6, 'multiply')`\n",
        "- Expected result:- 36.0\n",
        "\n",
        "`do_arithmetic(4, 0, '/')`\n",
        "- Expected result: \"Division by Zero!\"\n",
        "\n",
        "`do_arithmetic(3, 9, '-')`\n",
        "- Expected result: -6.0\n",
        "\n",
        "`do_arithmetic(10, -43, 'subtract')`\n",
        "- Expected result: 53.0\n",
        "\n",
        "`do_arithmetic(3, 9)`\n",
        "- Expected result: 12.0"
      ],
      "metadata": {
        "id": "a9aj25yKCjXR"
      }
    },
    {
      "cell_type": "code",
      "source": [
        "def do_arithmetic(x,y,op='add'):\n",
        "  # your code here\n",
        "  if op=='add' or op== '+':\n",
        "    return float(x + y)\n",
        "\n",
        "  elif op=='subtract' or op== '-':\n",
        "    return float(x - y)\n",
        "\n",
        "  elif op=='multiply' or op== '*':\n",
        "    return float(x * y )\n",
        "\n",
        "  elif op=='divide' or op== '/':\n",
        "    if y == 0:\n",
        "      print(\"Division by 0\")\n",
        "    else:\n",
        "      print(x / y)\n",
        "    # return (x / y)\n",
        "\n",
        "  else:\n",
        "    print(\"invalid\")\n",
        "    return None\n",
        "print(do_arithmetic(24, -7, 'add'))\n",
        "print(do_arithmetic(6, 6, 'multiply'))\n",
        "print(do_arithmetic(4, 0, '/'))\n",
        "print(do_arithmetic(3, 9, '-'))\n",
        "print(do_arithmetic(10, -43, 'subtract'))\n",
        "print(do_arithmetic(3, 9))\n",
        "\n",
        "pass"
      ],
      "metadata": {
        "id": "6qw-Ev62CZ55",
        "colab": {
          "base_uri": "https://localhost:8080/"
        },
        "outputId": "303499d2-62ab-43d8-ecad-c04e1e1981cb"
      },
      "execution_count": null,
      "outputs": [
        {
          "output_type": "stream",
          "name": "stdout",
          "text": [
            "17.0\n",
            "36.0\n",
            "Division by 0\n",
            "None\n",
            "-6.0\n",
            "53.0\n",
            "12.0\n"
          ]
        }
      ]
    },
    {
      "cell_type": "code",
      "source": [],
      "metadata": {
        "colab": {
          "base_uri": "https://localhost:8080/"
        },
        "id": "t4sEPB_WOsi1",
        "outputId": "4b5d6928-fb4c-4958-b15e-7903025e8341"
      },
      "execution_count": null,
      "outputs": [
        {
          "output_type": "stream",
          "name": "stdout",
          "text": [
            "36.0\n"
          ]
        }
      ]
    },
    {
      "cell_type": "code",
      "source": [],
      "metadata": {
        "colab": {
          "base_uri": "https://localhost:8080/",
          "height": 366
        },
        "id": "HceyfrltOsvt",
        "outputId": "cc8c2270-8527-4243-b6e6-d224e8a86231"
      },
      "execution_count": null,
      "outputs": [
        {
          "output_type": "error",
          "ename": "ZeroDivisionError",
          "evalue": "ignored",
          "traceback": [
            "\u001b[0;31m---------------------------------------------------------------------------\u001b[0m",
            "\u001b[0;31mZeroDivisionError\u001b[0m                         Traceback (most recent call last)",
            "\u001b[0;32m<ipython-input-11-03ca9f9fcf4b>\u001b[0m in \u001b[0;36m<cell line: 5>\u001b[0;34m()\u001b[0m\n\u001b[1;32m      3\u001b[0m   \u001b[0mdiv\u001b[0m\u001b[0;34m=\u001b[0m\u001b[0mint\u001b[0m\u001b[0;34m(\u001b[0m\u001b[0mx\u001b[0m\u001b[0;34m)\u001b[0m\u001b[0;34m/\u001b[0m\u001b[0mint\u001b[0m\u001b[0;34m(\u001b[0m\u001b[0my\u001b[0m\u001b[0;34m)\u001b[0m\u001b[0;34m\u001b[0m\u001b[0;34m\u001b[0m\u001b[0m\n\u001b[1;32m      4\u001b[0m   \u001b[0mprint\u001b[0m\u001b[0;34m(\u001b[0m\u001b[0mfloat\u001b[0m\u001b[0;34m(\u001b[0m\u001b[0mdiv\u001b[0m\u001b[0;34m)\u001b[0m\u001b[0;34m)\u001b[0m\u001b[0;34m\u001b[0m\u001b[0;34m\u001b[0m\u001b[0m\n\u001b[0;32m----> 5\u001b[0;31m \u001b[0mdo_arithmetic\u001b[0m\u001b[0;34m(\u001b[0m\u001b[0;36m4\u001b[0m\u001b[0;34m,\u001b[0m \u001b[0;36m0\u001b[0m\u001b[0;34m,\u001b[0m \u001b[0;34m'/'\u001b[0m\u001b[0;34m)\u001b[0m\u001b[0;34m\u001b[0m\u001b[0;34m\u001b[0m\u001b[0m\n\u001b[0m\u001b[1;32m      6\u001b[0m \u001b[0;34m\u001b[0m\u001b[0m\n",
            "\u001b[0;32m<ipython-input-11-03ca9f9fcf4b>\u001b[0m in \u001b[0;36mdo_arithmetic\u001b[0;34m(x, y, op)\u001b[0m\n\u001b[1;32m      1\u001b[0m \u001b[0;32mdef\u001b[0m \u001b[0mdo_arithmetic\u001b[0m\u001b[0;34m(\u001b[0m\u001b[0mx\u001b[0m\u001b[0;34m,\u001b[0m\u001b[0my\u001b[0m\u001b[0;34m,\u001b[0m\u001b[0mop\u001b[0m\u001b[0;34m)\u001b[0m\u001b[0;34m:\u001b[0m\u001b[0;34m\u001b[0m\u001b[0;34m\u001b[0m\u001b[0m\n\u001b[1;32m      2\u001b[0m   \u001b[0;31m# your code here\u001b[0m\u001b[0;34m\u001b[0m\u001b[0;34m\u001b[0m\u001b[0m\n\u001b[0;32m----> 3\u001b[0;31m   \u001b[0mdiv\u001b[0m\u001b[0;34m=\u001b[0m\u001b[0mint\u001b[0m\u001b[0;34m(\u001b[0m\u001b[0mx\u001b[0m\u001b[0;34m)\u001b[0m\u001b[0;34m/\u001b[0m\u001b[0mint\u001b[0m\u001b[0;34m(\u001b[0m\u001b[0my\u001b[0m\u001b[0;34m)\u001b[0m\u001b[0;34m\u001b[0m\u001b[0;34m\u001b[0m\u001b[0m\n\u001b[0m\u001b[1;32m      4\u001b[0m   \u001b[0mprint\u001b[0m\u001b[0;34m(\u001b[0m\u001b[0mfloat\u001b[0m\u001b[0;34m(\u001b[0m\u001b[0mdiv\u001b[0m\u001b[0;34m)\u001b[0m\u001b[0;34m)\u001b[0m\u001b[0;34m\u001b[0m\u001b[0;34m\u001b[0m\u001b[0m\n\u001b[1;32m      5\u001b[0m \u001b[0mdo_arithmetic\u001b[0m\u001b[0;34m(\u001b[0m\u001b[0;36m4\u001b[0m\u001b[0;34m,\u001b[0m \u001b[0;36m0\u001b[0m\u001b[0;34m,\u001b[0m \u001b[0;34m'/'\u001b[0m\u001b[0;34m)\u001b[0m\u001b[0;34m\u001b[0m\u001b[0;34m\u001b[0m\u001b[0m\n",
            "\u001b[0;31mZeroDivisionError\u001b[0m: division by zero"
          ]
        }
      ]
    },
    {
      "cell_type": "code",
      "source": [],
      "metadata": {
        "colab": {
          "base_uri": "https://localhost:8080/"
        },
        "id": "dlOyAqerOs4U",
        "outputId": "06b24862-0db1-454b-9a49-c2d5218bea66"
      },
      "execution_count": null,
      "outputs": [
        {
          "output_type": "stream",
          "name": "stdout",
          "text": [
            "-6.0\n"
          ]
        }
      ]
    },
    {
      "cell_type": "code",
      "source": [],
      "metadata": {
        "colab": {
          "base_uri": "https://localhost:8080/"
        },
        "id": "hOY5qOCVOs_V",
        "outputId": "6c324b60-0576-4bce-ddd2-ab87454907e1"
      },
      "execution_count": null,
      "outputs": [
        {
          "output_type": "stream",
          "name": "stdout",
          "text": [
            "53.0\n"
          ]
        }
      ]
    },
    {
      "cell_type": "code",
      "source": [],
      "metadata": {
        "colab": {
          "base_uri": "https://localhost:8080/"
        },
        "id": "ywXUaJRiQEYi",
        "outputId": "51032b1d-ce49-44f9-d7dd-209a755bb60f"
      },
      "execution_count": null,
      "outputs": [
        {
          "output_type": "stream",
          "name": "stdout",
          "text": [
            "12.0\n"
          ]
        }
      ]
    },
    {
      "cell_type": "markdown",
      "source": [
        "### Question 2 - Sum of digits\n",
        "\n",
        "Write a function `sum_of_digits(s)` that takes as input a string s that contains some numbers. The function calculates the sum of all the digits in the string, ignoring any symbols that\n",
        "are not digits.\n",
        "\n",
        "• Example: `sum_of_digits(\"123\")` should return 6 since 1+2+3 = 6\n",
        "\n",
        "• Example 2: `sum_of_digits(\"10a20\")` should return 3 because 1+0+2+0 = 3.\n",
        "Detailed instructions:\n",
        "\n",
        "- if s includes both digits and nondigits\n",
        "\n",
        "  – Calculate the sum of digits and return the result whilst ignoring any\n",
        "  \n",
        "  non-digit symbols in the string.\n",
        "  \n",
        "  – print e.g. for `sum_of_digits(\"10a20\")`\n",
        "  \n",
        "  ’The sum of digits operation performs 1+0+2+0’\n",
        "\n",
        "  – Save the extracted non-digits in a variable of interest as a list and print \"The extracted non-digits are: [’a’]\"\n",
        "\n",
        "- If s is not provided or an empty string return 0 and print\n",
        "  \n",
        "  ’Empty string entered!’.\n",
        "\n",
        "- If s is provided, but it contains no digits return 0 and print\n",
        "  \n",
        "  ’The sum of digits operation could not detect a digit!’\n",
        "  \n",
        "  ’The returned input letters are: [ALL NONDIGITS HERE]’\n",
        "\n",
        "- The returned number should be an integer.\n",
        "\n",
        "  - Example 1: When you run `sum_of_digits(\"a1w3\")` , the function should print\n",
        "    \n",
        "    The sum of digits operation performs 1+3\n",
        "    \n",
        "    The extracted non-digits are: [’a’, ’w’]\n",
        "    \n",
        "    4\n",
        "\n",
        "  - Example 2: When you run `sum_of_digits(\"united\")`, the function should print\n",
        "    \n",
        "    The sum of digits operation could not detect a digit!\n",
        "\n",
        "    The returned input letters are: [’u’, ’n’, ’i’, ’t’, ’e’, ’d’]\n",
        "    \n",
        "    0\n",
        "\n",
        "Test code: The following test cases will be tested:\n",
        "\n",
        "`sum_of_digits(\"123\")`\n",
        "\n",
        "- Expected result:\n",
        "  \n",
        "  The sum of digit operation performs 1 + 2 + 3\n",
        "  \n",
        "  The extracted non-digits are []\n",
        "  \n",
        "  6\n",
        "\n",
        "`sum_of_digits(\"we10a20b\")`\n",
        "\n",
        "- Expected result:\n",
        "\n",
        "  The sum of digit operation performs 1 + 0 + 2 + 0\n",
        "\n",
        "  The extracted non-digits are ['w', 'e', 'a', 'b']\n",
        "\n",
        "  3\n",
        "\n",
        "`sum_of_digits(\"united\")`\n",
        "- Expected result:\n",
        "\n",
        "  The sum of digits operation could not detect a digit!\n",
        "  \n",
        "  The extracted non-digits are ['u', 'n', 'i', 't', 'e', 'd']\n",
        "  \n",
        "  0\n",
        "\n",
        "`sum_of_digits(\"\")`\n",
        "\n",
        "- Expected result:\n",
        "\n",
        "  The sum of digits operation could not detect a digit!\n",
        "  \n",
        "  The extracted non-digits are []\n",
        "  \n",
        "  0"
      ],
      "metadata": {
        "id": "oiXY9pAQD5bE"
      }
    },
    {
      "cell_type": "code",
      "source": [
        "def sum_of_digits(s):\n",
        "  return sum(int(digit)for digit in str(s))\n",
        "  result=sum(digits)\n",
        "  print(result)\n",
        "sum_of_digits(\"123\")"
      ],
      "metadata": {
        "id": "quwAzI41D44Y",
        "colab": {
          "base_uri": "https://localhost:8080/"
        },
        "outputId": "7e731dfc-df79-49f2-a676-a33565a89019"
      },
      "execution_count": null,
      "outputs": [
        {
          "output_type": "execute_result",
          "data": {
            "text/plain": [
              "6"
            ]
          },
          "metadata": {},
          "execution_count": 16
        }
      ]
    },
    {
      "cell_type": "code",
      "source": [],
      "metadata": {
        "colab": {
          "base_uri": "https://localhost:8080/",
          "height": 140
        },
        "id": "mmFcb-TUTFK4",
        "outputId": "fbf53742-8289-4732-8c83-a42ab9d3b3fe"
      },
      "execution_count": 1,
      "outputs": [
        {
          "output_type": "error",
          "ename": "SyntaxError",
          "evalue": "ignored",
          "traceback": [
            "\u001b[0;36m  File \u001b[0;32m\"<ipython-input-1-68e78f920240>\"\u001b[0;36m, line \u001b[0;32m4\u001b[0m\n\u001b[0;31m    add=sum(int(digit)for digit in str(s) except b)\u001b[0m\n\u001b[0m                                          ^\u001b[0m\n\u001b[0;31mSyntaxError\u001b[0m\u001b[0;31m:\u001b[0m invalid syntax\n"
          ]
        }
      ]
    },
    {
      "cell_type": "code",
      "source": [
        "from string import digits\n",
        "def sum_of_digits(s):\n",
        "  add=sum(int(char)for char in str(s) if not digits)\n",
        "  return add\n",
        "  result=sum(digits)\n",
        "  print(result)\n",
        "sum_of_digits(\"united\")"
      ],
      "metadata": {
        "colab": {
          "base_uri": "https://localhost:8080/"
        },
        "id": "Ahg4o4gsTFUl",
        "outputId": "480b5117-4303-44f0-cf48-1928281239a1"
      },
      "execution_count": null,
      "outputs": [
        {
          "output_type": "execute_result",
          "data": {
            "text/plain": [
              "0"
            ]
          },
          "metadata": {},
          "execution_count": 37
        }
      ]
    },
    {
      "cell_type": "code",
      "source": [
        "from string import digits\n",
        "def sum_of_digits(s):\n",
        "  add=sum(int(char)for char in str(s) )\n",
        "  return add\n",
        "  result=sum(digits)\n",
        "  print(result)\n",
        "sum_of_digits(\"\")"
      ],
      "metadata": {
        "colab": {
          "base_uri": "https://localhost:8080/"
        },
        "id": "Q-k_Fn3OTFce",
        "outputId": "b0b887cd-502c-46b1-aa28-938d37133d53"
      },
      "execution_count": null,
      "outputs": [
        {
          "output_type": "execute_result",
          "data": {
            "text/plain": [
              "0"
            ]
          },
          "metadata": {},
          "execution_count": 42
        }
      ]
    },
    {
      "cell_type": "code",
      "source": [
        "def sum_of_digits(s):\n",
        "  if not s:\n",
        "    print(\"The sum of digits operation could not detect a digit!\")\n",
        "    print(f\"The extracted non-digits are :[]\")\n",
        "    return 0\n",
        "\n",
        "  digits_sum=0\n",
        "  non_digits = []\n",
        "\n",
        "  for char in s:\n",
        "    if char.isdigit():\n",
        "      digits_sum = digits_sum + int(char)\n",
        "    else:\n",
        "      non_digits.append(char)\n",
        "\n",
        "  if digits_sum == 0:\n",
        "    print(\"The sum of digits operation could not detect a digit!\")\n",
        "    print(f\"The extracted non-digits are :{non_digits}\")\n",
        "    return 0\n",
        "\n",
        "  print(f\"The sum of digit operation {' + '.join(str(int(d)) for d in s if d.isdigit())}\")\n",
        "  print(f\"The extracted non-digits are :{non_digits}\")\n",
        "  return digits_sum\n",
        "\n",
        "print(sum_of_digits(\"123\"))\n",
        "print(sum_of_digits(\"we10a20b\"))\n",
        "print(sum_of_digits(\"united\"))\n",
        "print(sum_of_digits(\"\"))\n",
        "pass"
      ],
      "metadata": {
        "id": "ceKcu4sVTFj5",
        "colab": {
          "base_uri": "https://localhost:8080/",
          "height": 0
        },
        "outputId": "3db38ba9-a066-4a4e-9bc8-a519bf73b9d2"
      },
      "execution_count": 22,
      "outputs": [
        {
          "output_type": "stream",
          "name": "stdout",
          "text": [
            "The sum of digit operation 1 + 2 + 3\n",
            "The extracted non-digits are :[]\n",
            "6\n",
            "The sum of digit operation 1 + 0 + 2 + 0\n",
            "The extracted non-digits are :['w', 'e', 'a', 'b']\n",
            "3\n",
            "The sum of digits operation could not detect a digit!\n",
            "The extracted non-digits are :['u', 'n', 'i', 't', 'e', 'd']\n",
            "0\n",
            "The sum of digits operation could not detect a digit!\n",
            "The extracted non-digits are :[]\n",
            "0\n"
          ]
        }
      ]
    },
    {
      "cell_type": "markdown",
      "source": [],
      "metadata": {
        "id": "ytwkXGbeVWdl"
      }
    },
    {
      "cell_type": "code",
      "source": [],
      "metadata": {
        "id": "6pHjU7gzTFqI"
      },
      "execution_count": null,
      "outputs": []
    },
    {
      "cell_type": "markdown",
      "source": [
        "### Question 3 - Pluralize\n",
        "\n",
        "Please download following file named `pronoun.txt` before you solve this questions the link is given below:\n",
        "\n",
        "[Required file link](https://cdn.discordapp.com/attachments/953213295710584862/974555326865100830/pronoun.txt)\n",
        "\n",
        "Write a function `pluralize(word)` that determines the plural of an English word.\n",
        "Input: Your function takes one argument as input, word, a string representing the word to be\n",
        "pluralised. We assume this word will only be one single token, i.e., no spaces. Your function will also have to load the text file `proper nouns.txt`.\n",
        "\n",
        "Output: The function should return a dictionary of the form:\n",
        "  - {’plural’: word_in_plural, ’status’: x}\n",
        "\n",
        "\n",
        "where word_in_plural is the pluralized version of the input argument word and x is a\n",
        "string which can have one of the following values: ’empty_string’, ’proper_noun’, ’\n",
        "already_in_plural’, ’success’.\n",
        "\n",
        "\n",
        "Below is the logic (in order) that the function should execute.\n",
        "\n",
        "1) Determine if the word is an empty string, already in plural, or a proper noun.\n",
        "\n",
        "    • If the word is an empty string, then your function returns a dictionary with the following values:\n",
        "    \n",
        "      – word_in_plural = ’’ and x = ’empty_string’\n",
        "    \n",
        "      – Explanation: The input word is an empty string and it cannot be pluralized.\n",
        "    \n",
        "    • If the word is already in plural, then your function returns a dictionary with the following values:\n",
        "    \n",
        "      – word_in_plural = word and x = ’already_in_plural’.\n",
        "    \n",
        "      – Explanation: The input word remains untouched (e.g., input: houses, output: houses).\n",
        "    \n",
        "    • If the word is a proper noun, then your function returns a dictionary with the following values:\n",
        "    \n",
        "      – word_in_plural = word and x = ’proper_noun’.\n",
        "    \n",
        "      – Explanation: The input word is a proper noun, and therefore cannot be pluralized (e.g., input: Adam, output: Adam).\n",
        "\n",
        "    • How to determine plural form: We will assume a word is in plural if it ends with ’s’.\n",
        "\n",
        "    • How to determine if a word is a proper noun: We will assume a word is a proper noun if it exists in the file proper nouns.txt. Note that your function should convert any capitalised input to lower case first because the proper nouns in the list are all lower case. The values in your output dictionary, however, will retain the original capitalisation\n",
        "\n",
        "2) If the word is not plural and is not a proper noun, then:\n",
        "  Apply the following English plural rules.\n",
        "    \n",
        "    • If the word ends with a vowel:\n",
        "        – add -s.\n",
        "    \n",
        "    • Otherwise:\n",
        "        \n",
        "        – If it ends with ’y’ and is preceded by a consonant, erase the last letter and add\n",
        "        \n",
        "          -ies.\n",
        "        \n",
        "        – If it ends with ’f’, erase the last letter and add -ves.\n",
        "        \n",
        "        – If it ends with ’sh’/’ch’/’z’, add -es.\n",
        "        \n",
        "        – If none of the above applies, just add -s.\n",
        "\n",
        "    • After these rules are applied, your output dictionary should be:\n",
        "        – {’plural’: word_in_plural, ’status’: ’success’}\n",
        "\n",
        "\n",
        "Test code: The following test cases will be tested:\n",
        "\n",
        "`pluralize(\"failure\")`\n",
        "- Expected result: `{'plural':'failures', 'status':'success'}`\n",
        "\n",
        "`pluralize(\"food\")`\n",
        "- Expected result: `{'plural':'foods', 'status':'success'}`\n",
        "\n",
        "`pluralize(\"Zulma\")`\n",
        "- Expected result: `{'plural':'zulma', 'status':'proper_noun'}`\n",
        "\n",
        "`pluralize(\"injury\")`\n",
        "- Expected result: `{'plural':'injuries', 'status':'success'}`\n",
        "\n",
        "`pluralize(\"elf\")`\n",
        "- Expected result: `{'plural':'elves', 'status':'success'}`\n",
        "\n",
        "`pluralize(\"buzz\")`\n",
        "- Expected result: `{'plural':'buzzes', 'status':'success'}`\n",
        "\n",
        "`pluralize(\"computers\")`\n",
        "- Expected result: `{'plural':'computers', 'status':'already_in_plural'}`\n",
        "\n",
        "`pluralize(\"PCs\")`\n",
        "- Expected result: `{'plural':'PCs', 'status':'already_in_plural'}`\n",
        "\n",
        "`pluralize(\"\")`\n",
        "- Expected result: `{'plural':'', 'status':'empty_string'}`\n",
        "\n",
        "`pluralize(\"highway\")`\n",
        "- Expected result: `{'plural':'highways', 'status':'success'}`\n",
        "\n",
        "`pluralize(\"presentation\")`\n",
        "- Expected result: `{'plural':'presentations', 'status':'success'}`\n",
        "\n",
        "`pluralize(\"pouch\")`\n",
        "- Expected result: `{'plural':'pouches', 'status':'success'}`\n",
        "\n",
        "`pluralize(\"COVID-19\")`\n",
        "- Expected result: `{'plural':'COVID-19s', 'status':'success'}`\n",
        "\n",
        "`pluralize(\"adam\")`\n",
        "- Expected result: `{'plural':'adam', 'status':'proper_noun'}`\n"
      ],
      "metadata": {
        "id": "Ho-lFx1GFOvj"
      }
    },
    {
      "cell_type": "code",
      "source": [
        "# from google.colab import drive\n",
        "# drive.mount('/content/pronoun.txt')"
      ],
      "metadata": {
        "id": "75ZS0waXZS_I"
      },
      "execution_count": null,
      "outputs": []
    },
    {
      "cell_type": "code",
      "source": [
        "fw=open('pronoun.txt')\n",
        "text=fw.read()\n",
        "print(text)\n",
        "fw.close()\n"
      ],
      "metadata": {
        "id": "6gz7Fn_YZUs1"
      },
      "execution_count": null,
      "outputs": []
    },
    {
      "cell_type": "code",
      "source": [
        "def pluralize(word):\n",
        "  fw=open('/content/pronoun.txt')\n",
        "  text=fw.read()\n",
        "  # print(text)\n",
        "  fw.close()\n",
        "\n",
        "  if word.endswith('s'):\n",
        "    return {'plural':word, 'status':'already_string'}\n",
        "\n",
        "  if word==\"\":\n",
        "    return {'plural':'', 'status':'empty_string'}\n",
        "\n",
        "  word_lower=word.lower()\n",
        "  with open('pronoun.txt','r') as file:\n",
        "    proper_nouns= file.read().splitlines()\n",
        "\n",
        "  if word_lower in proper_nouns:\n",
        "    return {'plural': word , 'status':'proper noun'}\n",
        "\n",
        "  if word[-1] in 'aeiou':\n",
        "    word_in_plural= word + 's'\n",
        "\n",
        "  elif word.endswith('y') and word[-2] not in 'aeiou':\n",
        "    word_in_plural = word[:-1] +'ies'\n",
        "\n",
        "  elif word.endswith('f'):\n",
        "    word_in_plural = word +'ves'\n",
        "\n",
        "  elif word.endswith(('sh','ch','z')):\n",
        "    word_in_plural = word +'es'\n",
        "\n",
        "  else:\n",
        "    word_in_plural= word +'s'\n",
        "\n",
        "  return {'plural':word_in_plural, 'status':'success'}\n",
        "\n",
        "  print(r)\n",
        "pluralize('presentation')\n",
        "\n",
        "\n",
        "\n"
      ],
      "metadata": {
        "id": "S799jgeQZU1r",
        "colab": {
          "base_uri": "https://localhost:8080/",
          "height": 0
        },
        "outputId": "824f6eb7-16d7-4b06-9734-c5e17ede55f8"
      },
      "execution_count": 14,
      "outputs": [
        {
          "output_type": "execute_result",
          "data": {
            "text/plain": [
              "{'plural': 'presentations', 'status': 'success'}"
            ]
          },
          "metadata": {},
          "execution_count": 14
        }
      ]
    },
    {
      "cell_type": "code",
      "source": [],
      "metadata": {
        "id": "2OUYhhNQZU8H",
        "colab": {
          "base_uri": "https://localhost:8080/",
          "height": 193
        },
        "outputId": "650b2356-bd24-4b9d-d249-f0097c70468d"
      },
      "execution_count": 3,
      "outputs": [
        {
          "output_type": "error",
          "ename": "NameError",
          "evalue": "ignored",
          "traceback": [
            "\u001b[0;31m---------------------------------------------------------------------------\u001b[0m",
            "\u001b[0;31mNameError\u001b[0m                                 Traceback (most recent call last)",
            "\u001b[0;32m<ipython-input-3-36b0790ce487>\u001b[0m in \u001b[0;36m<cell line: 1>\u001b[0;34m()\u001b[0m\n\u001b[0;32m----> 1\u001b[0;31m \u001b[0mword\u001b[0m \u001b[0;34m=\u001b[0m\u001b[0;34m[\u001b[0m\u001b[0mbiff\u001b[0m\u001b[0;34m]\u001b[0m\u001b[0;34m\u001b[0m\u001b[0;34m\u001b[0m\u001b[0m\n\u001b[0m\u001b[1;32m      2\u001b[0m \u001b[0mword\u001b[0m\u001b[0;34m[\u001b[0m\u001b[0;34m-\u001b[0m\u001b[0;36m1\u001b[0m\u001b[0;34m]\u001b[0m\u001b[0;34m\u001b[0m\u001b[0;34m\u001b[0m\u001b[0m\n",
            "\u001b[0;31mNameError\u001b[0m: name 'biff' is not defined"
          ]
        }
      ]
    },
    {
      "cell_type": "code",
      "source": [],
      "metadata": {
        "id": "mtQHQat2ZVC6"
      },
      "execution_count": null,
      "outputs": []
    },
    {
      "cell_type": "markdown",
      "source": [
        "### Question 4 - Function renamer\n",
        "\n",
        "\n",
        "You are working on a large-scale software project involving thousands of different Python files. The files have been written by different programmers and the naming of functions is somewhat inconsistent. You receive a new directive stating that the function names all have to be in camel case. In camel case, function names consisting of multiple words have a capital letter in each word and most underscores are removed. For instance, `def MyArithmeticCalculator()` is in camel case but `def my_arithmetic_calculator()` is not in camel case.\n",
        "\n",
        "You want to write a Python program that automatically processes Python code and renames the function names instead of doing it by hand. The instruction states that:\n",
        "\n",
        "  1.) All functions names need to be changed to camel case. E.g. a function\n",
        "  `calculate_speed_of_vehicle()` needs to be renamed to `CalculateSpeedOfVehicle()`.\n",
        "\n",
        "  2.) If the function has one or more leading ’_’ (underscores) they need to be preserved.\n",
        "\n",
        "  All other underscores need to be removed. E.g. a function `__calc_size()` is renamed to `__CalcSize()`.\n",
        "\n",
        "  3.) If the function is already in camel case, you do not need to change it but it still needs to appear in the dictionary d specified below.\n",
        "\n",
        "  4.) You can assume that there will be no name clashes. That is, a given function name which is not in camel case will not already appear in camel case elsewhere. E.g.if there is a function `print_all_strings()` then there is no function `PrintAllStrings()` elsewhere in the code.\n",
        "\n",
        "5.) Tip: You can use regular expressions to find the function names.\n",
        "\n",
        "\n",
        "To implement this, write a function `function_renamer(code)` that takes as input a string code that represents the Python code. It is typically a multi-line Python string. Your function needs to return the tuple `(d, newcode)`:\n",
        "\n",
        "  • `d` is a nested dictionary where each key corresponds to the original function name. The value is a nested dictionary that has the following items:\n",
        "\n",
        "    – hash: hash code of the original function name (tip: use Python’s hash function)\n",
        "\n",
        "    – camelcase: camel case version of original function name\n",
        "\n",
        "    – allcaps: all caps version of original function name\n",
        "\n",
        "  • newcode is a string containing the code wherein all function names have been renamed by their camel case versions. Note that you need to change the function name and also all other locations where the function name is used (e.g. function calls). You should not change anything else in the code (e.g. the contents of any strings). To clarify this, a few examples are given below:\n",
        "    - Example 1: Assume your input code is the multi-line string\n",
        "    \n",
        "        def add_two_numbers(a, b):\n",
        "          return a + b\n",
        "          print(add_two_numbers(10, 20))\n",
        "\n",
        "    \n",
        "    \n",
        "      After processing it with your function, the code should be changed to\n",
        "\n",
        "        def AddTwoNumbers(a, b):\n",
        "          return a + b\n",
        "        print(AddTwoNumbers(10, 20))\n",
        "\n",
        "        The nested dictionary is given by\n",
        "        d = {’add_two_numbers’:\n",
        "        {’hash’:-9214996652071026704,\n",
        "        ’camelcase’:’AddTwoNumbers’,\n",
        "        ’allcaps’:’ADD_TWO_NUMBERS’} }\n",
        "\n",
        "\n",
        "    - Example 2: Assume your input code is the multi-line string\n",
        "          def _major_split(*args):\n",
        "            return (args[:2], args[2:])\n",
        "          \n",
        "          \n",
        "          def CheckTruth(t = True):\n",
        "            print(’t is’, t)\n",
        "            return _major_split([t]*10)\n",
        "          \n",
        "          x, y = _major_split((10, 20, 30, 40, 50))\n",
        "\n",
        "\n",
        "\n",
        "      CheckTruth(len(x) == 10)\n",
        "\n",
        "      After processing it with your function, the code should be changed to\n",
        "          def _MajorSplit(*args):\n",
        "            return (args[:2], args[2:])\n",
        "          \n",
        "          def CheckTruth(t = True):\n",
        "            print(’t is’, t)\n",
        "            return _MajorSplit([t]*10)\n",
        "          x, y = _MajorSplit((10, 20, 30, 40, 50))\n",
        "          \n",
        "          CheckTruth(len(x) == 10)\n",
        "          \n",
        "          The nested dictionary is given by\n",
        "          \n",
        "          d = {’CheckTruth’:\n",
        "          {’hash’:-6410081306665365595,\n",
        "          ’camelcase’:’CheckTruth’,\n",
        "          ’allcaps’:’CHECKTRUTH’,\n",
        "          ’_major_split’:\n",
        "          {’hash’:484498917506710667,\n",
        "          ’camelcase’:’_MajorSplit’,\n",
        "          ’allcaps’:’_MAJOR_SPLIT’}}\n",
        "\n",
        "\n",
        "\n",
        "Test code: The examples given above are the only test cases to be handled for this question."
      ],
      "metadata": {
        "id": "-XQCi9ydHG9t"
      }
    },
    {
      "cell_type": "code",
      "source": [
        "import re\n",
        "def function_renamer(code):\n",
        "  # print(code)\n",
        "\n",
        "  def convert_to_camel(code):\n",
        "    function_name=code\n",
        "    words=code.split('_')\n",
        "    camel_case=words[0]+ ''.join(word.capitalize() for word in words[1:])\n",
        "    all_caps=function_name.upper()\n",
        "    d={\"hash\":hash(function_name),\n",
        "      \"camelcase\":camel_case,\n",
        "      \"allcaps\":all_caps\n",
        "    }\n",
        "    print(d)\n",
        "\n",
        "\n",
        "    return camel_case\n",
        "  x=convert_to_camel(code)\n",
        "  print(x)\n",
        "\n",
        "\n"
      ],
      "metadata": {
        "id": "FQy1xCBIJu5E"
      },
      "execution_count": 99,
      "outputs": []
    },
    {
      "cell_type": "code",
      "source": [
        "code = \"\"\"def add_two_numbers(a, b):\n",
        "      return a + b\n",
        "      print(add_two_numbers(10, 20))\"\"\"\n",
        "\n",
        "code1=\"\"\"def _major_split(*args):\n",
        "        return (args[:2], args[2:])\n",
        "\n",
        "\n",
        "      def CheckTruth(t = True):\n",
        "        print(’t is’, t)\n",
        "        return _major_split([t]*10)\n",
        "\n",
        "      x, y = _major_split((10, 20, 30, 40, 50))\n",
        "\n",
        "\n",
        "\n",
        "  CheckTruth(len(x) == 10)\"\"\"\n",
        "newcode=function_renamer(code)\n",
        "print(newcode)\n",
        "\n",
        "newcode1=function_renamer(code1)\n",
        "print(newcode1)"
      ],
      "metadata": {
        "id": "NtuJzG7keDPx",
        "colab": {
          "base_uri": "https://localhost:8080/"
        },
        "outputId": "ef9ca135-0521-44fa-9cb3-c35c64f65a7e"
      },
      "execution_count": 102,
      "outputs": [
        {
          "output_type": "stream",
          "name": "stdout",
          "text": [
            "{'hash': -2985738248633852320, 'camelcase': 'def addTwoNumbers(a, b):\\n      return a + b\\n      print(addTwoNumbers(10, 20))', 'allcaps': 'DEF ADD_TWO_NUMBERS(A, B):\\n      RETURN A + B\\n      PRINT(ADD_TWO_NUMBERS(10, 20))'}\n",
            "def addTwoNumbers(a, b):\n",
            "      return a + b\n",
            "      print(addTwoNumbers(10, 20))\n",
            "None\n",
            "{'hash': -2440113279181182179, 'camelcase': 'def MajorSplit(*args):\\n        return (args[:2], args[2:])\\n\\n\\n      def checktruth(t = true):\\n        print(’t is’, t)\\n        return MajorSplit([t]*10)\\n\\n      x, y = MajorSplit((10, 20, 30, 40, 50))\\n\\n\\n\\n  checktruth(len(x) == 10)', 'allcaps': 'DEF _MAJOR_SPLIT(*ARGS):\\n        RETURN (ARGS[:2], ARGS[2:])\\n\\n\\n      DEF CHECKTRUTH(T = TRUE):\\n        PRINT(’T IS’, T)\\n        RETURN _MAJOR_SPLIT([T]*10)\\n\\n      X, Y = _MAJOR_SPLIT((10, 20, 30, 40, 50))\\n\\n\\n\\n  CHECKTRUTH(LEN(X) == 10)'}\n",
            "def MajorSplit(*args):\n",
            "        return (args[:2], args[2:])\n",
            "\n",
            "\n",
            "      def checktruth(t = true):\n",
            "        print(’t is’, t)\n",
            "        return MajorSplit([t]*10)\n",
            "\n",
            "      x, y = MajorSplit((10, 20, 30, 40, 50))\n",
            "\n",
            "\n",
            "\n",
            "  checktruth(len(x) == 10)\n",
            "None\n"
          ]
        }
      ]
    },
    {
      "cell_type": "code",
      "source": [],
      "metadata": {
        "id": "GA8Ez1vxeDtN"
      },
      "execution_count": null,
      "outputs": []
    },
    {
      "cell_type": "markdown",
      "source": [
        "## Submit your solution\n",
        "\n",
        "Once you are finish with the test, please make sure that you have renamed your solutions in the format given ahead ex. **python_test(pranav_uikey)** and submit it using this [following link](https://github.com/Ai-Adventures/Python_test_submissions)"
      ],
      "metadata": {
        "id": "TSSWnkRKpDmB"
      }
    },
    {
      "source": [
        "## All The Best!!"
      ],
      "cell_type": "markdown",
      "metadata": {
        "id": "3DGlZHtVnU0A"
      }
    }
  ]
}