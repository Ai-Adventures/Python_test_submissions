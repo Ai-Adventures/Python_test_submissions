{
  "nbformat": 4,
  "nbformat_minor": 0,
  "metadata": {
    "colab": {
      "provenance": []
    },
    "kernelspec": {
      "name": "python3",
      "display_name": "Python 3",
      "language": "python"
    },
    "language_info": {
      "name": "python",
      "version": "3.7.10-final"
    }
  },
  "cells": [
    {
      "cell_type": "markdown",
      "source": [
        "## Python Test\n",
        "\n",
        "### Instructions:\n",
        "\n",
        "You are given with Python coding problems. These problems will give you the chance to test your implementations of the questions. Each code runs your implementations for a number of testcases. You use the test codes to make sure that:\n",
        "\n",
        "    • Your function does not crash, that is, there is no Python errors when trying to run the\n",
        "    function.\n",
        "\n",
        "    • Compare the results of the testcases to your results. Expected results are given at the\n",
        "    end of each code.\n",
        "\n",
        "\n",
        "In each problem, replace pass command with your implementation of each required function."
      ],
      "metadata": {
        "id": "AoBhB2LUBoyf"
      }
    },
    {
      "cell_type": "markdown",
      "source": [
        "### Question 1 - Arithmetic\n",
        "\n",
        "In this question, your task is to implement a function `do_arithmetic(x,y,op)` which takes three input arguments: a number x,\n",
        "a number y, and a string op representing an operation. The function has to perform the\n",
        "operation on the two numbers and return the result.\n",
        "\n",
        "- Example 1: if you call the function with the parameter `do_arithmetic(10,4,’add’)` the function should return the value 14.0.\n",
        "\n",
        "- Example 2: `do_arithmetic(2,3,’*’)` should return 6.0.\n",
        "\n",
        "**Detailed instructions:**\n",
        "-  You can assume that x and y are always provided and always valid numbers (e.g. integers or floats).\n",
        "\n",
        "- `op` is a string representing the operation to perform. You have to implement four operations with ’add’, ’+’, ’subtract’, ’-’, ’multiply’, ’*’, and ’divide’, ’/’.\n",
        "\n",
        "- If `op` is not specified by the user it should default to ’add’.\n",
        "\n",
        "- If `op` is specified by the user but it is not one of the four operations (with eight keywords), print ’Unknown operation’ and return None.\n",
        "\n",
        "- Division by zero should be avoided. To this end, return None whenever division by zero would occur, and print ’Division by 0!’\n",
        "\n",
        "- The returned result should always be of type float.\n",
        "\n",
        "Test code: The following test cases will be tested:\n",
        "\n",
        "`do_arithmetic(24, -7, 'add')`\n",
        "- Expected result:- 17.0\n",
        "\n",
        "`do_arithmetic(6, 6, 'multiply')`\n",
        "- Expected result:- 36.0\n",
        "\n",
        "`do_arithmetic(4, 0, '/')`\n",
        "- Expected result: \"Division by Zero!\"\n",
        "\n",
        "`do_arithmetic(3, 9, '-')`\n",
        "- Expected result: -6.0\n",
        "\n",
        "`do_arithmetic(10, -43, 'subtract')`\n",
        "- Expected result: 53.0\n",
        "\n",
        "`do_arithmetic(3, 9)`\n",
        "- Expected result: 12.0"
      ],
      "metadata": {
        "id": "a9aj25yKCjXR"
      }
    },
    {
      "cell_type": "code",
      "source": [
        "def do_arithmetic(x,y,op = '+'):\n",
        "  if op == 'add' or op == '+':\n",
        "    return(float(x + y))\n",
        "  elif op == 'subtract' or op == '-':\n",
        "    return(float(x - y))\n",
        "  elif op == 'multiplication' or op == '*':\n",
        "    return(float(x * y))\n",
        "  elif op == 'division' or op == '/' :\n",
        "    return(x / y)\n",
        "  else:\n",
        "    return(None)\n",
        "  pass\n",
        ""
      ],
      "metadata": {
        "id": "6qw-Ev62CZ55"
      },
      "execution_count": 275,
      "outputs": []
    },
    {
      "cell_type": "code",
      "source": [
        "do_arithmetic(2,4)"
      ],
      "metadata": {
        "colab": {
          "base_uri": "https://localhost:8080/"
        },
        "id": "4EkuMUpXOFhA",
        "outputId": "fccaaa7a-fce8-435a-add6-37ba3c8050eb"
      },
      "execution_count": 276,
      "outputs": [
        {
          "output_type": "execute_result",
          "data": {
            "text/plain": [
              "6.0"
            ]
          },
          "metadata": {},
          "execution_count": 276
        }
      ]
    },
    {
      "cell_type": "code",
      "source": [
        "do_arithmetic(4,2,'division')"
      ],
      "metadata": {
        "colab": {
          "base_uri": "https://localhost:8080/"
        },
        "id": "uQRlPLEFOFRu",
        "outputId": "0766c901-f4c4-49fb-a5b2-8f3879b05dc3"
      },
      "execution_count": 277,
      "outputs": [
        {
          "output_type": "execute_result",
          "data": {
            "text/plain": [
              "2.0"
            ]
          },
          "metadata": {},
          "execution_count": 277
        }
      ]
    },
    {
      "cell_type": "markdown",
      "source": [
        "### Question 2 - Sum of digits\n",
        "\n",
        "Write a function `sum_of_digits(s)` that takes as input a string s that contains some numbers. The function calculates the sum of all the digits in the string, ignoring any symbols that\n",
        "are not digits.\n",
        "\n",
        "• Example: `sum_of_digits(\"123\")` should return 6 since 1+2+3 = 6\n",
        "\n",
        "• Example 2: `sum_of_digits(\"10a20\")` should return 3 because 1+0+2+0 = 3.\n",
        "Detailed instructions:\n",
        "\n",
        "- if s includes both digits and nondigits\n",
        "\n",
        "  – Calculate the sum of digits and return the result whilst ignoring any\n",
        "  \n",
        "  non-digit symbols in the string.\n",
        "  \n",
        "  – print e.g. for `sum_of_digits(\"10a20\")`\n",
        "  \n",
        "  ’The sum of digits operation performs 1+0+2+0’\n",
        "\n",
        "  – Save the extracted non-digits in a variable of interest as a list and print \"The extracted non-digits are: [’a’]\"\n",
        "\n",
        "- If s is not provided or an empty string return 0 and print\n",
        "  \n",
        "  ’Empty string entered!’.\n",
        "\n",
        "- If s is provided, but it contains no digits return 0 and print\n",
        "  \n",
        "  ’The sum of digits operation could not detect a digit!’\n",
        "  \n",
        "  ’The returned input letters are: [ALL NONDIGITS HERE]’\n",
        "\n",
        "- The returned number should be an integer.\n",
        "\n",
        "  - Example 1: When you run `sum_of_digits(\"a1w3\")` , the function should print\n",
        "    \n",
        "    The sum of digits operation performs 1+3\n",
        "    \n",
        "    The extracted non-digits are: [’a’, ’w’]\n",
        "    \n",
        "    4\n",
        "\n",
        "  - Example 2: When you run `sum_of_digits(\"united\")`, the function should print\n",
        "    \n",
        "    The sum of digits operation could not detect a digit!\n",
        "\n",
        "    The returned input letters are: [’u’, ’n’, ’i’, ’t’, ’e’, ’d’]\n",
        "    \n",
        "    0\n",
        "\n",
        "Test code: The following test cases will be tested:\n",
        "\n",
        "`sum_of_digits(\"123\")`\n",
        "\n",
        "- Expected result:\n",
        "  \n",
        "  The sum of digit operation performs 1 + 2 + 3\n",
        "  \n",
        "  The extracted non-digits are []\n",
        "  \n",
        "  6\n",
        "\n",
        "`sum_of_digits(\"we10a20b\")`\n",
        "\n",
        "- Expected result:\n",
        "\n",
        "  The sum of digit operation performs 1 + 0 + 2 + 0\n",
        "\n",
        "  The extracted non-digits are ['w', 'e', 'a', 'b']\n",
        "\n",
        "  3\n",
        "\n",
        "`sum_of_digits(\"united\")`\n",
        "- Expected result:\n",
        "\n",
        "  The sum of digits operation could not detect a digit!\n",
        "  \n",
        "  The extracted non-digits are ['u', 'n', 'i', 't', 'e', 'd']\n",
        "  \n",
        "  0\n",
        "\n",
        "`sum_of_digits(\"\")`\n",
        "\n",
        "- Expected result:\n",
        "\n",
        "  The sum of digits operation could not detect a digit!\n",
        "  \n",
        "  The extracted non-digits are []\n",
        "  \n",
        "  0"
      ],
      "metadata": {
        "id": "oiXY9pAQD5bE"
      }
    },
    {
      "cell_type": "code",
      "source": [
        "def sum_of_digits(s):\n",
        "  sum = 0\n",
        "  list1 = []\n",
        "  dig = []\n",
        "  list2 = []\n",
        "  for i in s:\n",
        "    if i in '1234567890':\n",
        "      sum += int(i)\n",
        "      dig.append(i)\n",
        "    else:\n",
        "      list1.append(i)\n",
        "  if len(dig) != 0:\n",
        "    list2.append(i)\n",
        "    print('The sum of digit operation performs ',' + '.join(dig))\n",
        "  else:\n",
        "    print('The sum of digits operation could not detect a digit!')\n",
        "\n",
        "  print('The extracted non-digits are ',list1)\n",
        "  return sum\n",
        "pass"
      ],
      "metadata": {
        "id": "quwAzI41D44Y"
      },
      "execution_count": 432,
      "outputs": []
    },
    {
      "cell_type": "code",
      "source": [
        "sum_of_digits('sdsd23')"
      ],
      "metadata": {
        "colab": {
          "base_uri": "https://localhost:8080/"
        },
        "id": "mq_094GISxgK",
        "outputId": "860c3a2f-25db-42bb-b371-53e76b1b8bee"
      },
      "execution_count": 433,
      "outputs": [
        {
          "output_type": "stream",
          "name": "stdout",
          "text": [
            "The sum of digit operation performs  2 + 3\n",
            "The extracted non-digits are  ['s', 'd', 's', 'd']\n"
          ]
        },
        {
          "output_type": "execute_result",
          "data": {
            "text/plain": [
              "5"
            ]
          },
          "metadata": {},
          "execution_count": 433
        }
      ]
    },
    {
      "cell_type": "code",
      "source": [
        "sum_of_digits('unioted')"
      ],
      "metadata": {
        "colab": {
          "base_uri": "https://localhost:8080/"
        },
        "id": "kcuPZjS-Suym",
        "outputId": "623287cf-55f3-4865-bca6-3d18ec98ef5b"
      },
      "execution_count": 434,
      "outputs": [
        {
          "output_type": "stream",
          "name": "stdout",
          "text": [
            "The sum of digits operation could not detect a digit!\n",
            "The extracted non-digits are  ['u', 'n', 'i', 'o', 't', 'e', 'd']\n"
          ]
        },
        {
          "output_type": "execute_result",
          "data": {
            "text/plain": [
              "0"
            ]
          },
          "metadata": {},
          "execution_count": 434
        }
      ]
    },
    {
      "cell_type": "markdown",
      "source": [
        "### Question 3 - Pluralize\n",
        "\n",
        "Please download following file named `pronoun.txt` before you solve this questions the link is given below:\n",
        "\n",
        "[Required file link](https://cdn.discordapp.com/attachments/953213295710584862/974555326865100830/pronoun.txt)\n",
        "\n",
        "Write a function `pluralize(word)` that determines the plural of an English word.\n",
        "Input: Your function takes one argument as input, word, a string representing the word to be\n",
        "pluralised. We assume this word will only be one single token, i.e., no spaces. Your function will also have to load the text file `proper nouns.txt`.\n",
        "\n",
        "Output: The function should return a dictionary of the form:\n",
        "  - {’plural’: word_in_plural, ’status’: x}\n",
        "\n",
        "\n",
        "where word_in_plural is the pluralized version of the input argument word and x is a\n",
        "string which can have one of the following values: ’empty_string’, ’proper_noun’, ’\n",
        "already_in_plural’, ’success’.\n",
        "\n",
        "\n",
        "Below is the logic (in order) that the function should execute.\n",
        "\n",
        "1) Determine if the word is an empty string, already in plural, or a proper noun.\n",
        "\n",
        "    • If the word is an empty string, then your function returns a dictionary with the following values:\n",
        "    \n",
        "      – word_in_plural = ’’ and x = ’empty_string’\n",
        "    \n",
        "      – Explanation: The input word is an empty string and it cannot be pluralized.\n",
        "    \n",
        "    • If the word is already in plural, then your function returns a dictionary with the following values:\n",
        "    \n",
        "      – word_in_plural = word and x = ’already_in_plural’.\n",
        "    \n",
        "      – Explanation: The input word remains untouched (e.g., input: houses, output: houses).\n",
        "    \n",
        "    • If the word is a proper noun, then your function returns a dictionary with the following values:\n",
        "    \n",
        "      – word_in_plural = word and x = ’proper_noun’.\n",
        "    \n",
        "      – Explanation: The input word is a proper noun, and therefore cannot be pluralized (e.g., input: Adam, output: Adam).\n",
        "\n",
        "    • How to determine plural form: We will assume a word is in plural if it ends with ’s’.\n",
        "\n",
        "    • How to determine if a word is a proper noun: We will assume a word is a proper noun if it exists in the file proper nouns.txt. Note that your function should convert any capitalised input to lower case first because the proper nouns in the list are all lower case. The values in your output dictionary, however, will retain the original capitalisation\n",
        "\n",
        "2) If the word is not plural and is not a proper noun, then:\n",
        "  Apply the following English plural rules.\n",
        "    \n",
        "    • If the word ends with a vowel:\n",
        "        – add -s.\n",
        "    \n",
        "    • Otherwise:\n",
        "        \n",
        "        – If it ends with ’y’ and is preceded by a consonant, erase the last letter and add\n",
        "        \n",
        "          -ies.\n",
        "        \n",
        "        – If it ends with ’f’, erase the last letter and add -ves.\n",
        "        \n",
        "        – If it ends with ’sh’/’ch’/’z’, add -es.\n",
        "        \n",
        "        – If none of the above applies, just add -s.\n",
        "\n",
        "    • After these rules are applied, your output dictionary should be:\n",
        "        – {’plural’: word_in_plural, ’status’: ’success’}\n",
        "\n",
        "\n",
        "Test code: The following test cases will be tested:\n",
        "\n",
        "`pluralize(\"failure\")`\n",
        "- Expected result: `{'plural':'failures', 'status':'success'}`\n",
        "\n",
        "`pluralize(\"food\")`\n",
        "- Expected result: `{'plural':'foods', 'status':'success'}`\n",
        "\n",
        "`pluralize(\"Zulma\")`\n",
        "- Expected result: `{'plural':'zulma', 'status':'proper_noun'}`\n",
        "\n",
        "`pluralize(\"injury\")`\n",
        "- Expected result: `{'plural':'injuries', 'status':'success'}`\n",
        "\n",
        "`pluralize(\"elf\")`\n",
        "- Expected result: `{'plural':'elves', 'status':'success'}`\n",
        "\n",
        "`pluralize(\"buzz\")`\n",
        "- Expected result: `{'plural':'buzzes', 'status':'success'}`\n",
        "\n",
        "`pluralize(\"computers\")`\n",
        "- Expected result: `{'plural':'computers', 'status':'already_in_plural'}`\n",
        "\n",
        "`pluralize(\"PCs\")`\n",
        "- Expected result: `{'plural':'PCs', 'status':'already_in_plural'}`\n",
        "\n",
        "`pluralize(\"\")`\n",
        "- Expected result: `{'plural':'', 'status':'empty_string'}`\n",
        "\n",
        "`pluralize(\"highway\")`\n",
        "- Expected result: `{'plural':'highways', 'status':'success'}`\n",
        "\n",
        "`pluralize(\"presentation\")`\n",
        "- Expected result: `{'plural':'presentations', 'status':'success'}`\n",
        "\n",
        "`pluralize(\"pouch\")`\n",
        "- Expected result: `{'plural':'pouches', 'status':'success'}`\n",
        "\n",
        "`pluralize(\"COVID-19\")`\n",
        "- Expected result: `{'plural':'COVID-19s', 'status':'success'}`\n",
        "\n",
        "`pluralize(\"adam\")`\n",
        "- Expected result: `{'plural':'adam', 'status':'proper_noun'}`\n"
      ],
      "metadata": {
        "id": "Ho-lFx1GFOvj"
      }
    },
    {
      "cell_type": "code",
      "source": [
        "def pluralize(word):\n",
        "  f = open(r'/content/drive/MyDrive/Colab Notebooks/File Handling Harshala/pronoun.txt', mode = 'r')\n",
        "  data = f.read()\n",
        "  data = data.split('\\n')\n",
        "  # print(data)\n",
        "  f.close()\n",
        "  if word == \"\":\n",
        "    dicts = dict({'plural':word , 'status':'empty_string'})\n",
        "\n",
        "  elif word.lower() in data:\n",
        "    dicts = dict({'plural':word.lower() , 'status':'proper_noun'})\n",
        "\n",
        "  elif word[-1] == 's' and word not in data:\n",
        "    dicts = dict({'plural':word , 'status':'already_in_plural'})\n",
        "\n",
        "  elif word[-1] in 'aeiou' and word not in data:\n",
        "    new = word[0:len(word)]+'s'\n",
        "    dicts = dict({'plural':new , 'status':'success'})\n",
        "\n",
        "  elif word[-1] == 'y' and word[0] not in 'aeiou':\n",
        "    new = word.replace(word[-1],'ies')\n",
        "    dicts = dict({'plural':new , 'status':'success'})\n",
        "\n",
        "  elif word[-1] == 'f' :\n",
        "    new = word.replace(word[-1],'ves')\n",
        "    dicts = dict({'plural':new , 'status':'success'})\n",
        "\n",
        "  elif (word[-1] == 'h' and word[-2] == 'c'or's') or word[-1] == 'z':\n",
        "    new = word + 'es'\n",
        "    dicts = dict({'plural':new , 'status':'success'})\n",
        "\n",
        "  else:\n",
        "    new = word + 's'\n",
        "    dicts = dict({'plural':word , 'status':'success'})\n",
        "  print(dicts)"
      ],
      "metadata": {
        "id": "xVUIqW4Tg9Cm"
      },
      "execution_count": 165,
      "outputs": []
    },
    {
      "cell_type": "code",
      "source": [
        "pluralize(\"\")"
      ],
      "metadata": {
        "colab": {
          "base_uri": "https://localhost:8080/"
        },
        "id": "fPrHZF8kqb2G",
        "outputId": "a1a56b63-50b6-49ab-835c-cbc7e236caa4"
      },
      "execution_count": 166,
      "outputs": [
        {
          "output_type": "stream",
          "name": "stdout",
          "text": [
            "{'plural': '', 'status': 'empty_string'}\n"
          ]
        }
      ]
    },
    {
      "cell_type": "code",
      "source": [
        "pluralize('adam')"
      ],
      "metadata": {
        "colab": {
          "base_uri": "https://localhost:8080/"
        },
        "id": "yP_c21QLqbyp",
        "outputId": "fc7a8a47-f778-4ecb-c004-be06487a193c"
      },
      "execution_count": 167,
      "outputs": [
        {
          "output_type": "stream",
          "name": "stdout",
          "text": [
            "{'plural': 'adam', 'status': 'proper_noun'}\n"
          ]
        }
      ]
    },
    {
      "cell_type": "code",
      "source": [
        "pluralize('pouch')"
      ],
      "metadata": {
        "colab": {
          "base_uri": "https://localhost:8080/"
        },
        "id": "N8YZkpJYqbsX",
        "outputId": "875d359d-eb4f-4810-a110-6559876a9513"
      },
      "execution_count": 168,
      "outputs": [
        {
          "output_type": "stream",
          "name": "stdout",
          "text": [
            "{'plural': 'pouches', 'status': 'success'}\n"
          ]
        }
      ]
    },
    {
      "cell_type": "code",
      "source": [
        "pluralize('pouz')"
      ],
      "metadata": {
        "colab": {
          "base_uri": "https://localhost:8080/"
        },
        "id": "5kMgKY8gqbou",
        "outputId": "9439b9ba-be20-46c4-e774-e5040e5f754f"
      },
      "execution_count": 169,
      "outputs": [
        {
          "output_type": "stream",
          "name": "stdout",
          "text": [
            "{'plural': 'pouzes', 'status': 'success'}\n"
          ]
        }
      ]
    },
    {
      "cell_type": "code",
      "source": [
        "pluralize('dsdsf')"
      ],
      "metadata": {
        "colab": {
          "base_uri": "https://localhost:8080/"
        },
        "id": "ZUW4aVJAt-lU",
        "outputId": "db6d2901-edd2-4bf1-b8b4-72ae6375d6f7"
      },
      "execution_count": 170,
      "outputs": [
        {
          "output_type": "stream",
          "name": "stdout",
          "text": [
            "{'plural': 'dsdsves', 'status': 'success'}\n"
          ]
        }
      ]
    },
    {
      "cell_type": "code",
      "source": [
        "import os\n",
        "os.getcwd()"
      ],
      "metadata": {
        "colab": {
          "base_uri": "https://localhost:8080/",
          "height": 36
        },
        "id": "QANVVrbfgUSN",
        "outputId": "1496f532-92d3-4f6a-a26d-37de961cd621"
      },
      "execution_count": 108,
      "outputs": [
        {
          "output_type": "execute_result",
          "data": {
            "text/plain": [
              "'/content'"
            ],
            "application/vnd.google.colaboratory.intrinsic+json": {
              "type": "string"
            }
          },
          "metadata": {},
          "execution_count": 108
        }
      ]
    },
    {
      "cell_type": "code",
      "source": [
        "f = open(r'/content/drive/MyDrive/Colab Notebooks/File Handling Harshala/pronoun.txt', mode = 'r')\n",
        "data = f.read()\n",
        "data = data.split('\\n')\n",
        "print(data)\n",
        "f.close()"
      ],
      "metadata": {
        "colab": {
          "base_uri": "https://localhost:8080/"
        },
        "id": "Hd3A6QuPgs1_",
        "outputId": "b5a9ceba-cd70-4cc3-fd52-aed3fd992abb"
      },
      "execution_count": 110,
      "outputs": [
        {
          "output_type": "stream",
          "name": "stdout",
          "text": [
            "['aaron', 'abdul', 'abe', 'abel', 'abraham', 'abram', 'adalberto', 'adam', 'adan', 'adolfo', 'adolph', 'adrian', 'agustin', 'ahmad', 'ahmed', 'al', 'alan', 'albert', 'alberto', 'alden', 'aldo', 'alec', 'alejandro', 'alex', 'alexander', 'alexis', 'alfonso', 'alfonzo', 'alfred', 'alfredo', 'ali', 'allan', 'allen', 'alonso', 'alonzo', 'alphonse', 'alphonso', 'alton', 'alva', 'alvaro', 'alvin', 'amado', 'ambrose', 'amos', 'anderson', 'andre', 'andrea', 'andreas', 'andres', 'andrew', 'andy', 'angel', 'angelo', 'anibal', 'anthony', 'antione', 'antoine', 'anton', 'antone', 'antonia', 'antonio', 'antony', 'antwan', 'archie', 'arden', 'ariel', 'arlen', 'arlie', 'armand', 'armando', 'arnold', 'arnoldo', 'arnulfo', 'aron', 'arron', 'art', 'arthur', 'arturo', 'asa', 'ashley', 'aubrey', 'august', 'augustine', 'augustus', 'aurelio', 'austin', 'avery', 'barney', 'barrett', 'barry', 'bart', 'barton', 'basil', 'beau', 'ben', 'benedict', 'benito', 'benjamin', 'bennett', 'bennie', 'benny', 'benton', 'bernard', 'bernardo', 'bernie', 'berry', 'bert', 'bertram', 'bill', 'billie', 'billy', 'blaine', 'blair', 'blake', 'bo', 'bob', 'bobbie', 'bobby', 'booker', 'boris', 'boyce', 'boyd', 'brad', 'bradford', 'bradley', 'bradly', 'brady', 'brain', 'branden', 'brandon', 'brant', 'brendan', 'brendon', 'brent', 'brenton', 'bret', 'brett', 'brian', 'brice', 'britt', 'brock', 'broderick', 'brooks', 'bruce', 'bruno', 'bryan', 'bryant', 'bryce', 'bryon', 'buck', 'bud', 'buddy', 'buford', 'burl', 'burt', 'burton', 'buster', 'byron', 'caleb', 'calvin', 'cameron', 'carey', 'carl', 'carlo', 'carlos', 'carlton', 'carmelo', 'carmen', 'carmine', 'carol', 'carrol', 'carroll', 'carson', 'carter', 'cary', 'casey', 'cecil', 'cedric', 'cedrick', 'cesar', 'chad', 'chadwick', 'chance', 'chang', 'charles', 'charley', 'charlie', 'chas', 'chase', 'chauncey', 'chester', 'chet', 'chi', 'chong', 'chris', 'christian', 'christoper', 'christopher', 'chuck', 'chung', 'clair', 'clarence', 'clark', 'claud', 'claude', 'claudio', 'clay', 'clayton', 'clement', 'clemente', 'cleo', 'cletus', 'cleveland', 'cliff', 'clifford', 'clifton', 'clint', 'clinton', 'clyde', 'cody', 'colby', 'cole', 'coleman', 'colin', 'collin', 'colton', 'columbus', 'connie', 'conrad', 'cordell', 'corey', 'cornelius', 'cornell', 'cortez', 'cory', 'courtney', 'coy', 'craig', 'cristobal', 'cristopher', 'cruz', 'curt', 'curtis', 'cyril', 'cyrus', 'dale', 'dallas', 'dalton', 'damian', 'damien', 'damion', 'damon', 'dan', 'dana', 'dane', 'danial', 'daniel', 'danilo', 'dannie', 'danny', 'dante', 'darell', 'daren', 'darin', 'dario', 'darius', 'darnell', 'daron', 'darrel', 'darrell', 'darren', 'darrick', 'darrin', 'darron', 'darryl', 'darwin', 'daryl', 'dave', 'david', 'davis', 'dean', 'deandre', 'deangelo', 'dee', 'del', 'delbert', 'delmar', 'delmer', 'demarcus', 'demetrius', 'denis', 'dennis', 'denny', 'denver', 'deon', 'derek', 'derick', 'derrick', 'deshawn', 'desmond', 'devin', 'devon', 'dewayne', 'dewey', 'dewitt', 'dexter', 'dick', 'diego', 'dillon', 'dino', 'dion', 'dirk', 'domenic', 'domingo', 'dominic', 'dominick', 'dominique', 'don', 'donald', 'dong', 'donn', 'donnell', 'donnie', 'donny', 'donovan', 'donte', 'dorian', 'dorsey', 'doug', 'douglas', 'douglass', 'doyle', 'drew', 'duane', 'dudley', 'duncan', 'dustin', 'dusty', 'dwain', 'dwayne', 'dwight', 'dylan', 'earl', 'earle', 'earnest', 'ed', 'eddie', 'eddy', 'edgar', 'edgardo', 'edison', 'edmond', 'edmund', 'edmundo', 'eduardo', 'edward', 'edwardo', 'edwin', 'efrain', 'efren', 'elbert', 'elden', 'eldon', 'eldridge', 'eli', 'elias', 'elijah', 'eliseo', 'elisha', 'elliot', 'elliott', 'ellis', 'ellsworth', 'elmer', 'elmo', 'eloy', 'elroy', 'elton', 'elvin', 'elvis', 'elwood', 'emanuel', 'emerson', 'emery', 'emil', 'emile', 'emilio', 'emmanuel', 'emmett', 'emmitt', 'emory', 'enoch', 'enrique', 'erasmo', 'eric', 'erich', 'erick', 'erik', 'erin', 'ernest', 'ernesto', 'ernie', 'errol', 'ervin', 'erwin', 'esteban', 'ethan', 'eugene', 'eugenio', 'eusebio', 'evan', 'everett', 'everette', 'ezekiel', 'ezequiel', 'ezra', 'fabian', 'faustino', 'fausto', 'federico', 'felipe', 'felix', 'felton', 'ferdinand', 'fermin', 'fernando', 'fidel', 'filiberto', 'fletcher', 'florencio', 'florentino', 'floyd', 'forest', 'forrest', 'foster', 'frances', 'francesco', 'francis', 'francisco', 'frank', 'frankie', 'franklin', 'franklyn', 'fred', 'freddie', 'freddy', 'frederic', 'frederick', 'fredric', 'fredrick', 'freeman', 'fritz', 'gabriel', 'gail', 'gale', 'galen', 'garfield', 'garland', 'garret', 'garrett', 'garry', 'garth', 'gary', 'gaston', 'gavin', 'gayle', 'gaylord', 'genaro', 'gene', 'geoffrey', 'george', 'gerald', 'geraldo', 'gerard', 'gerardo', 'german', 'gerry', 'gil', 'gilbert', 'gilberto', 'gino', 'giovanni', 'giuseppe', 'glen', 'glenn', 'gonzalo', 'gordon', 'grady', 'graham', 'graig', 'grant', 'granville', 'greg', 'gregg', 'gregorio', 'gregory', 'grover', 'guadalupe', 'guillermo', 'gus', 'gustavo', 'guy', 'hai', 'hal', 'hank', 'hans', 'harlan', 'harland', 'harley', 'harold', 'harris', 'harrison', 'harry', 'harvey', 'hassan', 'hayden', 'haywood', 'heath', 'hector', 'henry', 'herb', 'herbert', 'heriberto', 'herman', 'herschel', 'hershel', 'hilario', 'hilton', 'hipolito', 'hiram', 'hobert', 'hollis', 'homer', 'hong', 'horace', 'horacio', 'hosea', 'houston', 'howard', 'hoyt', 'hubert', 'huey', 'hugh', 'hugo', 'humberto', 'hung', 'hunter', 'hyman', 'ian', 'ignacio', 'ike', 'ira', 'irvin', 'irving', 'irwin', 'isaac', 'isaiah', 'isaias', 'isiah', 'isidro', 'ismael', 'israel', 'isreal', 'issac', 'ivan', 'ivory', 'jacinto', 'jack', 'jackie', 'jackson', 'jacob', 'jacques', 'jae', 'jaime', 'jake', 'jamaal', 'jamal', 'jamar', 'jame', 'jamel', 'james', 'jamey', 'jamie', 'jamison', 'jan', 'jared', 'jarod', 'jarred', 'jarrett', 'jarrod', 'jarvis', 'jason', 'jasper', 'javier', 'jay', 'jayson', 'jc', 'jean', 'jed', 'jeff', 'jefferey', 'jefferson', 'jeffery', 'jeffrey', 'jeffry', 'jerald', 'jeramy', 'jere', 'jeremiah', 'jeremy', 'jermaine', 'jerold', 'jerome', 'jeromy', 'jerrell', 'jerrod', 'jerrold', 'jerry', 'jess', 'jesse', 'jessie', 'jesus', 'jewel', 'jewell', 'jim', 'jimmie', 'jimmy', 'joan', 'joaquin', 'jody', 'joe', 'joel', 'joesph', 'joey', 'john', 'johnathan', 'johnathon', 'johnie', 'johnnie', 'johnny', 'johnson', 'jon', 'jonah', 'jonas', 'jonathan', 'jonathon', 'jordan', 'jordon', 'jorge', 'jose', 'josef', 'joseph', 'josh', 'joshua', 'josiah', 'jospeh', 'josue', 'juan', 'jude', 'judson', 'jules', 'julian', 'julio', 'julius', 'junior', 'justin', 'kareem', 'karl', 'kasey', 'keenan', 'keith', 'kelley', 'kelly', 'kelvin', 'ken', 'kendall', 'kendrick', 'keneth', 'kenneth', 'kennith', 'kenny', 'kent', 'kenton', 'kermit', 'kerry', 'keven', 'kevin', 'kieth', 'kim', 'king', 'kip', 'kirby', 'kirk', 'korey', 'kory', 'kraig', 'kris', 'kristofer', 'kristopher', 'kurt', 'kurtis', 'kyle', 'lacy', 'lamar', 'lamont', 'lance', 'landon', 'lane', 'lanny', 'larry', 'lauren', 'laurence', 'lavern', 'laverne', 'lawerence', 'lawrence', 'lazaro', 'leandro', 'lee', 'leif', 'leigh', 'leland', 'lemuel', 'len', 'lenard', 'lenny', 'leo', 'leon', 'leonard', 'leonardo', 'leonel', 'leopoldo', 'leroy', 'les', 'lesley', 'leslie', 'lester', 'levi', 'lewis', 'lincoln', 'lindsay', 'lindsey', 'lino', 'linwood', 'lionel', 'lloyd', 'logan', 'lon', 'long', 'lonnie', 'lonny', 'loren', 'lorenzo', 'lou', 'louie', 'louis', 'lowell', 'loyd', 'lucas', 'luciano', 'lucien', 'lucio', 'lucius', 'luigi', 'luis', 'luke', 'lupe', 'luther', 'lyle', 'lyman', 'lyndon', 'lynn', 'lynwood', 'mac', 'mack', 'major', 'malcolm', 'malcom', 'malik', 'man', 'manual', 'manuel', 'marc', 'marcel', 'marcelino', 'marcellus', 'marcelo', 'marco', 'marcos', 'marcus', 'margarito', 'maria', 'mariano', 'mario', 'marion', 'mark', 'markus', 'marlin', 'marlon', 'marquis', 'marshall', 'martin', 'marty', 'marvin', 'mary', 'mason', 'mathew', 'matt', 'matthew', 'maurice', 'mauricio', 'mauro', 'max', 'maximo', 'maxwell', 'maynard', 'mckinley', 'mel', 'melvin', 'merle', 'merlin', 'merrill', 'mervin', 'micah', 'michael', 'michal', 'michale', 'micheal', 'michel', 'mickey', 'miguel', 'mike', 'mikel', 'milan', 'miles', 'milford', 'millard', 'milo', 'milton', 'minh', 'miquel', 'mitch', 'mitchel', 'mitchell', 'modesto', 'mohamed', 'mohammad', 'mohammed', 'moises', 'monroe', 'monte', 'monty', 'morgan', 'morris', 'morton', 'mose', 'moses', 'moshe', 'murray', 'myles', 'myron', 'napoleon', 'nathan', 'nathanael', 'nathanial', 'nathaniel', 'neal', 'ned', 'neil', 'nelson', 'nestor', 'neville', 'newton', 'nicholas', 'nick', 'nickolas', 'nicky', 'nicolas', 'nigel', 'noah', 'noble', 'noe', 'noel', 'nolan', 'norbert', 'norberto', 'norman', 'normand', 'norris', 'numbers', 'octavio', 'odell', 'odis', 'olen', 'olin', 'oliver', 'ollie', 'omar', 'omer', 'oren', 'orlando', 'orval', 'orville', 'oscar', 'osvaldo', 'oswaldo', 'otha', 'otis', 'otto', 'owen', 'pablo', 'palmer', 'paris', 'parker', 'pasquale', 'pat', 'patricia', 'patrick', 'paul', 'pedro', 'percy', 'perry', 'pete', 'peter', 'phil', 'philip', 'phillip', 'pierre', 'porfirio', 'porter', 'preston', 'prince', 'quentin', 'quincy', 'quinn', 'quintin', 'quinton', 'rafael', 'raleigh', 'ralph', 'ramiro', 'ramon', 'randal', 'randall', 'randell', 'randolph', 'randy', 'raphael', 'rashad', 'raul', 'ray', 'rayford', 'raymon', 'raymond', 'raymundo', 'reed', 'refugio', 'reggie', 'reginald', 'reid', 'reinaldo', 'renaldo', 'renato', 'rene', 'reuben', 'rex', 'rey', 'reyes', 'reynaldo', 'rhett', 'ricardo', 'rich', 'richard', 'richie', 'rick', 'rickey', 'rickie', 'ricky', 'rico', 'rigoberto', 'riley', 'rob', 'robbie', 'robby', 'robert', 'roberto', 'robin', 'robt', 'rocco', 'rocky', 'rod', 'roderick', 'rodger', 'rodney', 'rodolfo', 'rodrick', 'rodrigo', 'rogelio', 'roger', 'roland', 'rolando', 'rolf', 'rolland', 'roman', 'romeo', 'ron', 'ronald', 'ronnie', 'ronny', 'roosevelt', 'rory', 'rosario', 'roscoe', 'rosendo', 'ross', 'roy', 'royal', 'royce', 'ruben', 'rubin', 'rudolf', 'rudolph', 'rudy', 'rueben', 'rufus', 'rupert', 'russ', 'russel', 'russell', 'rusty', 'ryan', 'sal', 'salvador', 'salvatore', 'sam', 'sammie', 'sammy', 'samual', 'samuel', 'sandy', 'sanford', 'sang', 'santiago', 'santo', 'santos', 'saul', 'scot', 'scott', 'scottie', 'scotty', 'sean', 'sebastian', 'sergio', 'seth', 'seymour', 'shad', 'shane', 'shannon', 'shaun', 'shawn', 'shayne', 'shelby', 'sheldon', 'shelton', 'sherman', 'sherwood', 'shirley', 'shon', 'sid', 'sidney', 'silas', 'simon', 'sol', 'solomon', 'son', 'sonny', 'spencer', 'stacey', 'stacy', 'stan', 'stanford', 'stanley', 'stanton', 'stefan', 'stephan', 'stephen', 'sterling', 'steve', 'steven', 'stevie', 'stewart', 'stuart', 'sung', 'sydney', 'sylvester', 'tad', 'tanner', 'taylor', 'ted', 'teddy', 'teodoro', 'terence', 'terrance', 'terrell', 'terrence', 'terry', 'thad', 'thaddeus', 'thanh', 'theo', 'theodore', 'theron', 'thomas', 'thurman', 'tim', 'timmy', 'timothy', 'titus', 'tobias', 'toby', 'tod', 'todd', 'tom', 'tomas', 'tommie', 'tommy', 'toney', 'tony', 'tory', 'tracey', 'tracy', 'travis', 'trent', 'trenton', 'trevor', 'trey', 'trinidad', 'tristan', 'troy', 'truman', 'tuan', 'ty', 'tyler', 'tyree', 'tyrell', 'tyron', 'tyrone', 'tyson', 'ulysses', 'val', 'valentin', 'valentine', 'van', 'vance', 'vaughn', 'vern', 'vernon', 'vicente', 'victor', 'vince', 'vincent', 'vincenzo', 'virgil', 'virgilio', 'vito', 'von', 'wade', 'waldo', 'walker', 'wallace', 'wally', 'walter', 'walton', 'ward', 'warner', 'warren', 'waylon', 'wayne', 'weldon', 'wendell', 'werner', 'wes', 'wesley', 'weston', 'whitney', 'wilber', 'wilbert', 'wilbur', 'wilburn', 'wiley', 'wilford', 'wilfred', 'wilfredo', 'will', 'willard', 'william', 'williams', 'willian', 'willie', 'willis', 'willy', 'wilmer', 'wilson', 'wilton', 'winford', 'winfred', 'winston', 'wm', 'woodrow', 'wyatt', 'xavier', 'yong', 'young', 'zachariah', 'zachary', 'zachery', 'zack', 'zackary', 'zane', 'abbey', 'abbie', 'abby', 'abigail', 'ada', 'adah', 'adaline', 'adam', 'addie', 'adela', 'adelaida', 'adelaide', 'adele', 'adelia', 'adelina', 'adeline', 'adell', 'adella', 'adelle', 'adena', 'adina', 'adria', 'adrian', 'adriana', 'adriane', 'adrianna', 'adrianne', 'adrien', 'adriene', 'adrienne', 'afton', 'agatha', 'agnes', 'agnus', 'agripina', 'agueda', 'agustina', 'ai', 'aida', 'aide', 'aiko', 'aileen', 'ailene', 'aimee', 'aisha', 'aja', 'akiko', 'akilah', 'alaina', 'alaine', 'alana', 'alane', 'alanna', 'alayna', 'alba', 'albert', 'alberta', 'albertha', 'albertina', 'albertine', 'albina', 'alda', 'alease', 'alecia', 'aleen', 'aleida', 'aleisha', 'alejandra', 'alejandrina', 'alena', 'alene', 'alesha', 'aleshia', 'alesia', 'alessandra', 'aleta', 'aletha', 'alethea', 'alethia', 'alex', 'alexa', 'alexander', 'alexandra', 'alexandria', 'alexia', 'alexis', 'alfreda', 'alfredia', 'ali', 'alia', 'alica', 'alice', 'alicia', 'alida', 'alina', 'aline', 'alisa', 'alise', 'alisha', 'alishia', 'alisia', 'alison', 'alissa', 'alita', 'alix', 'aliza', 'alla', 'alleen', 'allegra', 'allen', 'allena', 'allene', 'allie', 'alline', 'allison', 'allyn', 'allyson', 'alma', 'almeda', 'almeta', 'alona', 'alpha', 'alta', 'altagracia', 'altha', 'althea', 'alva', 'alvera', 'alverta', 'alvina', 'alyce', 'alycia', 'alysa', 'alyse', 'alysha', 'alysia', 'alyson', 'alyssa', 'amada', 'amal', 'amalia', 'amanda', 'amber', 'amberly', 'amee', 'amelia', 'america', 'ami', 'amie', 'amiee', 'amina', 'amira', 'ammie', 'amparo', 'amy', 'an', 'ana', 'anabel', 'analisa', 'anamaria', 'anastacia', 'anastasia', 'andera', 'andra', 'andre', 'andrea', 'andree', 'andrew', 'andria', 'anette', 'angel', 'angela', 'angele', 'angelena', 'angeles', 'angelia', 'angelic', 'angelica', 'angelika', 'angelina', 'angeline', 'angelique', 'angelita', 'angella', 'angelo', 'angelyn', 'angie', 'angila', 'angla', 'angle', 'anglea', 'anh', 'anika', 'anisa', 'anisha', 'anissa', 'anita', 'anitra', 'anja', 'anjanette', 'anjelica', 'ann', 'anna', 'annabel', 'annabell', 'annabelle', 'annalee', 'annalisa', 'annamae', 'annamaria', 'annamarie', 'anne', 'anneliese', 'annelle', 'annemarie', 'annett', 'annetta', 'annette', 'annice', 'annie', 'annika', 'annis', 'annita', 'annmarie', 'anthony', 'antionette', 'antoinette', 'antonetta', 'antonette', 'antonia', 'antonietta', 'antonina', 'antonio', 'anya', 'apolonia', 'april', 'apryl', 'ara', 'araceli', 'aracelis', 'aracely', 'arcelia', 'ardath', 'ardelia', 'ardell', 'ardella', 'ardelle', 'ardis', 'ardith', 'aretha', 'argelia', 'argentina', 'ariana', 'ariane', 'arianna', 'arianne', 'arica', 'arie', 'ariel', 'arielle', 'arla', 'arlean', 'arleen', 'arlena', 'arlene', 'arletha', 'arletta', 'arlette', 'arlinda', 'arline', 'arlyne', 'armanda', 'armandina', 'armida', 'arminda', 'arnetta', 'arnette', 'arnita', 'arthur', 'artie', 'arvilla', 'asha', 'ashanti', 'ashely', 'ashlea', 'ashlee', 'ashleigh', 'ashley', 'ashli', 'ashlie', 'ashly', 'ashlyn', 'ashton', 'asia', 'asley', 'assunta', 'astrid', 'asuncion', 'athena', 'aubrey', 'audie', 'audra', 'audrea', 'audrey', 'audria', 'audrie', 'audry', 'augusta', 'augustina', 'augustine', 'aundrea', 'aura', 'aurea', 'aurelia', 'aurora', 'aurore', 'austin', 'autumn', 'ava', 'avelina', 'avery', 'avis', 'avril', 'awilda', 'ayako', 'ayana', 'ayanna', 'ayesha', 'azalee', 'azucena', 'azzie', 'babara', 'babette', 'bailey', 'bambi', 'bao', 'barabara', 'barb', 'barbar', 'barbara', 'barbera', 'barbie', 'barbra', 'bari', 'barrie', 'basilia', 'bea', 'beata', 'beatrice', 'beatris', 'beatriz', 'beaulah', 'bebe', 'becki', 'beckie', 'becky', 'bee', 'belen', 'belia', 'belinda', 'belkis', 'bell', 'bella', 'belle', 'belva', 'benita', 'bennie', 'berenice', 'berna', 'bernadette', 'bernadine', 'bernarda', 'bernardina', 'bernardine', 'berneice', 'bernetta', 'bernice', 'bernie', 'berniece', 'bernita', 'berry', 'berta', 'bertha', 'bertie', 'beryl', 'bess', 'bessie', 'beth', 'bethanie', 'bethann', 'bethany', 'bethel', 'betsey', 'betsy', 'bette', 'bettie', 'bettina', 'betty', 'bettyann', 'bettye', 'beula', 'beulah', 'bev', 'beverlee', 'beverley', 'beverly', 'bianca', 'bibi', 'billi', 'billie', 'billy', 'billye', 'birdie', 'birgit', 'blair', 'blake', 'blanca', 'blanch', 'blanche', 'blondell', 'blossom', 'blythe', 'bobbi', 'bobbie', 'bobby', 'bobbye', 'bobette', 'bok', 'bong', 'bonita', 'bonnie', 'bonny', 'branda', 'brande', 'brandee', 'brandi', 'brandie', 'brandon', 'brandy', 'breana', 'breann', 'breanna', 'breanne', 'bree', 'brenda', 'brenna', 'brett', 'brian', 'briana', 'brianna', 'brianne', 'bridget', 'bridgett', 'bridgette', 'brigette', 'brigid', 'brigida', 'brigitte', 'brinda', 'britany', 'britney', 'britni', 'britt', 'britta', 'brittaney', 'brittani', 'brittanie', 'brittany', 'britteny', 'brittney', 'brittni', 'brittny', 'bronwyn', 'brook', 'brooke', 'bruna', 'brunilda', 'bryanna', 'brynn', 'buena', 'buffy', 'bula', 'bulah', 'bunny', 'burma', 'caitlin', 'caitlyn', 'calandra', 'calista', 'callie', 'camelia', 'camellia', 'cameron', 'cami', 'camie', 'camila', 'camilla', 'camille', 'cammie', 'cammy', 'candace', 'candance', 'candelaria', 'candi', 'candice', 'candida', 'candie', 'candis', 'candra', 'candy', 'candyce', 'caprice', 'cara', 'caren', 'carey', 'cari', 'caridad', 'carie', 'carin', 'carina', 'carisa', 'carissa', 'carita', 'carl', 'carla', 'carlee', 'carleen', 'carlena', 'carlene', 'carletta', 'carley', 'carli', 'carlie', 'carline', 'carlita', 'carlos', 'carlota', 'carlotta', 'carly', 'carlyn', 'carma', 'carman', 'carmel', 'carmela', 'carmelia', 'carmelina', 'carmelita', 'carmella', 'carmen', 'carmina', 'carmon', 'carol', 'carola', 'carolann', 'carole', 'carolee', 'carolin', 'carolina', 'caroline', 'caroll', 'carolyn', 'carolyne', 'carolynn', 'caron', 'caroyln', 'carri', 'carrie', 'carrol', 'carroll', 'carry', 'cary', 'caryl', 'carylon', 'caryn', 'casandra', 'casey', 'casie', 'casimira', 'cassandra', 'cassaundra', 'cassey', 'cassi', 'cassidy', 'cassie', 'cassondra', 'cassy', 'catalina', 'catarina', 'caterina', 'catharine', 'catherin', 'catherina', 'catherine', 'cathern', 'catheryn', 'cathey', 'cathi', 'cathie', 'cathleen', 'cathrine', 'cathryn', 'cathy', 'catina', 'catrice', 'catrina', 'cayla', 'cecelia', 'cecil', 'cecila', 'cecile', 'cecilia', 'cecille', 'cecily', 'celena', 'celesta', 'celeste', 'celestina', 'celestine', 'celia', 'celina', 'celinda', 'celine', 'celsa', 'ceola', 'chae', 'chan', 'chana', 'chanda', 'chandra', 'chanel', 'chanell', 'chanelle', 'chang', 'chantal', 'chantay', 'chante', 'chantel', 'chantell', 'chantelle', 'chara', 'charis', 'charise', 'charissa', 'charisse', 'charita', 'charity', 'charla', 'charleen', 'charlena', 'charlene', 'charles', 'charlesetta', 'charlette', 'charlie', 'charline', 'charlott', 'charlotte', 'charlsie', 'charlyn', 'charmain', 'charmaine', 'charolette', 'chasidy', 'chasity', 'chassidy', 'chastity', 'chau', 'chaya', 'chelsea', 'chelsey', 'chelsie', 'cher', 'chere', 'cheree', 'cherelle', 'cheri', 'cherie', 'cherilyn', 'cherise', 'cherish', 'cherly', 'cherlyn', 'cherri', 'cherrie', 'cherry', 'cherryl', 'chery', 'cheryl', 'cheryle', 'cheryll', 'cheyenne', 'chi', 'chia', 'chieko', 'chin', 'china', 'ching', 'chiquita', 'chloe', 'chong', 'chris', 'chrissy', 'christa', 'christal', 'christeen', 'christel', 'christen', 'christena', 'christene', 'christi', 'christia', 'christian', 'christiana', 'christiane', 'christie', 'christin', 'christina', 'christine', 'christinia', 'christopher', 'christy', 'chrystal', 'chu', 'chun', 'chung', 'ciara', 'cicely', 'ciera', 'cierra', 'cinda', 'cinderella', 'cindi', 'cindie', 'cindy', 'cinthia', 'cira', 'clair', 'claire', 'clara', 'clare', 'clarence', 'claretha', 'claretta', 'claribel', 'clarice', 'clarinda', 'clarine', 'claris', 'clarisa', 'clarissa', 'clarita', 'classie', 'claude', 'claudette', 'claudia', 'claudie', 'claudine', 'clelia', 'clemencia', 'clementina', 'clementine', 'clemmie', 'cleo', 'cleopatra', 'cleora', 'cleotilde', 'cleta', 'clora', 'clorinda', 'clotilde', 'clyde', 'codi', 'cody', 'colby', 'coleen', 'colene', 'coletta', 'colette', 'colleen', 'collen', 'collene', 'collette', 'concepcion', 'conception', 'concetta', 'concha', 'conchita', 'connie', 'constance', 'consuela', 'consuelo', 'contessa', 'cora', 'coral', 'coralee', 'coralie', 'corazon', 'cordelia', 'cordia', 'cordie', 'coreen', 'corene', 'coretta', 'corey', 'cori', 'corie', 'corina', 'corine', 'corinna', 'corinne', 'corliss', 'cornelia', 'corrie', 'corrin', 'corrina', 'corrine', 'corrinne', 'cortney', 'cory', 'courtney', 'creola', 'cris', 'criselda', 'crissy', 'crista', 'cristal', 'cristen', 'cristi', 'cristie', 'cristin', 'cristina', 'cristine', 'cristy', 'cruz', 'crysta', 'crystal', 'crystle', 'cuc', 'curtis', 'cyndi', 'cyndy', 'cynthia', 'cyrstal', 'cythia', 'dacia', 'dagmar', 'dagny', 'dahlia', 'daina', 'daine', 'daisey', 'daisy', 'dakota', 'dale', 'dalene', 'dalia', 'dalila', 'dallas', 'damaris', 'dan', 'dana', 'danae', 'danelle', 'danette', 'dani', 'dania', 'danica', 'daniel', 'daniela', 'daniele', 'daniell', 'daniella', 'danielle', 'danika', 'danille', 'danita', 'dann', 'danna', 'dannette', 'dannie', 'dannielle', 'danuta', 'danyel', 'danyell', 'danyelle', 'daphine', 'daphne', 'dara', 'darby', 'darcel', 'darcey', 'darci', 'darcie', 'darcy', 'daria', 'darla', 'darleen', 'darlena', 'darlene', 'darline', 'darnell', 'daryl', 'david', 'davida', 'davina', 'dawn', 'dawna', 'dawne', 'dayle', 'dayna', 'daysi', 'deadra', 'dean', 'deana', 'deandra', 'deandrea', 'deane', 'deann', 'deanna', 'deanne', 'deb', 'debbi', 'debbie', 'debbra', 'debby', 'debera', 'debi', 'debora', 'deborah', 'debra', 'debrah', 'debroah', 'dede', 'dedra', 'dee', 'deeann', 'deeanna', 'deedee', 'deedra', 'deena', 'deetta', 'deidra', 'deidre', 'deirdre', 'deja', 'delaine', 'delana', 'delcie', 'delena', 'delfina', 'delia', 'delicia', 'delila', 'delilah', 'delinda', 'delisa', 'dell', 'della', 'delma', 'delmy', 'delois', 'deloise', 'delora', 'deloras', 'delores', 'deloris', 'delorse', 'delpha', 'delphia', 'delphine', 'delsie', 'delta', 'demetra', 'demetria', 'demetrice', 'demetrius', 'dena', 'denae', 'deneen', 'denese', 'denice', 'denise', 'denisha', 'denisse', 'denita', 'denna', 'dennis', 'dennise', 'denny', 'denyse', 'deon', 'deonna', 'desirae', 'desire', 'desiree', 'despina', 'dessie', 'destiny', 'detra', 'devin', 'devon', 'devona', 'devora', 'devorah', 'dia', 'diamond', 'dian', 'diana', 'diane', 'diann', 'dianna', 'dianne', 'diedra', 'diedre', 'dierdre', 'digna', 'dimple', 'dina', 'dinah', 'dinorah', 'dion', 'dione', 'dionna', 'dionne', 'divina', 'dixie', 'dodie', 'dollie', 'dolly', 'dolores', 'doloris', 'domenica', 'dominga', 'dominica', 'dominique', 'dominque', 'domitila', 'domonique', 'dona', 'donald', 'donella', 'donetta', 'donette', 'dong', 'donita', 'donna', 'donnetta', 'donnette', 'donnie', 'donya', 'dora', 'dorathy', 'dorcas', 'doreatha', 'doreen', 'dorene', 'doretha', 'dorethea', 'doretta', 'dori', 'doria', 'dorian', 'dorie', 'dorinda', 'dorine', 'doris', 'dorla', 'dorotha', 'dorothea', 'dorothy', 'dorris', 'dortha', 'dorthea', 'dorthey', 'dorthy', 'dot', 'dottie', 'dotty', 'dovie', 'dreama', 'drema', 'drew', 'drucilla', 'drusilla', 'dulce', 'dulcie', 'dung', 'dusti', 'dusty', 'dwana', 'dyan', 'earlean', 'earleen', 'earlene', 'earlie', 'earline', 'earnestine', 'eartha', 'easter', 'eboni', 'ebonie', 'ebony', 'echo', 'eda', 'edda', 'eddie', 'edelmira', 'eden', 'edie', 'edith', 'edna', 'edra', 'edris', 'edward', 'edwina', 'edyth', 'edythe', 'effie', 'ehtel', 'eileen', 'eilene', 'ela', 'eladia', 'elaina', 'elaine', 'elana', 'elane', 'elanor', 'elayne', 'elba', 'elda', 'eldora', 'eleanor', 'eleanora', 'eleanore', 'elease', 'elena', 'elene', 'eleni', 'elenor', 'elenora', 'elenore', 'eleonor', 'eleonora', 'eleonore', 'elfreda', 'elfrieda', 'elfriede', 'elia', 'eliana', 'elicia', 'elida', 'elidia', 'elin', 'elina', 'elinor', 'elinore', 'elisa', 'elisabeth', 'elise', 'elisha', 'elissa', 'eliz', 'eliza', 'elizabet', 'elizabeth', 'elizbeth', 'elizebeth', 'elke', 'ella', 'ellamae', 'ellan', 'ellen', 'ellena', 'elli', 'ellie', 'ellis', 'elly', 'ellyn', 'elma', 'elmer', 'elmira', 'elna', 'elnora', 'elodia', 'elois', 'eloisa', 'eloise', 'elouise', 'elsa', 'else', 'elsie', 'elsy', 'elva', 'elvera', 'elvia', 'elvie', 'elvina', 'elvira', 'elwanda', 'elyse', 'elza', 'ema', 'emelda', 'emelia', 'emelina', 'emeline', 'emely', 'emerald', 'emerita', 'emiko', 'emilee', 'emilia', 'emilie', 'emily', 'emma', 'emmaline', 'emmie', 'emmy', 'emogene', 'ena', 'enda', 'enedina', 'eneida', 'enid', 'enola', 'enriqueta', 'epifania', 'era', 'eric', 'erica', 'ericka', 'erika', 'erin', 'erinn', 'erlene', 'erlinda', 'erline', 'erma', 'ermelinda', 'erminia', 'erna', 'ernestina', 'ernestine', 'eryn', 'esmeralda', 'esperanza', 'essie', 'esta', 'estefana', 'estela', 'estell', 'estella', 'estelle', 'ester', 'esther', 'estrella', 'etha', 'ethel', 'ethelene', 'ethelyn', 'ethyl', 'etsuko', 'etta', 'ettie', 'eufemia', 'eugena', 'eugene', 'eugenia', 'eugenie', 'eula', 'eulah', 'eulalia', 'eun', 'euna', 'eunice', 'eura', 'eusebia', 'eustolia', 'eva', 'evalyn', 'evan', 'evangelina', 'evangeline', 'eve', 'evelia', 'evelin', 'evelina', 'eveline', 'evelyn', 'evelyne', 'evelynn', 'evette', 'evia', 'evie', 'evita', 'evon', 'evonne', 'ewa', 'exie', 'fabiola', 'fae', 'fairy', 'faith', 'fallon', 'fannie', 'fanny', 'farah', 'farrah', 'fatima', 'fatimah', 'faustina', 'faviola', 'fawn', 'fay', 'faye', 'fe', 'felecia', 'felica', 'felice', 'felicia', 'felicidad', 'felicita', 'felicitas', 'felipa', 'felisa', 'felisha', 'fermina', 'fern', 'fernanda', 'fernande', 'ferne', 'fidela', 'fidelia', 'filomena', 'fiona', 'flavia', 'fleta', 'flo', 'flor', 'flora', 'florance', 'florence', 'florencia', 'florene', 'florentina', 'floretta', 'floria', 'florida', 'florinda', 'florine', 'florrie', 'flossie', 'floy', 'fonda', 'fran', 'france', 'francene', 'frances', 'francesca', 'franchesca', 'francie', 'francina', 'francine', 'francis', 'francisca', 'francisco', 'francoise', 'frank', 'frankie', 'fransisca', 'fred', 'freda', 'fredda', 'freddie', 'frederica', 'fredericka', 'fredia', 'fredricka', 'freeda', 'freida', 'frida', 'frieda', 'fumiko', 'gabriel', 'gabriela', 'gabriele', 'gabriella', 'gabrielle', 'gail', 'gala', 'gale', 'galina', 'garnet', 'garnett', 'gary', 'gay', 'gaye', 'gayla', 'gayle', 'gaylene', 'gaynell', 'gaynelle', 'gearldine', 'gema', 'gemma', 'gena', 'gene', 'genesis', 'geneva', 'genevie', 'genevieve', 'genevive', 'genia', 'genie', 'genna', 'gennie', 'genny', 'genoveva', 'georgann', 'george', 'georgeann', 'georgeanna', 'georgene', 'georgetta', 'georgette', 'georgia', 'georgiana', 'georgiann', 'georgianna', 'georgianne', 'georgie', 'georgina', 'georgine', 'gerald', 'geraldine', 'geralyn', 'gerda', 'geri', 'germaine', 'gerri', 'gerry', 'gertha', 'gertie', 'gertrud', 'gertrude', 'gertrudis', 'gertude', 'ghislaine', 'gia', 'gianna', 'gidget', 'gigi', 'gilberte', 'gilda', 'gillian', 'gilma', 'gina', 'ginette', 'ginger', 'ginny', 'giovanna', 'gisela', 'gisele', 'giselle', 'gita', 'giuseppina', 'gladis', 'glady', 'gladys', 'glayds', 'glenda', 'glendora', 'glenn', 'glenna', 'glennie', 'glennis', 'glinda', 'gloria', 'glory', 'glynda', 'glynis', 'golda', 'golden', 'goldie', 'grace', 'gracia', 'gracie', 'graciela', 'grayce', 'grazyna', 'gregoria', 'gregory', 'greta', 'gretchen', 'gretta', 'gricelda', 'grisel', 'griselda', 'guadalupe', 'gudrun', 'guillermina', 'gussie', 'gwen', 'gwenda', 'gwendolyn', 'gwenn', 'gwyn', 'gwyneth', 'ha', 'hae', 'hailey', 'haley', 'halina', 'halley', 'hallie', 'han', 'hana', 'hang', 'hanh', 'hanna', 'hannah', 'hannelore', 'harmony', 'harold', 'harriet', 'harriett', 'harriette', 'hassie', 'hattie', 'haydee', 'hayley', 'hazel', 'heather', 'hedwig', 'hedy', 'hee', 'heide', 'heidi', 'heidy', 'heike', 'helaine', 'helen', 'helena', 'helene', 'helga', 'hellen', 'henrietta', 'henriette', 'henry', 'herlinda', 'herma', 'hermelinda', 'hermila', 'hermina', 'hermine', 'herminia', 'herta', 'hertha', 'hester', 'hettie', 'hiedi', 'hien', 'hilaria', 'hilary', 'hilda', 'hilde', 'hildegard', 'hildegarde', 'hildred', 'hillary', 'hilma', 'hiroko', 'hisako', 'hoa', 'holley', 'holli', 'hollie', 'hollis', 'holly', 'honey', 'hong', 'hope', 'hortencia', 'hortense', 'hortensia', 'hsiu', 'hue', 'hui', 'hulda', 'huong', 'hwa', 'hyacinth', 'hye', 'hyo', 'hyon', 'hyun', 'ida', 'idalia', 'idell', 'idella', 'iesha', 'ignacia', 'ila', 'ilana', 'ilda', 'ileana', 'ileen', 'ilene', 'iliana', 'illa', 'ilona', 'ilse', 'iluminada', 'ima', 'imelda', 'imogene', 'in', 'ina', 'india', 'indira', 'inell', 'ines', 'inez', 'inga', 'inge', 'ingeborg', 'inger', 'ingrid', 'inocencia', 'iola', 'iona', 'ione', 'ira', 'iraida', 'irena', 'irene', 'irina', 'iris', 'irish', 'irma', 'irmgard', 'isa', 'isabel', 'isabell', 'isabella', 'isabelle', 'isadora', 'isaura', 'isela', 'isidra', 'isis', 'isobel', 'iva', 'ivana', 'ivelisse', 'ivette', 'ivey', 'ivonne', 'ivory', 'ivy', 'izetta', 'izola', 'ja', 'jacalyn', 'jacelyn', 'jacinda', 'jacinta', 'jack', 'jackeline', 'jackelyn', 'jacki', 'jackie', 'jacklyn', 'jackqueline', 'jaclyn', 'jacqualine', 'jacque', 'jacquelin', 'jacqueline', 'jacquelyn', 'jacquelyne', 'jacquelynn', 'jacquetta', 'jacqui', 'jacquie', 'jacquiline', 'jacquline', 'jacqulyn', 'jada', 'jade', 'jadwiga', 'jae', 'jaime', 'jaimee', 'jaimie', 'jaleesa', 'jalisa', 'jama', 'jame', 'jamee', 'james', 'jamey', 'jami', 'jamie', 'jamika', 'jamila', 'jammie', 'jan', 'jana', 'janae', 'janay', 'jane', 'janean', 'janee', 'janeen', 'janel', 'janell', 'janella', 'janelle', 'janene', 'janessa', 'janet', 'janeth', 'janett', 'janetta', 'janette', 'janey', 'jani', 'janice', 'janie', 'janiece', 'janina', 'janine', 'janis', 'janise', 'janita', 'jann', 'janna', 'jannet', 'jannette', 'jannie', 'january', 'janyce', 'jaqueline', 'jaquelyn', 'jasmin', 'jasmine', 'jason', 'jaunita', 'jay', 'jaye', 'jayme', 'jaymie', 'jayna', 'jayne', 'jazmin', 'jazmine', 'jean', 'jeana', 'jeane', 'jeanelle', 'jeanene', 'jeanett', 'jeanetta', 'jeanette', 'jeanice', 'jeanie', 'jeanine', 'jeanmarie', 'jeanna', 'jeanne', 'jeannetta', 'jeannette', 'jeannie', 'jeannine', 'jeffie', 'jeffrey', 'jen', 'jena', 'jenae', 'jene', 'jenee', 'jenell', 'jenelle', 'jenette', 'jeneva', 'jeni', 'jenice', 'jenifer', 'jeniffer', 'jenine', 'jenise', 'jenna', 'jennefer', 'jennell', 'jennette', 'jenni', 'jennie', 'jennifer', 'jenniffer', 'jennine', 'jenny', 'jeraldine', 'jeremy', 'jeri', 'jerica', 'jerilyn', 'jerlene', 'jerri', 'jerrica', 'jerrie', 'jerry', 'jesenia', 'jesica', 'jesse', 'jessenia', 'jessi', 'jessia', 'jessica', 'jessie', 'jessika', 'jestine', 'jesus', 'jesusa', 'jesusita', 'jetta', 'jettie', 'jewel', 'jewell', 'ji', 'jill', 'jillian', 'jimmie', 'jimmy', 'jin', 'jina', 'jinny', 'jo', 'joan', 'joana', 'joane', 'joanie', 'joann', 'joanna', 'joanne', 'joannie', 'joaquina', 'jocelyn', 'jodee', 'jodi', 'jodie', 'jody', 'joe', 'joeann', 'joel', 'joella', 'joelle', 'joellen', 'joetta', 'joette', 'joey', 'johana', 'johanna', 'johanne', 'john', 'johna', 'johnetta', 'johnette', 'johnie', 'johnna', 'johnnie', 'johnny', 'johnsie', 'joi', 'joie', 'jolanda', 'joleen', 'jolene', 'jolie', 'joline', 'jolyn', 'jolynn', 'jon', 'jona', 'jone', 'jonell', 'jonelle', 'jong', 'joni', 'jonie', 'jonna', 'jonnie', 'jordan', 'jose', 'josefa', 'josefina', 'josefine', 'joselyn', 'joseph', 'josephina', 'josephine', 'josette', 'joshua', 'josie', 'joslyn', 'josphine', 'jovan', 'jovita', 'joy', 'joya', 'joyce', 'joycelyn', 'joye', 'juan', 'juana', 'juanita', 'jude', 'judi', 'judie', 'judith', 'judy', 'jule', 'julee', 'julene', 'juli', 'julia', 'julian', 'juliana', 'juliane', 'juliann', 'julianna', 'julianne', 'julie', 'julieann', 'julienne', 'juliet', 'julieta', 'julietta', 'juliette', 'julio', 'julissa', 'june', 'jung', 'junie', 'junita', 'junko', 'justa', 'justin', 'justina', 'justine', 'jutta', 'ka', 'kacey', 'kaci', 'kacie', 'kacy', 'kai', 'kaila', 'kaitlin', 'kaitlyn', 'kala', 'kaleigh', 'kaley', 'kali', 'kallie', 'kalyn', 'kam', 'kamala', 'kami', 'kamilah', 'kandace', 'kandi', 'kandice', 'kandis', 'kandra', 'kandy', 'kanesha', 'kanisha', 'kara', 'karan', 'kareen', 'karen', 'karena', 'karey', 'kari', 'karie', 'karima', 'karin', 'karina', 'karine', 'karisa', 'karissa', 'karl', 'karla', 'karleen', 'karlene', 'karly', 'karlyn', 'karma', 'karmen', 'karol', 'karole', 'karoline', 'karolyn', 'karon', 'karren', 'karri', 'karrie', 'karry', 'kary', 'karyl', 'karyn', 'kasandra', 'kasey', 'kasha', 'kasi', 'kasie', 'kassandra', 'kassie', 'kate', 'katelin', 'katelyn', 'katelynn', 'katerine', 'kathaleen', 'katharina', 'katharine', 'katharyn', 'kathe', 'katheleen', 'katherin', 'katherina', 'katherine', 'kathern', 'katheryn', 'kathey', 'kathi', 'kathie', 'kathleen', 'kathlene', 'kathline', 'kathlyn', 'kathrin', 'kathrine', 'kathryn', 'kathryne', 'kathy', 'kathyrn', 'kati', 'katia', 'katie', 'katina', 'katlyn', 'katrice', 'katrina', 'kattie', 'katy', 'kay', 'kayce', 'kaycee', 'kaye', 'kayla', 'kaylee', 'kayleen', 'kayleigh', 'kaylene', 'kazuko', 'kecia', 'keeley', 'keely', 'keena', 'keesha', 'keiko', 'keila', 'keira', 'keisha', 'keith', 'keitha', 'keli', 'kelle', 'kellee', 'kelley', 'kelli', 'kellie', 'kelly', 'kellye', 'kelsey', 'kelsi', 'kelsie', 'kemberly', 'kena', 'kenda', 'kendal', 'kendall', 'kendra', 'kenia', 'kenisha', 'kenna', 'kenneth', 'kenya', 'kenyatta', 'kenyetta', 'kera', 'keren', 'keri', 'kerri', 'kerrie', 'kerry', 'kerstin', 'kesha', 'keshia', 'keturah', 'keva', 'kevin', 'khadijah', 'khalilah', 'kia', 'kiana', 'kiara', 'kiera', 'kiersten', 'kiesha', 'kiley', 'kim', 'kimber', 'kimberely', 'kimberlee', 'kimberley', 'kimberli', 'kimberlie', 'kimberly', 'kimbery', 'kimbra', 'kimi', 'kimiko', 'kina', 'kindra', 'kira', 'kirby', 'kirsten', 'kirstie', 'kirstin', 'kisha', 'kit', 'kittie', 'kitty', 'kiyoko', 'kizzie', 'kizzy', 'klara', 'kori', 'kortney', 'kourtney', 'kris', 'krishna', 'krissy', 'krista', 'kristal', 'kristan', 'kristeen', 'kristel', 'kristen', 'kristi', 'kristian', 'kristie', 'kristin', 'kristina', 'kristine', 'kristle', 'kristy', 'kristyn', 'krysta', 'krystal', 'krysten', 'krystin', 'krystina', 'krystle', 'krystyna', 'kum', 'kyla', 'kyle', 'kylee', 'kylie', 'kym', 'kymberly', 'kyoko', 'kyong', 'kyra', 'kyung', 'lacey', 'lachelle', 'laci', 'lacie', 'lacresha', 'lacy', 'ladawn', 'ladonna', 'lady', 'lael', 'lahoma', 'lai', 'laila', 'laine', 'lajuana', 'lakeesha', 'lakeisha', 'lakendra', 'lakenya', 'lakesha', 'lakeshia', 'lakia', 'lakiesha', 'lakisha', 'lakita', 'lala', 'lamonica', 'lan', 'lana', 'lane', 'lanell', 'lanelle', 'lanette', 'lang', 'lani', 'lanie', 'lanita', 'lannie', 'lanora', 'laquanda', 'laquita', 'lara', 'larae', 'laraine', 'laree', 'larhonda', 'larisa', 'larissa', 'larita', 'laronda', 'larraine', 'larry', 'larue', 'lasandra', 'lashanda', 'lashandra', 'lashaun', 'lashaunda', 'lashawn', 'lashawna', 'lashawnda', 'lashay', 'lashell', 'lashon', 'lashonda', 'lashunda', 'lasonya', 'latanya', 'latarsha', 'latasha', 'latashia', 'latesha', 'latia', 'laticia', 'latina', 'latisha', 'latonia', 'latonya', 'latoria', 'latosha', 'latoya', 'latoyia', 'latrice', 'latricia', 'latrina', 'latrisha', 'launa', 'laura', 'lauralee', 'lauran', 'laure', 'laureen', 'laurel', 'lauren', 'laurena', 'laurence', 'laurene', 'lauretta', 'laurette', 'lauri', 'laurice', 'laurie', 'laurinda', 'laurine', 'lauryn', 'lavada', 'lavelle', 'lavenia', 'lavera', 'lavern', 'laverna', 'laverne', 'laveta', 'lavette', 'lavina', 'lavinia', 'lavon', 'lavona', 'lavonda', 'lavone', 'lavonia', 'lavonna', 'lavonne', 'lawana', 'lawanda', 'lawanna', 'lawrence', 'layla', 'layne', 'le', 'lea', 'leah', 'lean', 'leana', 'leandra', 'leann', 'leanna', 'leanne', 'leanora', 'leatha', 'leatrice', 'lecia', 'leda', 'lee', 'leeann', 'leeanna', 'leeanne', 'leena', 'leesa', 'leia', 'leida', 'leigh', 'leigha', 'leighann', 'leila', 'leilani', 'leisa', 'leisha', 'lekisha', 'lela', 'lelah', 'lelia', 'lena', 'lenita', 'lenna', 'lennie', 'lenora', 'lenore', 'leo', 'leola', 'leoma', 'leon', 'leona', 'leonarda', 'leone', 'leonia', 'leonida', 'leonie', 'leonila', 'leonor', 'leonora', 'leonore', 'leontine', 'leora', 'leota', 'lera', 'lesa', 'lesha', 'lesia', 'leslee', 'lesley', 'lesli', 'leslie', 'lessie', 'lester', 'leta', 'letha', 'leticia', 'letisha', 'letitia', 'lettie', 'letty', 'lewis', 'lexie', 'lezlie', 'li', 'lia', 'liana', 'liane', 'lianne', 'libbie', 'libby', 'liberty', 'librada', 'lida', 'lidia', 'lien', 'lieselotte', 'ligia', 'lila', 'lili', 'lilia', 'lilian', 'liliana', 'lilla', 'lilli', 'lillia', 'lilliam', 'lillian', 'lilliana', 'lillie', 'lilly', 'lily', 'lin', 'lina', 'linda', 'lindsay', 'lindsey', 'lindsy', 'lindy', 'linette', 'ling', 'linh', 'linn', 'linnea', 'linnie', 'linsey', 'lisa', 'lisabeth', 'lisandra', 'lisbeth', 'lise', 'lisette', 'lisha', 'lissa', 'lissette', 'lita', 'livia', 'liz', 'liza', 'lizabeth', 'lizbeth', 'lizeth', 'lizette', 'lizzette', 'lizzie', 'loan', 'logan', 'loida', 'lois', 'loise', 'lola', 'lolita', 'loma', 'lona', 'londa', 'loni', 'lonna', 'lonnie', 'lora', 'loraine', 'loralee', 'lore', 'lorean', 'loree', 'loreen', 'lorelei', 'loren', 'lorena', 'lorene', 'lorenza', 'loreta', 'loretta', 'lorette', 'lori', 'loria', 'loriann', 'lorie', 'lorilee', 'lorina', 'lorinda', 'lorine', 'loris', 'lorita', 'lorna', 'lorraine', 'lorretta', 'lorri', 'lorriane', 'lorrie', 'lorrine', 'lory', 'lottie', 'lou', 'louann', 'louanne', 'louella', 'louetta', 'louie', 'louis', 'louisa', 'louise', 'loura', 'lourdes', 'lourie', 'louvenia', 'love', 'lovella', 'lovetta', 'lovie', 'loyce', 'lu', 'luana', 'luann', 'luanna', 'luanne', 'luba', 'luci', 'lucia', 'luciana', 'lucie', 'lucienne', 'lucila', 'lucile', 'lucilla', 'lucille', 'lucina', 'lucinda', 'lucrecia', 'lucretia', 'lucy', 'ludie', 'ludivina', 'lue', 'luella', 'luetta', 'luis', 'luisa', 'luise', 'lula', 'lulu', 'luna', 'lupe', 'lupita', 'lura', 'lurlene', 'lurline', 'luvenia', 'luz', 'lyda', 'lydia', 'lyla', 'lyn', 'lynda', 'lyndia', 'lyndsay', 'lyndsey', 'lynell', 'lynelle', 'lynetta', 'lynette', 'lynn', 'lynna', 'lynne', 'lynnette', 'lynsey', 'ma', 'mabel', 'mabelle', 'mable', 'machelle', 'macie', 'mackenzie', 'macy', 'madalene', 'madaline', 'madalyn', 'maddie', 'madelaine', 'madeleine', 'madelene', 'madeline', 'madelyn', 'madge', 'madie', 'madison', 'madlyn', 'madonna', 'mae', 'maegan', 'mafalda', 'magali', 'magaly', 'magan', 'magaret', 'magda', 'magdalen', 'magdalena', 'magdalene', 'magen', 'maggie', 'magnolia', 'mahalia', 'mai', 'maia', 'maida', 'maile', 'maira', 'maire', 'maisha', 'maisie', 'majorie', 'makeda', 'malena', 'malia', 'malika', 'malinda', 'malisa', 'malissa', 'malka', 'mallie', 'mallory', 'malorie', 'malvina', 'mamie', 'mammie', 'man', 'mana', 'manda', 'mandi', 'mandie', 'mandy', 'manie', 'manuela', 'many', 'mao', 'maple', 'mara', 'maragaret', 'maragret', 'maranda', 'marcela', 'marcelene', 'marcelina', 'marceline', 'marcell', 'marcella', 'marcelle', 'marcene', 'marchelle', 'marci', 'marcia', 'marcie', 'marcy', 'mardell', 'maren', 'marg', 'margaret', 'margareta', 'margarete', 'margarett', 'margaretta', 'margarette', 'margarita', 'margarite', 'margart', 'marge', 'margene', 'margeret', 'margert', 'margery', 'marget', 'margherita', 'margie', 'margit', 'margo', 'margorie', 'margot', 'margret', 'margrett', 'marguerita', 'marguerite', 'margurite', 'margy', 'marhta', 'mari', 'maria', 'mariah', 'mariam', 'marian', 'mariana', 'marianela', 'mariann', 'marianna', 'marianne', 'maribel', 'maribeth', 'marica', 'maricela', 'maricruz', 'marie', 'mariel', 'mariela', 'mariella', 'marielle', 'marietta', 'mariette', 'mariko', 'marilee', 'marilou', 'marilu', 'marilyn', 'marilynn', 'marin', 'marina', 'marinda', 'marine', 'mario', 'marion', 'maris', 'marisa', 'marisela', 'marisha', 'marisol', 'marissa', 'marita', 'maritza', 'marivel', 'marjorie', 'marjory', 'mark', 'marketta', 'markita', 'marla', 'marlana', 'marleen', 'marlen', 'marlena', 'marlene', 'marlin', 'marline', 'marlo', 'marlyn', 'marlys', 'marna', 'marni', 'marnie', 'marquerite', 'marquetta', 'marquita', 'marquitta', 'marry', 'marsha', 'marshall', 'marta', 'marth', 'martha', 'marti', 'martin', 'martina', 'martine', 'marty', 'marva', 'marvel', 'marvella', 'marvis', 'marx', 'mary', 'marya', 'maryalice', 'maryam', 'maryann', 'maryanna', 'maryanne', 'marybelle', 'marybeth', 'maryellen', 'maryetta', 'maryjane', 'maryjo', 'maryland', 'marylee', 'marylin', 'maryln', 'marylou', 'marylouise', 'marylyn', 'marylynn', 'maryrose', 'masako', 'matha', 'mathilda', 'mathilde', 'matilda', 'matilde', 'matthew', 'mattie', 'maud', 'maude', 'maudie', 'maura', 'maureen', 'maurice', 'maurine', 'maurita', 'mavis', 'maxie', 'maxima', 'maximina', 'maxine', 'may', 'maya', 'maybell', 'maybelle', 'maye', 'mayme', 'mayola', 'mayra', 'mazie', 'mckenzie', 'meagan', 'meaghan', 'mechelle', 'meda', 'mee', 'meg', 'megan', 'meggan', 'meghan', 'meghann', 'mei', 'melaine', 'melani', 'melania', 'melanie', 'melany', 'melba', 'melda', 'melia', 'melida', 'melina', 'melinda', 'melisa', 'melissa', 'melissia', 'melita', 'mellie', 'mellisa', 'mellissa', 'melodee', 'melodi', 'melodie', 'melody', 'melonie', 'melony', 'melva', 'melvin', 'melvina', 'melynda', 'mendy', 'mercedes', 'mercedez', 'mercy', 'meredith', 'meri', 'merideth', 'meridith', 'merilyn', 'merissa', 'merle', 'merlene', 'merlyn', 'merna', 'merri', 'merrie', 'merrilee', 'merrill', 'merry', 'mertie', 'meryl', 'meta', 'mi', 'mia', 'mica', 'micaela', 'micah', 'micha', 'michael', 'michaela', 'michaele', 'michal', 'micheal', 'michel', 'michele', 'michelina', 'micheline', 'michell', 'michelle', 'michiko', 'mickey', 'micki', 'mickie', 'miesha', 'migdalia', 'mignon', 'miguelina', 'mika', 'mikaela', 'mike', 'miki', 'mikki', 'mila', 'milagro', 'milagros', 'milda', 'mildred', 'milissa', 'millicent', 'millie', 'milly', 'mimi', 'min', 'mina', 'minda', 'mindi', 'mindy', 'minerva', 'ming', 'minh', 'minna', 'minnie', 'minta', 'mira', 'miranda', 'mireille', 'mirella', 'mireya', 'miriam', 'mirian', 'mirna', 'mirta', 'mirtha', 'misha', 'miss', 'missy', 'misti', 'mistie', 'misty', 'mitchell', 'mitsue', 'mitsuko', 'mittie', 'mitzi', 'mitzie', 'miyoko', 'modesta', 'moira', 'mollie', 'molly', 'mona', 'monet', 'monica', 'monika', 'monique', 'monnie', 'monserrate', 'moon', 'mora', 'morgan', 'moriah', 'mozell', 'mozella', 'mozelle', 'mui', 'muoi', 'muriel', 'my', 'myesha', 'myong', 'myra', 'myriam', 'myrl', 'myrle', 'myrna', 'myrta', 'myrtice', 'myrtie', 'myrtis', 'myrtle', 'myung', 'na', 'nada', 'nadene', 'nadia', 'nadine', 'naida', 'nakesha', 'nakia', 'nakisha', 'nakita', 'nam', 'nan', 'nana', 'nancee', 'nancey', 'nanci', 'nancie', 'nancy', 'nanette', 'nannette', 'nannie', 'naoma', 'naomi', 'narcisa', 'natacha', 'natalia', 'natalie', 'natalya', 'natasha', 'natashia', 'nathalie', 'natisha', 'natividad', 'natosha', 'necole', 'neda', 'nedra', 'neely', 'neida', 'nelda', 'nelia', 'nelida', 'nell', 'nella', 'nelle', 'nellie', 'nelly', 'nena', 'nenita', 'neoma', 'neomi', 'nereida', 'nerissa', 'nery', 'neta', 'nettie', 'neva', 'nevada', 'nga', 'ngan', 'ngoc', 'nguyet', 'nia', 'nichelle', 'nichol', 'nichole', 'nicholle', 'nicki', 'nickie', 'nickole', 'nicky', 'nicol', 'nicola', 'nicolasa', 'nicole', 'nicolette', 'nicolle', 'nida', 'nidia', 'niesha', 'nieves', 'niki', 'nikia', 'nikita', 'nikki', 'nikole', 'nila', 'nilda', 'nilsa', 'nina', 'ninfa', 'nisha', 'nita', 'nobuko', 'noel', 'noelia', 'noella', 'noelle', 'noemi', 'nohemi', 'nola', 'noma', 'nona', 'nora', 'norah', 'noreen', 'norene', 'noriko', 'norine', 'norma', 'norman', 'nova', 'novella', 'nu', 'nubia', 'numbers', 'nydia', 'nyla', 'obdulia', 'ocie', 'octavia', 'oda', 'odelia', 'odell', 'odessa', 'odette', 'odilia', 'ofelia', 'ok', 'ola', 'olene', 'oleta', 'olevia', 'olga', 'olimpia', 'olinda', 'oliva', 'olive', 'olivia', 'ollie', 'olympia', 'oma', 'omega', 'ona', 'oneida', 'onie', 'onita', 'opal', 'ophelia', 'ora', 'oralee', 'oralia', 'oretha', 'orpha', 'oscar', 'ossie', 'otelia', 'otha', 'otilia', 'ouida', 'ozell', 'ozella', 'ozie', 'pa', 'page', 'paige', 'palma', 'palmira', 'pam', 'pamala', 'pamela', 'pamelia', 'pamella', 'pamila', 'pamula', 'pandora', 'pansy', 'paola', 'paris', 'parthenia', 'particia', 'pasty', 'pat', 'patience', 'patria', 'patrica', 'patrice', 'patricia', 'patrick', 'patrina', 'patsy', 'patti', 'pattie', 'patty', 'paul', 'paula', 'paulene', 'pauletta', 'paulette', 'paulina', 'pauline', 'paulita', 'paz', 'pearl', 'pearle', 'pearlene', 'pearlie', 'pearline', 'pearly', 'peg', 'peggie', 'peggy', 'pei', 'penelope', 'penney', 'penni', 'pennie', 'penny', 'perla', 'perry', 'peter', 'petra', 'petrina', 'petronila', 'phebe', 'phillis', 'philomena', 'phoebe', 'phung', 'phuong', 'phylicia', 'phylis', 'phyliss', 'phyllis', 'pia', 'piedad', 'pilar', 'ping', 'pinkie', 'piper', 'pok', 'polly', 'porsche', 'porsha', 'portia', 'precious', 'pricilla', 'princess', 'priscila', 'priscilla', 'providencia', 'prudence', 'pura', 'qiana', 'queen', 'queenie', 'quiana', 'quinn', 'quyen', 'rachael', 'rachal', 'racheal', 'rachel', 'rachele', 'rachell', 'rachelle', 'racquel', 'rae', 'raeann', 'raelene', 'rafaela', 'raguel', 'raina', 'raisa', 'ramona', 'ramonita', 'rana', 'ranae', 'randa', 'randee', 'randi', 'randy', 'ranee', 'raquel', 'rasheeda', 'rashida', 'raven', 'ray', 'raye', 'raylene', 'raymond', 'raymonde', 'rayna', 'rea', 'reagan', 'reanna', 'reatha', 'reba', 'rebbeca', 'rebbecca', 'rebeca', 'rebecca', 'rebecka', 'rebekah', 'reda', 'reena', 'refugia', 'refugio', 'regan', 'regena', 'regenia', 'regina', 'regine', 'reginia', 'reiko', 'reina', 'reita', 'rema', 'remedios', 'remona', 'rena', 'renae', 'renata', 'renate', 'renay', 'renda', 'rene', 'renea', 'renee', 'renetta', 'renita', 'renna', 'ressie', 'reta', 'retha', 'retta', 'reva', 'reyna', 'reynalda', 'rhea', 'rheba', 'rhiannon', 'rhoda', 'rhona', 'rhonda', 'ria', 'ricarda', 'richard', 'richelle', 'ricki', 'rickie', 'rikki', 'rima', 'rina', 'risa', 'rita', 'riva', 'rivka', 'robbi', 'robbie', 'robbin', 'robbyn', 'robena', 'robert', 'roberta', 'roberto', 'robin', 'robyn', 'rochel', 'rochell', 'rochelle', 'rocio', 'rolanda', 'rolande', 'roma', 'romaine', 'romana', 'romelia', 'romona', 'rona', 'ronald', 'ronda', 'roni', 'ronna', 'ronni', 'ronnie', 'rory', 'rosa', 'rosalba', 'rosalee', 'rosalia', 'rosalie', 'rosalina', 'rosalind', 'rosalinda', 'rosaline', 'rosalva', 'rosalyn', 'rosamaria', 'rosamond', 'rosana', 'rosann', 'rosanna', 'rosanne', 'rosaria', 'rosario', 'rosaura', 'rose', 'roseann', 'roseanna', 'roseanne', 'roselee', 'roselia', 'roseline', 'rosella', 'roselle', 'roselyn', 'rosemarie', 'rosemary', 'rosena', 'rosenda', 'rosetta', 'rosette', 'rosia', 'rosie', 'rosina', 'rosio', 'rosita', 'roslyn', 'rossana', 'rossie', 'rosy', 'rowena', 'roxana', 'roxane', 'roxann', 'roxanna', 'roxanne', 'roxie', 'roxy', 'roy', 'royce', 'rozanne', 'rozella', 'rubi', 'rubie', 'ruby', 'rubye', 'rudy', 'rufina', 'russell', 'ruth', 'rutha', 'ruthann', 'ruthanne', 'ruthe', 'ruthie', 'ryan', 'ryann', 'sabina', 'sabine', 'sabra', 'sabrina', 'sacha', 'sachiko', 'sade', 'sadie', 'sadye', 'sage', 'salena', 'salina', 'salley', 'sallie', 'sally', 'salome', 'sam', 'samantha', 'samara', 'samatha', 'samella', 'samira', 'sammie', 'sammy', 'samuel', 'sana', 'sanda', 'sandee', 'sandi', 'sandie', 'sandra', 'sandy', 'sang', 'sanjuana', 'sanjuanita', 'sanora', 'santa', 'santana', 'santina', 'santos', 'sara', 'sarah', 'sarai', 'saran', 'sari', 'sarina', 'sarita', 'sasha', 'saturnina', 'sau', 'saundra', 'savanna', 'savannah', 'scarlet', 'scarlett', 'scott', 'scottie', 'sean', 'season', 'sebrina', 'see', 'seema', 'selena', 'selene', 'selina', 'selma', 'sena', 'senaida', 'september', 'serafina', 'serena', 'serina', 'serita', 'setsuko', 'sha', 'shae', 'shaina', 'shakia', 'shakira', 'shakita', 'shala', 'shalanda', 'shalon', 'shalonda', 'shameka', 'shamika', 'shan', 'shana', 'shanae', 'shanda', 'shandi', 'shandra', 'shane', 'shaneka', 'shanel', 'shanell', 'shanelle', 'shani', 'shanice', 'shanika', 'shaniqua', 'shanita', 'shanna', 'shannan', 'shannon', 'shanon', 'shanta', 'shantae', 'shantay', 'shante', 'shantel', 'shantell', 'shantelle', 'shanti', 'shaquana', 'shaquita', 'shara', 'sharan', 'sharda', 'sharee', 'sharell', 'sharen', 'shari', 'sharice', 'sharie', 'sharika', 'sharilyn', 'sharita', 'sharla', 'sharleen', 'sharlene', 'sharmaine', 'sharolyn', 'sharon', 'sharonda', 'sharri', 'sharron', 'sharyl', 'sharyn', 'shasta', 'shaun', 'shauna', 'shaunda', 'shaunna', 'shaunta', 'shaunte', 'shavon', 'shavonda', 'shavonne', 'shawana', 'shawanda', 'shawanna', 'shawn', 'shawna', 'shawnda', 'shawnee', 'shawnna', 'shawnta', 'shay', 'shayla', 'shayna', 'shayne', 'shea', 'sheba', 'sheena', 'sheila', 'sheilah', 'shela', 'shelba', 'shelby', 'shelia', 'shella', 'shelley', 'shelli', 'shellie', 'shelly', 'shemeka', 'shemika', 'shena', 'shenika', 'shenita', 'shenna', 'shera', 'sheree', 'sherell', 'sheri', 'sherice', 'sheridan', 'sherie', 'sherika', 'sherill', 'sherilyn', 'sherise', 'sherita', 'sherlene', 'sherley', 'sherly', 'sherlyn', 'sheron', 'sherrell', 'sherri', 'sherrie', 'sherril', 'sherrill', 'sherron', 'sherry', 'sherryl', 'shery', 'sheryl', 'sheryll', 'shiela', 'shila', 'shiloh', 'shin', 'shira', 'shirely', 'shirl', 'shirlee', 'shirleen', 'shirlene', 'shirley', 'shirly', 'shizue', 'shizuko', 'shona', 'shonda', 'shondra', 'shonna', 'shonta', 'shoshana', 'shu', 'shyla', 'sibyl', 'sidney', 'sierra', 'signe', 'sigrid', 'silva', 'silvana', 'silvia', 'sima', 'simona', 'simone', 'simonne', 'sina', 'sindy', 'siobhan', 'sirena', 'siu', 'sixta', 'skye', 'slyvia', 'so', 'socorro', 'sofia', 'soila', 'sol', 'solange', 'soledad', 'somer', 'sommer', 'son', 'sona', 'sondra', 'song', 'sonia', 'sonja', 'sonya', 'soo', 'sook', 'soon', 'sophia', 'sophie', 'soraya', 'sparkle', 'spring', 'stacee', 'stacey', 'staci', 'stacia', 'stacie', 'stacy', 'star', 'starla', 'starr', 'stasia', 'stefani', 'stefania', 'stefanie', 'stefany', 'steffanie', 'stella', 'stepanie', 'stephaine', 'stephane', 'stephani', 'stephania', 'stephanie', 'stephany', 'stephen', 'stephenie', 'stephine', 'stephnie', 'steven', 'stevie', 'stormy', 'su', 'suanne', 'sudie', 'sue', 'sueann', 'suellen', 'suk', 'sulema', 'sumiko', 'summer', 'sun', 'sunday', 'sung', 'sunni', 'sunny', 'sunshine', 'susan', 'susana', 'susann', 'susanna', 'susannah', 'susanne', 'susie', 'susy', 'suzan', 'suzann', 'suzanna', 'suzanne', 'suzette', 'suzi', 'suzie', 'suzy', 'svetlana', 'sybil', 'syble', 'sydney', 'sylvia', 'sylvie', 'synthia', 'syreeta', 'ta', 'tabatha', 'tabetha', 'tabitha', 'tai', 'taina', 'taisha', 'tajuana', 'takako', 'takisha', 'talia', 'talisha', 'talitha', 'tam', 'tama', 'tamala', 'tamar', 'tamara', 'tamatha', 'tambra', 'tameika', 'tameka', 'tamekia', 'tamela', 'tamera', 'tamesha', 'tami', 'tamica', 'tamie', 'tamika', 'tamiko', 'tamisha', 'tammara', 'tammera', 'tammi', 'tammie', 'tammy', 'tamra', 'tana', 'tandra', 'tandy', 'taneka', 'tanesha', 'tangela', 'tania', 'tanika', 'tanisha', 'tanja', 'tanna', 'tanya', 'tara', 'tarah', 'taren', 'tari', 'tarra', 'tarsha', 'taryn', 'tasha', 'tashia', 'tashina', 'tasia', 'tatiana', 'tatum', 'tatyana', 'taunya', 'tawana', 'tawanda', 'tawanna', 'tawna', 'tawny', 'tawnya', 'taylor', 'tayna', 'teena', 'tegan', 'teisha', 'telma', 'temeka', 'temika', 'tempie', 'temple', 'tena', 'tenesha', 'tenisha', 'tennie', 'tennille', 'teodora', 'teofila', 'tequila', 'tera', 'tereasa', 'teresa', 'terese', 'teresia', 'teresita', 'teressa', 'teri', 'terica', 'terina', 'terisa', 'terra', 'terrell', 'terresa', 'terri', 'terrie', 'terrilyn', 'terry', 'tesha', 'tess', 'tessa', 'tessie', 'thalia', 'thanh', 'thao', 'thea', 'theda', 'thelma', 'theo', 'theodora', 'theola', 'theresa', 'therese', 'theresia', 'theressa', 'thersa', 'thi', 'thomas', 'thomasena', 'thomasina', 'thomasine', 'thora', 'thresa', 'thu', 'thuy', 'tia', 'tiana', 'tianna', 'tiara', 'tien', 'tiera', 'tierra', 'tiesha', 'tifany', 'tiffaney', 'tiffani', 'tiffanie', 'tiffany', 'tiffiny', 'tijuana', 'tilda', 'tillie', 'timika', 'timothy', 'tina', 'tinisha', 'tiny', 'tisa', 'tish', 'tisha', 'tobi', 'tobie', 'toby', 'toccara', 'toi', 'tomasa', 'tomeka', 'tomi', 'tomika', 'tomiko', 'tommie', 'tommy', 'tommye', 'tomoko', 'tona', 'tonda', 'tonette', 'toni', 'tonia', 'tonie', 'tonisha', 'tonita', 'tonja', 'tony', 'tonya', 'tora', 'tori', 'torie', 'torri', 'torrie', 'tory', 'tosha', 'toshia', 'toshiko', 'tova', 'towanda', 'toya', 'tracee', 'tracey', 'traci', 'tracie', 'tracy', 'tran', 'trang', 'travis', 'treasa', 'treena', 'trena', 'tresa', 'tressa', 'tressie', 'treva', 'tricia', 'trina', 'trinh', 'trinidad', 'trinity', 'trish', 'trisha', 'trista', 'tristan', 'troy', 'trudi', 'trudie', 'trudy', 'trula', 'tu', 'tula', 'tuyet', 'twana', 'twanda', 'twanna', 'twila', 'twyla', 'tyesha', 'tyisha', 'tyler', 'tynisha', 'tyra', 'ula', 'ulrike', 'un', 'una', 'ursula', 'usha', 'ute', 'vada', 'val', 'valarie', 'valda', 'valencia', 'valene', 'valentina', 'valentine', 'valeri', 'valeria', 'valerie', 'valery', 'vallie', 'valorie', 'valrie', 'van', 'vanda', 'vanesa', 'vanessa', 'vanetta', 'vania', 'vanita', 'vanna', 'vannesa', 'vannessa', 'vashti', 'vasiliki', 'veda', 'velda', 'velia', 'vella', 'velma', 'velva', 'velvet', 'vena', 'venessa', 'venetta', 'venice', 'venita', 'vennie', 'venus', 'veola', 'vera', 'verda', 'verdell', 'verdie', 'verena', 'vergie', 'verla', 'verlene', 'verlie', 'verline', 'verna', 'vernell', 'vernetta', 'vernia', 'vernice', 'vernie', 'vernita', 'vernon', 'verona', 'veronica', 'veronika', 'veronique', 'versie', 'vertie', 'vesta', 'veta', 'vi', 'vicenta', 'vickey', 'vicki', 'vickie', 'vicky', 'victor', 'victoria', 'victorina', 'vida', 'viki', 'vikki', 'vilma', 'vina', 'vincenza', 'vinita', 'vinnie', 'viola', 'violet', 'violeta', 'violette', 'virgen', 'virgie', 'virgil', 'virgina', 'virginia', 'vita', 'viva', 'vivan', 'vivian', 'viviana', 'vivien', 'vivienne', 'voncile', 'vonda', 'vonnie', 'wai', 'walter', 'waltraud', 'wan', 'wanda', 'waneta', 'wanetta', 'wanita', 'wava', 'wei', 'wen', 'wendi', 'wendie', 'wendolyn', 'wendy', 'wenona', 'wesley', 'whitley', 'whitney', 'wilda', 'wilhelmina', 'wilhemina', 'willa', 'willena', 'willene', 'willetta', 'willette', 'willia', 'william', 'willie', 'williemae', 'willodean', 'willow', 'wilma', 'windy', 'winifred', 'winnie', 'winnifred', 'winona', 'winter', 'wonda', 'wynell', 'wynona', 'xenia', 'xiao', 'xiomara', 'xochitl', 'xuan', 'yadira', 'yaeko', 'yael', 'yahaira', 'yajaira', 'yan', 'yang', 'yanira', 'yasmin', 'yasmine', 'yasuko', 'yee', 'yelena', 'yen', 'yer', 'yesenia', 'yessenia', 'yetta', 'yevette', 'yi', 'ying', 'yoko', 'yolanda', 'yolande', 'yolando', 'yolonda', 'yon', 'yong', 'yoshie', 'yoshiko', 'youlanda', 'young', 'yu', 'yuette', 'yuk', 'yuki', 'yukiko', 'yuko', 'yulanda', 'yun', 'yung', 'yuonne', 'yuri', 'yuriko', 'yvette', 'yvone', 'yvonne', 'zada', 'zaida', 'zana', 'zandra', 'zelda', 'zella', 'zelma', 'zena', 'zenaida', 'zenia', 'zenobia', 'zetta', 'zina', 'zita', 'zoe', 'zofia', 'zoila', 'zola', 'zona', 'zonia', 'zora', 'zoraida', 'zula', 'zulema', 'zulma', '']\n"
          ]
        }
      ]
    },
    {
      "cell_type": "code",
      "source": [
        "f = open(r'/content/sample_data/pronoun.txt', mode = 'r')\n",
        "data = f.read()\n",
        "data = data.split('\\n')\n",
        "print(data)\n",
        "f.close()"
      ],
      "metadata": {
        "colab": {
          "base_uri": "https://localhost:8080/"
        },
        "id": "4Hw6dVPSaxWB",
        "outputId": "e8e5e950-35ac-4b18-eb95-214a42a13799"
      },
      "execution_count": 107,
      "outputs": [
        {
          "output_type": "stream",
          "name": "stdout",
          "text": [
            "['aaron', 'abdul', 'abe', 'abel', 'abraham', 'abram', 'adalberto', 'adam', 'adan', 'adolfo', 'adolph', 'adrian', 'agustin', 'ahmad', 'ahmed', 'al', 'alan', 'albert', 'alberto', 'alden', 'aldo', 'alec', 'alejandro', 'alex', 'alexander', 'alexis', 'alfonso', 'alfonzo', 'alfred', 'alfredo', 'ali', 'allan', 'allen', 'alonso', 'alonzo', 'alphonse', 'alphonso', 'alton', 'alva', 'alvaro', 'alvin', 'amado', 'ambrose', 'amos', 'anderson', 'andre', 'andrea', 'andreas', 'andres', 'andrew', 'andy', 'angel', 'angelo', 'anibal', 'anthony', 'antione', 'antoine', 'anton', 'antone', 'antonia', 'antonio', 'antony', 'antwan', 'archie', 'arden', 'ariel', 'arlen', 'arlie', 'armand', 'armando', 'arnold', 'arnoldo', 'arnulfo', 'aron', 'arron', 'art', 'arthur', 'arturo', 'asa', 'ashley', 'aubrey', 'august', 'augustine', 'augustus', 'aurelio', 'austin', 'avery', 'barney', 'barrett', 'barry', 'bart', 'barton', 'basil', 'beau', 'ben', 'benedict', 'benito', 'benjamin', 'bennett', 'bennie', 'benny', 'benton', 'bernard', 'bernardo', 'bernie', 'berry', 'bert', 'bertram', 'bill', 'billie', 'billy', 'blaine', 'blair', 'blake', 'bo', 'bob', 'bobbie', 'bobby', 'booker', 'boris', 'boyce', 'boyd', 'brad', 'bradford', 'bradley', 'bradly', 'brady', 'brain', 'branden', 'brandon', 'brant', 'brendan', 'brendon', 'brent', 'brenton', 'bret', 'brett', 'brian', 'brice', 'britt', 'brock', 'broderick', 'brooks', 'bruce', 'bruno', 'bryan', 'bryant', 'bryce', 'bryon', 'buck', 'bud', 'buddy', 'buford', 'burl', 'burt', 'burton', 'buster', 'byron', 'caleb', 'calvin', 'cameron', 'carey', 'carl', 'carlo', 'carlos', 'carlton', 'carmelo', 'carmen', 'carmine', 'carol', 'carrol', 'carroll', 'carson', 'carter', 'cary', 'casey', 'cecil', 'cedric', 'cedrick', 'cesar', 'chad', 'chadwick', 'chance', 'chang', 'charles', 'charley', 'charlie', 'chas', 'chase', 'chauncey', 'chester', 'chet', 'chi', 'chong', 'chris', 'christian', 'christoper', 'christopher', 'chuck', 'chung', 'clair', 'clarence', 'clark', 'claud', 'claude', 'claudio', 'clay', 'clayton', 'clement', 'clemente', 'cleo', 'cletus', 'cleveland', 'cliff', 'clifford', 'clifton', 'clint', 'clinton', 'clyde', 'cody', 'colby', 'cole', 'coleman', 'colin', 'collin', 'colton', 'columbus', 'connie', 'conrad', 'cordell', 'corey', 'cornelius', 'cornell', 'cortez', 'cory', 'courtney', 'coy', 'craig', 'cristobal', 'cristopher', 'cruz', 'curt', 'curtis', 'cyril', 'cyrus', 'dale', 'dallas', 'dalton', 'damian', 'damien', 'damion', 'damon', 'dan', 'dana', 'dane', 'danial', 'daniel', 'danilo', 'dannie', 'danny', 'dante', 'darell', 'daren', 'darin', 'dario', 'darius', 'darnell', 'daron', 'darrel', 'darrell', 'darren', 'darrick', 'darrin', 'darron', 'darryl', 'darwin', 'daryl', 'dave', 'david', 'davis', 'dean', 'deandre', 'deangelo', 'dee', 'del', 'delbert', 'delmar', 'delmer', 'demarcus', 'demetrius', 'denis', 'dennis', 'denny', 'denver', 'deon', 'derek', 'derick', 'derrick', 'deshawn', 'desmond', 'devin', 'devon', 'dewayne', 'dewey', 'dewitt', 'dexter', 'dick', 'diego', 'dillon', 'dino', 'dion', 'dirk', 'domenic', 'domingo', 'dominic', 'dominick', 'dominique', 'don', 'donald', 'dong', 'donn', 'donnell', 'donnie', 'donny', 'donovan', 'donte', 'dorian', 'dorsey', 'doug', 'douglas', 'douglass', 'doyle', 'drew', 'duane', 'dudley', 'duncan', 'dustin', 'dusty', 'dwain', 'dwayne', 'dwight', 'dylan', 'earl', 'earle', 'earnest', 'ed', 'eddie', 'eddy', 'edgar', 'edgardo', 'edison', 'edmond', 'edmund', 'edmundo', 'eduardo', 'edward', 'edwardo', 'edwin', 'efrain', 'efren', 'elbert', 'elden', 'eldon', 'eldridge', 'eli', 'elias', 'elijah', 'eliseo', 'elisha', 'elliot', 'elliott', 'ellis', 'ellsworth', 'elmer', 'elmo', 'eloy', 'elroy', 'elton', 'elvin', 'elvis', 'elwood', 'emanuel', 'emerson', 'emery', 'emil', 'emile', 'emilio', 'emmanuel', 'emmett', 'emmitt', 'emory', 'enoch', 'enrique', 'erasmo', 'eric', 'erich', 'erick', 'erik', 'erin', 'ernest', 'ernesto', 'ernie', 'errol', 'ervin', 'erwin', 'esteban', 'ethan', 'eugene', 'eugenio', 'eusebio', 'evan', 'everett', 'everette', 'ezekiel', 'ezequiel', 'ezra', 'fabian', 'faustino', 'fausto', 'federico', 'felipe', 'felix', 'felton', 'ferdinand', 'fermin', 'fernando', 'fidel', 'filiberto', 'fletcher', 'florencio', 'florentino', 'floyd', 'forest', 'forrest', 'foster', 'frances', 'francesco', 'francis', 'francisco', 'frank', 'frankie', 'franklin', 'franklyn', 'fred', 'freddie', 'freddy', 'frederic', 'frederick', 'fredric', 'fredrick', 'freeman', 'fritz', 'gabriel', 'gail', 'gale', 'galen', 'garfield', 'garland', 'garret', 'garrett', 'garry', 'garth', 'gary', 'gaston', 'gavin', 'gayle', 'gaylord', 'genaro', 'gene', 'geoffrey', 'george', 'gerald', 'geraldo', 'gerard', 'gerardo', 'german', 'gerry', 'gil', 'gilbert', 'gilberto', 'gino', 'giovanni', 'giuseppe', 'glen', 'glenn', 'gonzalo', 'gordon', 'grady', 'graham', 'graig', 'grant', 'granville', 'greg', 'gregg', 'gregorio', 'gregory', 'grover', 'guadalupe', 'guillermo', 'gus', 'gustavo', 'guy', 'hai', 'hal', 'hank', 'hans', 'harlan', 'harland', 'harley', 'harold', 'harris', 'harrison', 'harry', 'harvey', 'hassan', 'hayden', 'haywood', 'heath', 'hector', 'henry', 'herb', 'herbert', 'heriberto', 'herman', 'herschel', 'hershel', 'hilario', 'hilton', 'hipolito', 'hiram', 'hobert', 'hollis', 'homer', 'hong', 'horace', 'horacio', 'hosea', 'houston', 'howard', 'hoyt', 'hubert', 'huey', 'hugh', 'hugo', 'humberto', 'hung', 'hunter', 'hyman', 'ian', 'ignacio', 'ike', 'ira', 'irvin', 'irving', 'irwin', 'isaac', 'isaiah', 'isaias', 'isiah', 'isidro', 'ismael', 'israel', 'isreal', 'issac', 'ivan', 'ivory', 'jacinto', 'jack', 'jackie', 'jackson', 'jacob', 'jacques', 'jae', 'jaime', 'jake', 'jamaal', 'jamal', 'jamar', 'jame', 'jamel', 'james', 'jamey', 'jamie', 'jamison', 'jan', 'jared', 'jarod', 'jarred', 'jarrett', 'jarrod', 'jarvis', 'jason', 'jasper', 'javier', 'jay', 'jayson', 'jc', 'jean', 'jed', 'jeff', 'jefferey', 'jefferson', 'jeffery', 'jeffrey', 'jeffry', 'jerald', 'jeramy', 'jere', 'jeremiah', 'jeremy', 'jermaine', 'jerold', 'jerome', 'jeromy', 'jerrell', 'jerrod', 'jerrold', 'jerry', 'jess', 'jesse', 'jessie', 'jesus', 'jewel', 'jewell', 'jim', 'jimmie', 'jimmy', 'joan', 'joaquin', 'jody', 'joe', 'joel', 'joesph', 'joey', 'john', 'johnathan', 'johnathon', 'johnie', 'johnnie', 'johnny', 'johnson', 'jon', 'jonah', 'jonas', 'jonathan', 'jonathon', 'jordan', 'jordon', 'jorge', 'jose', 'josef', 'joseph', 'josh', 'joshua', 'josiah', 'jospeh', 'josue', 'juan', 'jude', 'judson', 'jules', 'julian', 'julio', 'julius', 'junior', 'justin', 'kareem', 'karl', 'kasey', 'keenan', 'keith', 'kelley', 'kelly', 'kelvin', 'ken', 'kendall', 'kendrick', 'keneth', 'kenneth', 'kennith', 'kenny', 'kent', 'kenton', 'kermit', 'kerry', 'keven', 'kevin', 'kieth', 'kim', 'king', 'kip', 'kirby', 'kirk', 'korey', 'kory', 'kraig', 'kris', 'kristofer', 'kristopher', 'kurt', 'kurtis', 'kyle', 'lacy', 'lamar', 'lamont', 'lance', 'landon', 'lane', 'lanny', 'larry', 'lauren', 'laurence', 'lavern', 'laverne', 'lawerence', 'lawrence', 'lazaro', 'leandro', 'lee', 'leif', 'leigh', 'leland', 'lemuel', 'len', 'lenard', 'lenny', 'leo', 'leon', 'leonard', 'leonardo', 'leonel', 'leopoldo', 'leroy', 'les', 'lesley', 'leslie', 'lester', 'levi', 'lewis', 'lincoln', 'lindsay', 'lindsey', 'lino', 'linwood', 'lionel', 'lloyd', 'logan', 'lon', 'long', 'lonnie', 'lonny', 'loren', 'lorenzo', 'lou', 'louie', 'louis', 'lowell', 'loyd', 'lucas', 'luciano', 'lucien', 'lucio', 'lucius', 'luigi', 'luis', 'luke', 'lupe', 'luther', 'lyle', 'lyman', 'lyndon', 'lynn', 'lynwood', 'mac', 'mack', 'major', 'malcolm', 'malcom', 'malik', 'man', 'manual', 'manuel', 'marc', 'marcel', 'marcelino', 'marcellus', 'marcelo', 'marco', 'marcos', 'marcus', 'margarito', 'maria', 'mariano', 'mario', 'marion', 'mark', 'markus', 'marlin', 'marlon', 'marquis', 'marshall', 'martin', 'marty', 'marvin', 'mary', 'mason', 'mathew', 'matt', 'matthew', 'maurice', 'mauricio', 'mauro', 'max', 'maximo', 'maxwell', 'maynard', 'mckinley', 'mel', 'melvin', 'merle', 'merlin', 'merrill', 'mervin', 'micah', 'michael', 'michal', 'michale', 'micheal', 'michel', 'mickey', 'miguel', 'mike', 'mikel', 'milan', 'miles', 'milford', 'millard', 'milo', 'milton', 'minh', 'miquel', 'mitch', 'mitchel', 'mitchell', 'modesto', 'mohamed', 'mohammad', 'mohammed', 'moises', 'monroe', 'monte', 'monty', 'morgan', 'morris', 'morton', 'mose', 'moses', 'moshe', 'murray', 'myles', 'myron', 'napoleon', 'nathan', 'nathanael', 'nathanial', 'nathaniel', 'neal', 'ned', 'neil', 'nelson', 'nestor', 'neville', 'newton', 'nicholas', 'nick', 'nickolas', 'nicky', 'nicolas', 'nigel', 'noah', 'noble', 'noe', 'noel', 'nolan', 'norbert', 'norberto', 'norman', 'normand', 'norris', 'numbers', 'octavio', 'odell', 'odis', 'olen', 'olin', 'oliver', 'ollie', 'omar', 'omer', 'oren', 'orlando', 'orval', 'orville', 'oscar', 'osvaldo', 'oswaldo', 'otha', 'otis', 'otto', 'owen', 'pablo', 'palmer', 'paris', 'parker', 'pasquale', 'pat', 'patricia', 'patrick', 'paul', 'pedro', 'percy', 'perry', 'pete', 'peter', 'phil', 'philip', 'phillip', 'pierre', 'porfirio', 'porter', 'preston', 'prince', 'quentin', 'quincy', 'quinn', 'quintin', 'quinton', 'rafael', 'raleigh', 'ralph', 'ramiro', 'ramon', 'randal', 'randall', 'randell', 'randolph', 'randy', 'raphael', 'rashad', 'raul', 'ray', 'rayford', 'raymon', 'raymond', 'raymundo', 'reed', 'refugio', 'reggie', 'reginald', 'reid', 'reinaldo', 'renaldo', 'renato', 'rene', 'reuben', 'rex', 'rey', 'reyes', 'reynaldo', 'rhett', 'ricardo', 'rich', 'richard', 'richie', 'rick', 'rickey', 'rickie', 'ricky', 'rico', 'rigoberto', 'riley', 'rob', 'robbie', 'robby', 'robert', 'roberto', 'robin', 'robt', 'rocco', 'rocky', 'rod', 'roderick', 'rodger', 'rodney', 'rodolfo', 'rodrick', 'rodrigo', 'rogelio', 'roger', 'roland', 'rolando', 'rolf', 'rolland', 'roman', 'romeo', 'ron', 'ronald', 'ronnie', 'ronny', 'roosevelt', 'rory', 'rosario', 'roscoe', 'rosendo', 'ross', 'roy', 'royal', 'royce', 'ruben', 'rubin', 'rudolf', 'rudolph', 'rudy', 'rueben', 'rufus', 'rupert', 'russ', 'russel', 'russell', 'rusty', 'ryan', 'sal', 'salvador', 'salvatore', 'sam', 'sammie', 'sammy', 'samual', 'samuel', 'sandy', 'sanford', 'sang', 'santiago', 'santo', 'santos', 'saul', 'scot', 'scott', 'scottie', 'scotty', 'sean', 'sebastian', 'sergio', 'seth', 'seymour', 'shad', 'shane', 'shannon', 'shaun', 'shawn', 'shayne', 'shelby', 'sheldon', 'shelton', 'sherman', 'sherwood', 'shirley', 'shon', 'sid', 'sidney', 'silas', 'simon', 'sol', 'solomon', 'son', 'sonny', 'spencer', 'stacey', 'stacy', 'stan', 'stanford', 'stanley', 'stanton', 'stefan', 'stephan', 'stephen', 'sterling', 'steve', 'steven', 'stevie', 'stewart', 'stuart', 'sung', 'sydney', 'sylvester', 'tad', 'tanner', 'taylor', 'ted', 'teddy', 'teodoro', 'terence', 'terrance', 'terrell', 'terrence', 'terry', 'thad', 'thaddeus', 'thanh', 'theo', 'theodore', 'theron', 'thomas', 'thurman', 'tim', 'timmy', 'timothy', 'titus', 'tobias', 'toby', 'tod', 'todd', 'tom', 'tomas', 'tommie', 'tommy', 'toney', 'tony', 'tory', 'tracey', 'tracy', 'travis', 'trent', 'trenton', 'trevor', 'trey', 'trinidad', 'tristan', 'troy', 'truman', 'tuan', 'ty', 'tyler', 'tyree', 'tyrell', 'tyron', 'tyrone', 'tyson', 'ulysses', 'val', 'valentin', 'valentine', 'van', 'vance', 'vaughn', 'vern', 'vernon', 'vicente', 'victor', 'vince', 'vincent', 'vincenzo', 'virgil', 'virgilio', 'vito', 'von', 'wade', 'waldo', 'walker', 'wallace', 'wally', 'walter', 'walton', 'ward', 'warner', 'warren', 'waylon', 'wayne', 'weldon', 'wendell', 'werner', 'wes', 'wesley', 'weston', 'whitney', 'wilber', 'wilbert', 'wilbur', 'wilburn', 'wiley', 'wilford', 'wilfred', 'wilfredo', 'will', 'willard', 'william', 'williams', 'willian', 'willie', 'willis', 'willy', 'wilmer', 'wilson', 'wilton', 'winford', 'winfred', 'winston', 'wm', 'woodrow', 'wyatt', 'xavier', 'yong', 'young', 'zachariah', 'zachary', 'zachery', 'zack', 'zackary', 'zane', 'abbey', 'abbie', 'abby', 'abigail', 'ada', 'adah', 'adaline', 'adam', 'addie', 'adela', 'adelaida', 'adelaide', 'adele', 'adelia', 'adelina', 'adeline', 'adell', 'adella', 'adelle', 'adena', 'adina', 'adria', 'adrian', 'adriana', 'adriane', 'adrianna', 'adrianne', 'adrien', 'adriene', 'adrienne', 'afton', 'agatha', 'agnes', 'agnus', 'agripina', 'agueda', 'agustina', 'ai', 'aida', 'aide', 'aiko', 'aileen', 'ailene', 'aimee', 'aisha', 'aja', 'akiko', 'akilah', 'alaina', 'alaine', 'alana', 'alane', 'alanna', 'alayna', 'alba', 'albert', 'alberta', 'albertha', 'albertina', 'albertine', 'albina', 'alda', 'alease', 'alecia', 'aleen', 'aleida', 'aleisha', 'alejandra', 'alejandrina', 'alena', 'alene', 'alesha', 'aleshia', 'alesia', 'alessandra', 'aleta', 'aletha', 'alethea', 'alethia', 'alex', 'alexa', 'alexander', 'alexandra', 'alexandria', 'alexia', 'alexis', 'alfreda', 'alfredia', 'ali', 'alia', 'alica', 'alice', 'alicia', 'alida', 'alina', 'aline', 'alisa', 'alise', 'alisha', 'alishia', 'alisia', 'alison', 'alissa', 'alita', 'alix', 'aliza', 'alla', 'alleen', 'allegra', 'allen', 'allena', 'allene', 'allie', 'alline', 'allison', 'allyn', 'allyson', 'alma', 'almeda', 'almeta', 'alona', 'alpha', 'alta', 'altagracia', 'altha', 'althea', 'alva', 'alvera', 'alverta', 'alvina', 'alyce', 'alycia', 'alysa', 'alyse', 'alysha', 'alysia', 'alyson', 'alyssa', 'amada', 'amal', 'amalia', 'amanda', 'amber', 'amberly', 'amee', 'amelia', 'america', 'ami', 'amie', 'amiee', 'amina', 'amira', 'ammie', 'amparo', 'amy', 'an', 'ana', 'anabel', 'analisa', 'anamaria', 'anastacia', 'anastasia', 'andera', 'andra', 'andre', 'andrea', 'andree', 'andrew', 'andria', 'anette', 'angel', 'angela', 'angele', 'angelena', 'angeles', 'angelia', 'angelic', 'angelica', 'angelika', 'angelina', 'angeline', 'angelique', 'angelita', 'angella', 'angelo', 'angelyn', 'angie', 'angila', 'angla', 'angle', 'anglea', 'anh', 'anika', 'anisa', 'anisha', 'anissa', 'anita', 'anitra', 'anja', 'anjanette', 'anjelica', 'ann', 'anna', 'annabel', 'annabell', 'annabelle', 'annalee', 'annalisa', 'annamae', 'annamaria', 'annamarie', 'anne', 'anneliese', 'annelle', 'annemarie', 'annett', 'annetta', 'annette', 'annice', 'annie', 'annika', 'annis', 'annita', 'annmarie', 'anthony', 'antionette', 'antoinette', 'antonetta', 'antonette', 'antonia', 'antonietta', 'antonina', 'antonio', 'anya', 'apolonia', 'april', 'apryl', 'ara', 'araceli', 'aracelis', 'aracely', 'arcelia', 'ardath', 'ardelia', 'ardell', 'ardella', 'ardelle', 'ardis', 'ardith', 'aretha', 'argelia', 'argentina', 'ariana', 'ariane', 'arianna', 'arianne', 'arica', 'arie', 'ariel', 'arielle', 'arla', 'arlean', 'arleen', 'arlena', 'arlene', 'arletha', 'arletta', 'arlette', 'arlinda', 'arline', 'arlyne', 'armanda', 'armandina', 'armida', 'arminda', 'arnetta', 'arnette', 'arnita', 'arthur', 'artie', 'arvilla', 'asha', 'ashanti', 'ashely', 'ashlea', 'ashlee', 'ashleigh', 'ashley', 'ashli', 'ashlie', 'ashly', 'ashlyn', 'ashton', 'asia', 'asley', 'assunta', 'astrid', 'asuncion', 'athena', 'aubrey', 'audie', 'audra', 'audrea', 'audrey', 'audria', 'audrie', 'audry', 'augusta', 'augustina', 'augustine', 'aundrea', 'aura', 'aurea', 'aurelia', 'aurora', 'aurore', 'austin', 'autumn', 'ava', 'avelina', 'avery', 'avis', 'avril', 'awilda', 'ayako', 'ayana', 'ayanna', 'ayesha', 'azalee', 'azucena', 'azzie', 'babara', 'babette', 'bailey', 'bambi', 'bao', 'barabara', 'barb', 'barbar', 'barbara', 'barbera', 'barbie', 'barbra', 'bari', 'barrie', 'basilia', 'bea', 'beata', 'beatrice', 'beatris', 'beatriz', 'beaulah', 'bebe', 'becki', 'beckie', 'becky', 'bee', 'belen', 'belia', 'belinda', 'belkis', 'bell', 'bella', 'belle', 'belva', 'benita', 'bennie', 'berenice', 'berna', 'bernadette', 'bernadine', 'bernarda', 'bernardina', 'bernardine', 'berneice', 'bernetta', 'bernice', 'bernie', 'berniece', 'bernita', 'berry', 'berta', 'bertha', 'bertie', 'beryl', 'bess', 'bessie', 'beth', 'bethanie', 'bethann', 'bethany', 'bethel', 'betsey', 'betsy', 'bette', 'bettie', 'bettina', 'betty', 'bettyann', 'bettye', 'beula', 'beulah', 'bev', 'beverlee', 'beverley', 'beverly', 'bianca', 'bibi', 'billi', 'billie', 'billy', 'billye', 'birdie', 'birgit', 'blair', 'blake', 'blanca', 'blanch', 'blanche', 'blondell', 'blossom', 'blythe', 'bobbi', 'bobbie', 'bobby', 'bobbye', 'bobette', 'bok', 'bong', 'bonita', 'bonnie', 'bonny', 'branda', 'brande', 'brandee', 'brandi', 'brandie', 'brandon', 'brandy', 'breana', 'breann', 'breanna', 'breanne', 'bree', 'brenda', 'brenna', 'brett', 'brian', 'briana', 'brianna', 'brianne', 'bridget', 'bridgett', 'bridgette', 'brigette', 'brigid', 'brigida', 'brigitte', 'brinda', 'britany', 'britney', 'britni', 'britt', 'britta', 'brittaney', 'brittani', 'brittanie', 'brittany', 'britteny', 'brittney', 'brittni', 'brittny', 'bronwyn', 'brook', 'brooke', 'bruna', 'brunilda', 'bryanna', 'brynn', 'buena', 'buffy', 'bula', 'bulah', 'bunny', 'burma', 'caitlin', 'caitlyn', 'calandra', 'calista', 'callie', 'camelia', 'camellia', 'cameron', 'cami', 'camie', 'camila', 'camilla', 'camille', 'cammie', 'cammy', 'candace', 'candance', 'candelaria', 'candi', 'candice', 'candida', 'candie', 'candis', 'candra', 'candy', 'candyce', 'caprice', 'cara', 'caren', 'carey', 'cari', 'caridad', 'carie', 'carin', 'carina', 'carisa', 'carissa', 'carita', 'carl', 'carla', 'carlee', 'carleen', 'carlena', 'carlene', 'carletta', 'carley', 'carli', 'carlie', 'carline', 'carlita', 'carlos', 'carlota', 'carlotta', 'carly', 'carlyn', 'carma', 'carman', 'carmel', 'carmela', 'carmelia', 'carmelina', 'carmelita', 'carmella', 'carmen', 'carmina', 'carmon', 'carol', 'carola', 'carolann', 'carole', 'carolee', 'carolin', 'carolina', 'caroline', 'caroll', 'carolyn', 'carolyne', 'carolynn', 'caron', 'caroyln', 'carri', 'carrie', 'carrol', 'carroll', 'carry', 'cary', 'caryl', 'carylon', 'caryn', 'casandra', 'casey', 'casie', 'casimira', 'cassandra', 'cassaundra', 'cassey', 'cassi', 'cassidy', 'cassie', 'cassondra', 'cassy', 'catalina', 'catarina', 'caterina', 'catharine', 'catherin', 'catherina', 'catherine', 'cathern', 'catheryn', 'cathey', 'cathi', 'cathie', 'cathleen', 'cathrine', 'cathryn', 'cathy', 'catina', 'catrice', 'catrina', 'cayla', 'cecelia', 'cecil', 'cecila', 'cecile', 'cecilia', 'cecille', 'cecily', 'celena', 'celesta', 'celeste', 'celestina', 'celestine', 'celia', 'celina', 'celinda', 'celine', 'celsa', 'ceola', 'chae', 'chan', 'chana', 'chanda', 'chandra', 'chanel', 'chanell', 'chanelle', 'chang', 'chantal', 'chantay', 'chante', 'chantel', 'chantell', 'chantelle', 'chara', 'charis', 'charise', 'charissa', 'charisse', 'charita', 'charity', 'charla', 'charleen', 'charlena', 'charlene', 'charles', 'charlesetta', 'charlette', 'charlie', 'charline', 'charlott', 'charlotte', 'charlsie', 'charlyn', 'charmain', 'charmaine', 'charolette', 'chasidy', 'chasity', 'chassidy', 'chastity', 'chau', 'chaya', 'chelsea', 'chelsey', 'chelsie', 'cher', 'chere', 'cheree', 'cherelle', 'cheri', 'cherie', 'cherilyn', 'cherise', 'cherish', 'cherly', 'cherlyn', 'cherri', 'cherrie', 'cherry', 'cherryl', 'chery', 'cheryl', 'cheryle', 'cheryll', 'cheyenne', 'chi', 'chia', 'chieko', 'chin', 'china', 'ching', 'chiquita', 'chloe', 'chong', 'chris', 'chrissy', 'christa', 'christal', 'christeen', 'christel', 'christen', 'christena', 'christene', 'christi', 'christia', 'christian', 'christiana', 'christiane', 'christie', 'christin', 'christina', 'christine', 'christinia', 'christopher', 'christy', 'chrystal', 'chu', 'chun', 'chung', 'ciara', 'cicely', 'ciera', 'cierra', 'cinda', 'cinderella', 'cindi', 'cindie', 'cindy', 'cinthia', 'cira', 'clair', 'claire', 'clara', 'clare', 'clarence', 'claretha', 'claretta', 'claribel', 'clarice', 'clarinda', 'clarine', 'claris', 'clarisa', 'clarissa', 'clarita', 'classie', 'claude', 'claudette', 'claudia', 'claudie', 'claudine', 'clelia', 'clemencia', 'clementina', 'clementine', 'clemmie', 'cleo', 'cleopatra', 'cleora', 'cleotilde', 'cleta', 'clora', 'clorinda', 'clotilde', 'clyde', 'codi', 'cody', 'colby', 'coleen', 'colene', 'coletta', 'colette', 'colleen', 'collen', 'collene', 'collette', 'concepcion', 'conception', 'concetta', 'concha', 'conchita', 'connie', 'constance', 'consuela', 'consuelo', 'contessa', 'cora', 'coral', 'coralee', 'coralie', 'corazon', 'cordelia', 'cordia', 'cordie', 'coreen', 'corene', 'coretta', 'corey', 'cori', 'corie', 'corina', 'corine', 'corinna', 'corinne', 'corliss', 'cornelia', 'corrie', 'corrin', 'corrina', 'corrine', 'corrinne', 'cortney', 'cory', 'courtney', 'creola', 'cris', 'criselda', 'crissy', 'crista', 'cristal', 'cristen', 'cristi', 'cristie', 'cristin', 'cristina', 'cristine', 'cristy', 'cruz', 'crysta', 'crystal', 'crystle', 'cuc', 'curtis', 'cyndi', 'cyndy', 'cynthia', 'cyrstal', 'cythia', 'dacia', 'dagmar', 'dagny', 'dahlia', 'daina', 'daine', 'daisey', 'daisy', 'dakota', 'dale', 'dalene', 'dalia', 'dalila', 'dallas', 'damaris', 'dan', 'dana', 'danae', 'danelle', 'danette', 'dani', 'dania', 'danica', 'daniel', 'daniela', 'daniele', 'daniell', 'daniella', 'danielle', 'danika', 'danille', 'danita', 'dann', 'danna', 'dannette', 'dannie', 'dannielle', 'danuta', 'danyel', 'danyell', 'danyelle', 'daphine', 'daphne', 'dara', 'darby', 'darcel', 'darcey', 'darci', 'darcie', 'darcy', 'daria', 'darla', 'darleen', 'darlena', 'darlene', 'darline', 'darnell', 'daryl', 'david', 'davida', 'davina', 'dawn', 'dawna', 'dawne', 'dayle', 'dayna', 'daysi', 'deadra', 'dean', 'deana', 'deandra', 'deandrea', 'deane', 'deann', 'deanna', 'deanne', 'deb', 'debbi', 'debbie', 'debbra', 'debby', 'debera', 'debi', 'debora', 'deborah', 'debra', 'debrah', 'debroah', 'dede', 'dedra', 'dee', 'deeann', 'deeanna', 'deedee', 'deedra', 'deena', 'deetta', 'deidra', 'deidre', 'deirdre', 'deja', 'delaine', 'delana', 'delcie', 'delena', 'delfina', 'delia', 'delicia', 'delila', 'delilah', 'delinda', 'delisa', 'dell', 'della', 'delma', 'delmy', 'delois', 'deloise', 'delora', 'deloras', 'delores', 'deloris', 'delorse', 'delpha', 'delphia', 'delphine', 'delsie', 'delta', 'demetra', 'demetria', 'demetrice', 'demetrius', 'dena', 'denae', 'deneen', 'denese', 'denice', 'denise', 'denisha', 'denisse', 'denita', 'denna', 'dennis', 'dennise', 'denny', 'denyse', 'deon', 'deonna', 'desirae', 'desire', 'desiree', 'despina', 'dessie', 'destiny', 'detra', 'devin', 'devon', 'devona', 'devora', 'devorah', 'dia', 'diamond', 'dian', 'diana', 'diane', 'diann', 'dianna', 'dianne', 'diedra', 'diedre', 'dierdre', 'digna', 'dimple', 'dina', 'dinah', 'dinorah', 'dion', 'dione', 'dionna', 'dionne', 'divina', 'dixie', 'dodie', 'dollie', 'dolly', 'dolores', 'doloris', 'domenica', 'dominga', 'dominica', 'dominique', 'dominque', 'domitila', 'domonique', 'dona', 'donald', 'donella', 'donetta', 'donette', 'dong', 'donita', 'donna', 'donnetta', 'donnette', 'donnie', 'donya', 'dora', 'dorathy', 'dorcas', 'doreatha', 'doreen', 'dorene', 'doretha', 'dorethea', 'doretta', 'dori', 'doria', 'dorian', 'dorie', 'dorinda', 'dorine', 'doris', 'dorla', 'dorotha', 'dorothea', 'dorothy', 'dorris', 'dortha', 'dorthea', 'dorthey', 'dorthy', 'dot', 'dottie', 'dotty', 'dovie', 'dreama', 'drema', 'drew', 'drucilla', 'drusilla', 'dulce', 'dulcie', 'dung', 'dusti', 'dusty', 'dwana', 'dyan', 'earlean', 'earleen', 'earlene', 'earlie', 'earline', 'earnestine', 'eartha', 'easter', 'eboni', 'ebonie', 'ebony', 'echo', 'eda', 'edda', 'eddie', 'edelmira', 'eden', 'edie', 'edith', 'edna', 'edra', 'edris', 'edward', 'edwina', 'edyth', 'edythe', 'effie', 'ehtel', 'eileen', 'eilene', 'ela', 'eladia', 'elaina', 'elaine', 'elana', 'elane', 'elanor', 'elayne', 'elba', 'elda', 'eldora', 'eleanor', 'eleanora', 'eleanore', 'elease', 'elena', 'elene', 'eleni', 'elenor', 'elenora', 'elenore', 'eleonor', 'eleonora', 'eleonore', 'elfreda', 'elfrieda', 'elfriede', 'elia', 'eliana', 'elicia', 'elida', 'elidia', 'elin', 'elina', 'elinor', 'elinore', 'elisa', 'elisabeth', 'elise', 'elisha', 'elissa', 'eliz', 'eliza', 'elizabet', 'elizabeth', 'elizbeth', 'elizebeth', 'elke', 'ella', 'ellamae', 'ellan', 'ellen', 'ellena', 'elli', 'ellie', 'ellis', 'elly', 'ellyn', 'elma', 'elmer', 'elmira', 'elna', 'elnora', 'elodia', 'elois', 'eloisa', 'eloise', 'elouise', 'elsa', 'else', 'elsie', 'elsy', 'elva', 'elvera', 'elvia', 'elvie', 'elvina', 'elvira', 'elwanda', 'elyse', 'elza', 'ema', 'emelda', 'emelia', 'emelina', 'emeline', 'emely', 'emerald', 'emerita', 'emiko', 'emilee', 'emilia', 'emilie', 'emily', 'emma', 'emmaline', 'emmie', 'emmy', 'emogene', 'ena', 'enda', 'enedina', 'eneida', 'enid', 'enola', 'enriqueta', 'epifania', 'era', 'eric', 'erica', 'ericka', 'erika', 'erin', 'erinn', 'erlene', 'erlinda', 'erline', 'erma', 'ermelinda', 'erminia', 'erna', 'ernestina', 'ernestine', 'eryn', 'esmeralda', 'esperanza', 'essie', 'esta', 'estefana', 'estela', 'estell', 'estella', 'estelle', 'ester', 'esther', 'estrella', 'etha', 'ethel', 'ethelene', 'ethelyn', 'ethyl', 'etsuko', 'etta', 'ettie', 'eufemia', 'eugena', 'eugene', 'eugenia', 'eugenie', 'eula', 'eulah', 'eulalia', 'eun', 'euna', 'eunice', 'eura', 'eusebia', 'eustolia', 'eva', 'evalyn', 'evan', 'evangelina', 'evangeline', 'eve', 'evelia', 'evelin', 'evelina', 'eveline', 'evelyn', 'evelyne', 'evelynn', 'evette', 'evia', 'evie', 'evita', 'evon', 'evonne', 'ewa', 'exie', 'fabiola', 'fae', 'fairy', 'faith', 'fallon', 'fannie', 'fanny', 'farah', 'farrah', 'fatima', 'fatimah', 'faustina', 'faviola', 'fawn', 'fay', 'faye', 'fe', 'felecia', 'felica', 'felice', 'felicia', 'felicidad', 'felicita', 'felicitas', 'felipa', 'felisa', 'felisha', 'fermina', 'fern', 'fernanda', 'fernande', 'ferne', 'fidela', 'fidelia', 'filomena', 'fiona', 'flavia', 'fleta', 'flo', 'flor', 'flora', 'florance', 'florence', 'florencia', 'florene', 'florentina', 'floretta', 'floria', 'florida', 'florinda', 'florine', 'florrie', 'flossie', 'floy', 'fonda', 'fran', 'france', 'francene', 'frances', 'francesca', 'franchesca', 'francie', 'francina', 'francine', 'francis', 'francisca', 'francisco', 'francoise', 'frank', 'frankie', 'fransisca', 'fred', 'freda', 'fredda', 'freddie', 'frederica', 'fredericka', 'fredia', 'fredricka', 'freeda', 'freida', 'frida', 'frieda', 'fumiko', 'gabriel', 'gabriela', 'gabriele', 'gabriella', 'gabrielle', 'gail', 'gala', 'gale', 'galina', 'garnet', 'garnett', 'gary', 'gay', 'gaye', 'gayla', 'gayle', 'gaylene', 'gaynell', 'gaynelle', 'gearldine', 'gema', 'gemma', 'gena', 'gene', 'genesis', 'geneva', 'genevie', 'genevieve', 'genevive', 'genia', 'genie', 'genna', 'gennie', 'genny', 'genoveva', 'georgann', 'george', 'georgeann', 'georgeanna', 'georgene', 'georgetta', 'georgette', 'georgia', 'georgiana', 'georgiann', 'georgianna', 'georgianne', 'georgie', 'georgina', 'georgine', 'gerald', 'geraldine', 'geralyn', 'gerda', 'geri', 'germaine', 'gerri', 'gerry', 'gertha', 'gertie', 'gertrud', 'gertrude', 'gertrudis', 'gertude', 'ghislaine', 'gia', 'gianna', 'gidget', 'gigi', 'gilberte', 'gilda', 'gillian', 'gilma', 'gina', 'ginette', 'ginger', 'ginny', 'giovanna', 'gisela', 'gisele', 'giselle', 'gita', 'giuseppina', 'gladis', 'glady', 'gladys', 'glayds', 'glenda', 'glendora', 'glenn', 'glenna', 'glennie', 'glennis', 'glinda', 'gloria', 'glory', 'glynda', 'glynis', 'golda', 'golden', 'goldie', 'grace', 'gracia', 'gracie', 'graciela', 'grayce', 'grazyna', 'gregoria', 'gregory', 'greta', 'gretchen', 'gretta', 'gricelda', 'grisel', 'griselda', 'guadalupe', 'gudrun', 'guillermina', 'gussie', 'gwen', 'gwenda', 'gwendolyn', 'gwenn', 'gwyn', 'gwyneth', 'ha', 'hae', 'hailey', 'haley', 'halina', 'halley', 'hallie', 'han', 'hana', 'hang', 'hanh', 'hanna', 'hannah', 'hannelore', 'harmony', 'harold', 'harriet', 'harriett', 'harriette', 'hassie', 'hattie', 'haydee', 'hayley', 'hazel', 'heather', 'hedwig', 'hedy', 'hee', 'heide', 'heidi', 'heidy', 'heike', 'helaine', 'helen', 'helena', 'helene', 'helga', 'hellen', 'henrietta', 'henriette', 'henry', 'herlinda', 'herma', 'hermelinda', 'hermila', 'hermina', 'hermine', 'herminia', 'herta', 'hertha', 'hester', 'hettie', 'hiedi', 'hien', 'hilaria', 'hilary', 'hilda', 'hilde', 'hildegard', 'hildegarde', 'hildred', 'hillary', 'hilma', 'hiroko', 'hisako', 'hoa', 'holley', 'holli', 'hollie', 'hollis', 'holly', 'honey', 'hong', 'hope', 'hortencia', 'hortense', 'hortensia', 'hsiu', 'hue', 'hui', 'hulda', 'huong', 'hwa', 'hyacinth', 'hye', 'hyo', 'hyon', 'hyun', 'ida', 'idalia', 'idell', 'idella', 'iesha', 'ignacia', 'ila', 'ilana', 'ilda', 'ileana', 'ileen', 'ilene', 'iliana', 'illa', 'ilona', 'ilse', 'iluminada', 'ima', 'imelda', 'imogene', 'in', 'ina', 'india', 'indira', 'inell', 'ines', 'inez', 'inga', 'inge', 'ingeborg', 'inger', 'ingrid', 'inocencia', 'iola', 'iona', 'ione', 'ira', 'iraida', 'irena', 'irene', 'irina', 'iris', 'irish', 'irma', 'irmgard', 'isa', 'isabel', 'isabell', 'isabella', 'isabelle', 'isadora', 'isaura', 'isela', 'isidra', 'isis', 'isobel', 'iva', 'ivana', 'ivelisse', 'ivette', 'ivey', 'ivonne', 'ivory', 'ivy', 'izetta', 'izola', 'ja', 'jacalyn', 'jacelyn', 'jacinda', 'jacinta', 'jack', 'jackeline', 'jackelyn', 'jacki', 'jackie', 'jacklyn', 'jackqueline', 'jaclyn', 'jacqualine', 'jacque', 'jacquelin', 'jacqueline', 'jacquelyn', 'jacquelyne', 'jacquelynn', 'jacquetta', 'jacqui', 'jacquie', 'jacquiline', 'jacquline', 'jacqulyn', 'jada', 'jade', 'jadwiga', 'jae', 'jaime', 'jaimee', 'jaimie', 'jaleesa', 'jalisa', 'jama', 'jame', 'jamee', 'james', 'jamey', 'jami', 'jamie', 'jamika', 'jamila', 'jammie', 'jan', 'jana', 'janae', 'janay', 'jane', 'janean', 'janee', 'janeen', 'janel', 'janell', 'janella', 'janelle', 'janene', 'janessa', 'janet', 'janeth', 'janett', 'janetta', 'janette', 'janey', 'jani', 'janice', 'janie', 'janiece', 'janina', 'janine', 'janis', 'janise', 'janita', 'jann', 'janna', 'jannet', 'jannette', 'jannie', 'january', 'janyce', 'jaqueline', 'jaquelyn', 'jasmin', 'jasmine', 'jason', 'jaunita', 'jay', 'jaye', 'jayme', 'jaymie', 'jayna', 'jayne', 'jazmin', 'jazmine', 'jean', 'jeana', 'jeane', 'jeanelle', 'jeanene', 'jeanett', 'jeanetta', 'jeanette', 'jeanice', 'jeanie', 'jeanine', 'jeanmarie', 'jeanna', 'jeanne', 'jeannetta', 'jeannette', 'jeannie', 'jeannine', 'jeffie', 'jeffrey', 'jen', 'jena', 'jenae', 'jene', 'jenee', 'jenell', 'jenelle', 'jenette', 'jeneva', 'jeni', 'jenice', 'jenifer', 'jeniffer', 'jenine', 'jenise', 'jenna', 'jennefer', 'jennell', 'jennette', 'jenni', 'jennie', 'jennifer', 'jenniffer', 'jennine', 'jenny', 'jeraldine', 'jeremy', 'jeri', 'jerica', 'jerilyn', 'jerlene', 'jerri', 'jerrica', 'jerrie', 'jerry', 'jesenia', 'jesica', 'jesse', 'jessenia', 'jessi', 'jessia', 'jessica', 'jessie', 'jessika', 'jestine', 'jesus', 'jesusa', 'jesusita', 'jetta', 'jettie', 'jewel', 'jewell', 'ji', 'jill', 'jillian', 'jimmie', 'jimmy', 'jin', 'jina', 'jinny', 'jo', 'joan', 'joana', 'joane', 'joanie', 'joann', 'joanna', 'joanne', 'joannie', 'joaquina', 'jocelyn', 'jodee', 'jodi', 'jodie', 'jody', 'joe', 'joeann', 'joel', 'joella', 'joelle', 'joellen', 'joetta', 'joette', 'joey', 'johana', 'johanna', 'johanne', 'john', 'johna', 'johnetta', 'johnette', 'johnie', 'johnna', 'johnnie', 'johnny', 'johnsie', 'joi', 'joie', 'jolanda', 'joleen', 'jolene', 'jolie', 'joline', 'jolyn', 'jolynn', 'jon', 'jona', 'jone', 'jonell', 'jonelle', 'jong', 'joni', 'jonie', 'jonna', 'jonnie', 'jordan', 'jose', 'josefa', 'josefina', 'josefine', 'joselyn', 'joseph', 'josephina', 'josephine', 'josette', 'joshua', 'josie', 'joslyn', 'josphine', 'jovan', 'jovita', 'joy', 'joya', 'joyce', 'joycelyn', 'joye', 'juan', 'juana', 'juanita', 'jude', 'judi', 'judie', 'judith', 'judy', 'jule', 'julee', 'julene', 'juli', 'julia', 'julian', 'juliana', 'juliane', 'juliann', 'julianna', 'julianne', 'julie', 'julieann', 'julienne', 'juliet', 'julieta', 'julietta', 'juliette', 'julio', 'julissa', 'june', 'jung', 'junie', 'junita', 'junko', 'justa', 'justin', 'justina', 'justine', 'jutta', 'ka', 'kacey', 'kaci', 'kacie', 'kacy', 'kai', 'kaila', 'kaitlin', 'kaitlyn', 'kala', 'kaleigh', 'kaley', 'kali', 'kallie', 'kalyn', 'kam', 'kamala', 'kami', 'kamilah', 'kandace', 'kandi', 'kandice', 'kandis', 'kandra', 'kandy', 'kanesha', 'kanisha', 'kara', 'karan', 'kareen', 'karen', 'karena', 'karey', 'kari', 'karie', 'karima', 'karin', 'karina', 'karine', 'karisa', 'karissa', 'karl', 'karla', 'karleen', 'karlene', 'karly', 'karlyn', 'karma', 'karmen', 'karol', 'karole', 'karoline', 'karolyn', 'karon', 'karren', 'karri', 'karrie', 'karry', 'kary', 'karyl', 'karyn', 'kasandra', 'kasey', 'kasha', 'kasi', 'kasie', 'kassandra', 'kassie', 'kate', 'katelin', 'katelyn', 'katelynn', 'katerine', 'kathaleen', 'katharina', 'katharine', 'katharyn', 'kathe', 'katheleen', 'katherin', 'katherina', 'katherine', 'kathern', 'katheryn', 'kathey', 'kathi', 'kathie', 'kathleen', 'kathlene', 'kathline', 'kathlyn', 'kathrin', 'kathrine', 'kathryn', 'kathryne', 'kathy', 'kathyrn', 'kati', 'katia', 'katie', 'katina', 'katlyn', 'katrice', 'katrina', 'kattie', 'katy', 'kay', 'kayce', 'kaycee', 'kaye', 'kayla', 'kaylee', 'kayleen', 'kayleigh', 'kaylene', 'kazuko', 'kecia', 'keeley', 'keely', 'keena', 'keesha', 'keiko', 'keila', 'keira', 'keisha', 'keith', 'keitha', 'keli', 'kelle', 'kellee', 'kelley', 'kelli', 'kellie', 'kelly', 'kellye', 'kelsey', 'kelsi', 'kelsie', 'kemberly', 'kena', 'kenda', 'kendal', 'kendall', 'kendra', 'kenia', 'kenisha', 'kenna', 'kenneth', 'kenya', 'kenyatta', 'kenyetta', 'kera', 'keren', 'keri', 'kerri', 'kerrie', 'kerry', 'kerstin', 'kesha', 'keshia', 'keturah', 'keva', 'kevin', 'khadijah', 'khalilah', 'kia', 'kiana', 'kiara', 'kiera', 'kiersten', 'kiesha', 'kiley', 'kim', 'kimber', 'kimberely', 'kimberlee', 'kimberley', 'kimberli', 'kimberlie', 'kimberly', 'kimbery', 'kimbra', 'kimi', 'kimiko', 'kina', 'kindra', 'kira', 'kirby', 'kirsten', 'kirstie', 'kirstin', 'kisha', 'kit', 'kittie', 'kitty', 'kiyoko', 'kizzie', 'kizzy', 'klara', 'kori', 'kortney', 'kourtney', 'kris', 'krishna', 'krissy', 'krista', 'kristal', 'kristan', 'kristeen', 'kristel', 'kristen', 'kristi', 'kristian', 'kristie', 'kristin', 'kristina', 'kristine', 'kristle', 'kristy', 'kristyn', 'krysta', 'krystal', 'krysten', 'krystin', 'krystina', 'krystle', 'krystyna', 'kum', 'kyla', 'kyle', 'kylee', 'kylie', 'kym', 'kymberly', 'kyoko', 'kyong', 'kyra', 'kyung', 'lacey', 'lachelle', 'laci', 'lacie', 'lacresha', 'lacy', 'ladawn', 'ladonna', 'lady', 'lael', 'lahoma', 'lai', 'laila', 'laine', 'lajuana', 'lakeesha', 'lakeisha', 'lakendra', 'lakenya', 'lakesha', 'lakeshia', 'lakia', 'lakiesha', 'lakisha', 'lakita', 'lala', 'lamonica', 'lan', 'lana', 'lane', 'lanell', 'lanelle', 'lanette', 'lang', 'lani', 'lanie', 'lanita', 'lannie', 'lanora', 'laquanda', 'laquita', 'lara', 'larae', 'laraine', 'laree', 'larhonda', 'larisa', 'larissa', 'larita', 'laronda', 'larraine', 'larry', 'larue', 'lasandra', 'lashanda', 'lashandra', 'lashaun', 'lashaunda', 'lashawn', 'lashawna', 'lashawnda', 'lashay', 'lashell', 'lashon', 'lashonda', 'lashunda', 'lasonya', 'latanya', 'latarsha', 'latasha', 'latashia', 'latesha', 'latia', 'laticia', 'latina', 'latisha', 'latonia', 'latonya', 'latoria', 'latosha', 'latoya', 'latoyia', 'latrice', 'latricia', 'latrina', 'latrisha', 'launa', 'laura', 'lauralee', 'lauran', 'laure', 'laureen', 'laurel', 'lauren', 'laurena', 'laurence', 'laurene', 'lauretta', 'laurette', 'lauri', 'laurice', 'laurie', 'laurinda', 'laurine', 'lauryn', 'lavada', 'lavelle', 'lavenia', 'lavera', 'lavern', 'laverna', 'laverne', 'laveta', 'lavette', 'lavina', 'lavinia', 'lavon', 'lavona', 'lavonda', 'lavone', 'lavonia', 'lavonna', 'lavonne', 'lawana', 'lawanda', 'lawanna', 'lawrence', 'layla', 'layne', 'le', 'lea', 'leah', 'lean', 'leana', 'leandra', 'leann', 'leanna', 'leanne', 'leanora', 'leatha', 'leatrice', 'lecia', 'leda', 'lee', 'leeann', 'leeanna', 'leeanne', 'leena', 'leesa', 'leia', 'leida', 'leigh', 'leigha', 'leighann', 'leila', 'leilani', 'leisa', 'leisha', 'lekisha', 'lela', 'lelah', 'lelia', 'lena', 'lenita', 'lenna', 'lennie', 'lenora', 'lenore', 'leo', 'leola', 'leoma', 'leon', 'leona', 'leonarda', 'leone', 'leonia', 'leonida', 'leonie', 'leonila', 'leonor', 'leonora', 'leonore', 'leontine', 'leora', 'leota', 'lera', 'lesa', 'lesha', 'lesia', 'leslee', 'lesley', 'lesli', 'leslie', 'lessie', 'lester', 'leta', 'letha', 'leticia', 'letisha', 'letitia', 'lettie', 'letty', 'lewis', 'lexie', 'lezlie', 'li', 'lia', 'liana', 'liane', 'lianne', 'libbie', 'libby', 'liberty', 'librada', 'lida', 'lidia', 'lien', 'lieselotte', 'ligia', 'lila', 'lili', 'lilia', 'lilian', 'liliana', 'lilla', 'lilli', 'lillia', 'lilliam', 'lillian', 'lilliana', 'lillie', 'lilly', 'lily', 'lin', 'lina', 'linda', 'lindsay', 'lindsey', 'lindsy', 'lindy', 'linette', 'ling', 'linh', 'linn', 'linnea', 'linnie', 'linsey', 'lisa', 'lisabeth', 'lisandra', 'lisbeth', 'lise', 'lisette', 'lisha', 'lissa', 'lissette', 'lita', 'livia', 'liz', 'liza', 'lizabeth', 'lizbeth', 'lizeth', 'lizette', 'lizzette', 'lizzie', 'loan', 'logan', 'loida', 'lois', 'loise', 'lola', 'lolita', 'loma', 'lona', 'londa', 'loni', 'lonna', 'lonnie', 'lora', 'loraine', 'loralee', 'lore', 'lorean', 'loree', 'loreen', 'lorelei', 'loren', 'lorena', 'lorene', 'lorenza', 'loreta', 'loretta', 'lorette', 'lori', 'loria', 'loriann', 'lorie', 'lorilee', 'lorina', 'lorinda', 'lorine', 'loris', 'lorita', 'lorna', 'lorraine', 'lorretta', 'lorri', 'lorriane', 'lorrie', 'lorrine', 'lory', 'lottie', 'lou', 'louann', 'louanne', 'louella', 'louetta', 'louie', 'louis', 'louisa', 'louise', 'loura', 'lourdes', 'lourie', 'louvenia', 'love', 'lovella', 'lovetta', 'lovie', 'loyce', 'lu', 'luana', 'luann', 'luanna', 'luanne', 'luba', 'luci', 'lucia', 'luciana', 'lucie', 'lucienne', 'lucila', 'lucile', 'lucilla', 'lucille', 'lucina', 'lucinda', 'lucrecia', 'lucretia', 'lucy', 'ludie', 'ludivina', 'lue', 'luella', 'luetta', 'luis', 'luisa', 'luise', 'lula', 'lulu', 'luna', 'lupe', 'lupita', 'lura', 'lurlene', 'lurline', 'luvenia', 'luz', 'lyda', 'lydia', 'lyla', 'lyn', 'lynda', 'lyndia', 'lyndsay', 'lyndsey', 'lynell', 'lynelle', 'lynetta', 'lynette', 'lynn', 'lynna', 'lynne', 'lynnette', 'lynsey', 'ma', 'mabel', 'mabelle', 'mable', 'machelle', 'macie', 'mackenzie', 'macy', 'madalene', 'madaline', 'madalyn', 'maddie', 'madelaine', 'madeleine', 'madelene', 'madeline', 'madelyn', 'madge', 'madie', 'madison', 'madlyn', 'madonna', 'mae', 'maegan', 'mafalda', 'magali', 'magaly', 'magan', 'magaret', 'magda', 'magdalen', 'magdalena', 'magdalene', 'magen', 'maggie', 'magnolia', 'mahalia', 'mai', 'maia', 'maida', 'maile', 'maira', 'maire', 'maisha', 'maisie', 'majorie', 'makeda', 'malena', 'malia', 'malika', 'malinda', 'malisa', 'malissa', 'malka', 'mallie', 'mallory', 'malorie', 'malvina', 'mamie', 'mammie', 'man', 'mana', 'manda', 'mandi', 'mandie', 'mandy', 'manie', 'manuela', 'many', 'mao', 'maple', 'mara', 'maragaret', 'maragret', 'maranda', 'marcela', 'marcelene', 'marcelina', 'marceline', 'marcell', 'marcella', 'marcelle', 'marcene', 'marchelle', 'marci', 'marcia', 'marcie', 'marcy', 'mardell', 'maren', 'marg', 'margaret', 'margareta', 'margarete', 'margarett', 'margaretta', 'margarette', 'margarita', 'margarite', 'margart', 'marge', 'margene', 'margeret', 'margert', 'margery', 'marget', 'margherita', 'margie', 'margit', 'margo', 'margorie', 'margot', 'margret', 'margrett', 'marguerita', 'marguerite', 'margurite', 'margy', 'marhta', 'mari', 'maria', 'mariah', 'mariam', 'marian', 'mariana', 'marianela', 'mariann', 'marianna', 'marianne', 'maribel', 'maribeth', 'marica', 'maricela', 'maricruz', 'marie', 'mariel', 'mariela', 'mariella', 'marielle', 'marietta', 'mariette', 'mariko', 'marilee', 'marilou', 'marilu', 'marilyn', 'marilynn', 'marin', 'marina', 'marinda', 'marine', 'mario', 'marion', 'maris', 'marisa', 'marisela', 'marisha', 'marisol', 'marissa', 'marita', 'maritza', 'marivel', 'marjorie', 'marjory', 'mark', 'marketta', 'markita', 'marla', 'marlana', 'marleen', 'marlen', 'marlena', 'marlene', 'marlin', 'marline', 'marlo', 'marlyn', 'marlys', 'marna', 'marni', 'marnie', 'marquerite', 'marquetta', 'marquita', 'marquitta', 'marry', 'marsha', 'marshall', 'marta', 'marth', 'martha', 'marti', 'martin', 'martina', 'martine', 'marty', 'marva', 'marvel', 'marvella', 'marvis', 'marx', 'mary', 'marya', 'maryalice', 'maryam', 'maryann', 'maryanna', 'maryanne', 'marybelle', 'marybeth', 'maryellen', 'maryetta', 'maryjane', 'maryjo', 'maryland', 'marylee', 'marylin', 'maryln', 'marylou', 'marylouise', 'marylyn', 'marylynn', 'maryrose', 'masako', 'matha', 'mathilda', 'mathilde', 'matilda', 'matilde', 'matthew', 'mattie', 'maud', 'maude', 'maudie', 'maura', 'maureen', 'maurice', 'maurine', 'maurita', 'mavis', 'maxie', 'maxima', 'maximina', 'maxine', 'may', 'maya', 'maybell', 'maybelle', 'maye', 'mayme', 'mayola', 'mayra', 'mazie', 'mckenzie', 'meagan', 'meaghan', 'mechelle', 'meda', 'mee', 'meg', 'megan', 'meggan', 'meghan', 'meghann', 'mei', 'melaine', 'melani', 'melania', 'melanie', 'melany', 'melba', 'melda', 'melia', 'melida', 'melina', 'melinda', 'melisa', 'melissa', 'melissia', 'melita', 'mellie', 'mellisa', 'mellissa', 'melodee', 'melodi', 'melodie', 'melody', 'melonie', 'melony', 'melva', 'melvin', 'melvina', 'melynda', 'mendy', 'mercedes', 'mercedez', 'mercy', 'meredith', 'meri', 'merideth', 'meridith', 'merilyn', 'merissa', 'merle', 'merlene', 'merlyn', 'merna', 'merri', 'merrie', 'merrilee', 'merrill', 'merry', 'mertie', 'meryl', 'meta', 'mi', 'mia', 'mica', 'micaela', 'micah', 'micha', 'michael', 'michaela', 'michaele', 'michal', 'micheal', 'michel', 'michele', 'michelina', 'micheline', 'michell', 'michelle', 'michiko', 'mickey', 'micki', 'mickie', 'miesha', 'migdalia', 'mignon', 'miguelina', 'mika', 'mikaela', 'mike', 'miki', 'mikki', 'mila', 'milagro', 'milagros', 'milda', 'mildred', 'milissa', 'millicent', 'millie', 'milly', 'mimi', 'min', 'mina', 'minda', 'mindi', 'mindy', 'minerva', 'ming', 'minh', 'minna', 'minnie', 'minta', 'mira', 'miranda', 'mireille', 'mirella', 'mireya', 'miriam', 'mirian', 'mirna', 'mirta', 'mirtha', 'misha', 'miss', 'missy', 'misti', 'mistie', 'misty', 'mitchell', 'mitsue', 'mitsuko', 'mittie', 'mitzi', 'mitzie', 'miyoko', 'modesta', 'moira', 'mollie', 'molly', 'mona', 'monet', 'monica', 'monika', 'monique', 'monnie', 'monserrate', 'moon', 'mora', 'morgan', 'moriah', 'mozell', 'mozella', 'mozelle', 'mui', 'muoi', 'muriel', 'my', 'myesha', 'myong', 'myra', 'myriam', 'myrl', 'myrle', 'myrna', 'myrta', 'myrtice', 'myrtie', 'myrtis', 'myrtle', 'myung', 'na', 'nada', 'nadene', 'nadia', 'nadine', 'naida', 'nakesha', 'nakia', 'nakisha', 'nakita', 'nam', 'nan', 'nana', 'nancee', 'nancey', 'nanci', 'nancie', 'nancy', 'nanette', 'nannette', 'nannie', 'naoma', 'naomi', 'narcisa', 'natacha', 'natalia', 'natalie', 'natalya', 'natasha', 'natashia', 'nathalie', 'natisha', 'natividad', 'natosha', 'necole', 'neda', 'nedra', 'neely', 'neida', 'nelda', 'nelia', 'nelida', 'nell', 'nella', 'nelle', 'nellie', 'nelly', 'nena', 'nenita', 'neoma', 'neomi', 'nereida', 'nerissa', 'nery', 'neta', 'nettie', 'neva', 'nevada', 'nga', 'ngan', 'ngoc', 'nguyet', 'nia', 'nichelle', 'nichol', 'nichole', 'nicholle', 'nicki', 'nickie', 'nickole', 'nicky', 'nicol', 'nicola', 'nicolasa', 'nicole', 'nicolette', 'nicolle', 'nida', 'nidia', 'niesha', 'nieves', 'niki', 'nikia', 'nikita', 'nikki', 'nikole', 'nila', 'nilda', 'nilsa', 'nina', 'ninfa', 'nisha', 'nita', 'nobuko', 'noel', 'noelia', 'noella', 'noelle', 'noemi', 'nohemi', 'nola', 'noma', 'nona', 'nora', 'norah', 'noreen', 'norene', 'noriko', 'norine', 'norma', 'norman', 'nova', 'novella', 'nu', 'nubia', 'numbers', 'nydia', 'nyla', 'obdulia', 'ocie', 'octavia', 'oda', 'odelia', 'odell', 'odessa', 'odette', 'odilia', 'ofelia', 'ok', 'ola', 'olene', 'oleta', 'olevia', 'olga', 'olimpia', 'olinda', 'oliva', 'olive', 'olivia', 'ollie', 'olympia', 'oma', 'omega', 'ona', 'oneida', 'onie', 'onita', 'opal', 'ophelia', 'ora', 'oralee', 'oralia', 'oretha', 'orpha', 'oscar', 'ossie', 'otelia', 'otha', 'otilia', 'ouida', 'ozell', 'ozella', 'ozie', 'pa', 'page', 'paige', 'palma', 'palmira', 'pam', 'pamala', 'pamela', 'pamelia', 'pamella', 'pamila', 'pamula', 'pandora', 'pansy', 'paola', 'paris', 'parthenia', 'particia', 'pasty', 'pat', 'patience', 'patria', 'patrica', 'patrice', 'patricia', 'patrick', 'patrina', 'patsy', 'patti', 'pattie', 'patty', 'paul', 'paula', 'paulene', 'pauletta', 'paulette', 'paulina', 'pauline', 'paulita', 'paz', 'pearl', 'pearle', 'pearlene', 'pearlie', 'pearline', 'pearly', 'peg', 'peggie', 'peggy', 'pei', 'penelope', 'penney', 'penni', 'pennie', 'penny', 'perla', 'perry', 'peter', 'petra', 'petrina', 'petronila', 'phebe', 'phillis', 'philomena', 'phoebe', 'phung', 'phuong', 'phylicia', 'phylis', 'phyliss', 'phyllis', 'pia', 'piedad', 'pilar', 'ping', 'pinkie', 'piper', 'pok', 'polly', 'porsche', 'porsha', 'portia', 'precious', 'pricilla', 'princess', 'priscila', 'priscilla', 'providencia', 'prudence', 'pura', 'qiana', 'queen', 'queenie', 'quiana', 'quinn', 'quyen', 'rachael', 'rachal', 'racheal', 'rachel', 'rachele', 'rachell', 'rachelle', 'racquel', 'rae', 'raeann', 'raelene', 'rafaela', 'raguel', 'raina', 'raisa', 'ramona', 'ramonita', 'rana', 'ranae', 'randa', 'randee', 'randi', 'randy', 'ranee', 'raquel', 'rasheeda', 'rashida', 'raven', 'ray', 'raye', 'raylene', 'raymond', 'raymonde', 'rayna', 'rea', 'reagan', 'reanna', 'reatha', 'reba', 'rebbeca', 'rebbecca', 'rebeca', 'rebecca', 'rebecka', 'rebekah', 'reda', 'reena', 'refugia', 'refugio', 'regan', 'regena', 'regenia', 'regina', 'regine', 'reginia', 'reiko', 'reina', 'reita', 'rema', 'remedios', 'remona', 'rena', 'renae', 'renata', 'renate', 'renay', 'renda', 'rene', 'renea', 'renee', 'renetta', 'renita', 'renna', 'ressie', 'reta', 'retha', 'retta', 'reva', 'reyna', 'reynalda', 'rhea', 'rheba', 'rhiannon', 'rhoda', 'rhona', 'rhonda', 'ria', 'ricarda', 'richard', 'richelle', 'ricki', 'rickie', 'rikki', 'rima', 'rina', 'risa', 'rita', 'riva', 'rivka', 'robbi', 'robbie', 'robbin', 'robbyn', 'robena', 'robert', 'roberta', 'roberto', 'robin', 'robyn', 'rochel', 'rochell', 'rochelle', 'rocio', 'rolanda', 'rolande', 'roma', 'romaine', 'romana', 'romelia', 'romona', 'rona', 'ronald', 'ronda', 'roni', 'ronna', 'ronni', 'ronnie', 'rory', 'rosa', 'rosalba', 'rosalee', 'rosalia', 'rosalie', 'rosalina', 'rosalind', 'rosalinda', 'rosaline', 'rosalva', 'rosalyn', 'rosamaria', 'rosamond', 'rosana', 'rosann', 'rosanna', 'rosanne', 'rosaria', 'rosario', 'rosaura', 'rose', 'roseann', 'roseanna', 'roseanne', 'roselee', 'roselia', 'roseline', 'rosella', 'roselle', 'roselyn', 'rosemarie', 'rosemary', 'rosena', 'rosenda', 'rosetta', 'rosette', 'rosia', 'rosie', 'rosina', 'rosio', 'rosita', 'roslyn', 'rossana', 'rossie', 'rosy', 'rowena', 'roxana', 'roxane', 'roxann', 'roxanna', 'roxanne', 'roxie', 'roxy', 'roy', 'royce', 'rozanne', 'rozella', 'rubi', 'rubie', 'ruby', 'rubye', 'rudy', 'rufina', 'russell', 'ruth', 'rutha', 'ruthann', 'ruthanne', 'ruthe', 'ruthie', 'ryan', 'ryann', 'sabina', 'sabine', 'sabra', 'sabrina', 'sacha', 'sachiko', 'sade', 'sadie', 'sadye', 'sage', 'salena', 'salina', 'salley', 'sallie', 'sally', 'salome', 'sam', 'samantha', 'samara', 'samatha', 'samella', 'samira', 'sammie', 'sammy', 'samuel', 'sana', 'sanda', 'sandee', 'sandi', 'sandie', 'sandra', 'sandy', 'sang', 'sanjuana', 'sanjuanita', 'sanora', 'santa', 'santana', 'santina', 'santos', 'sara', 'sarah', 'sarai', 'saran', 'sari', 'sarina', 'sarita', 'sasha', 'saturnina', 'sau', 'saundra', 'savanna', 'savannah', 'scarlet', 'scarlett', 'scott', 'scottie', 'sean', 'season', 'sebrina', 'see', 'seema', 'selena', 'selene', 'selina', 'selma', 'sena', 'senaida', 'september', 'serafina', 'serena', 'serina', 'serita', 'setsuko', 'sha', 'shae', 'shaina', 'shakia', 'shakira', 'shakita', 'shala', 'shalanda', 'shalon', 'shalonda', 'shameka', 'shamika', 'shan', 'shana', 'shanae', 'shanda', 'shandi', 'shandra', 'shane', 'shaneka', 'shanel', 'shanell', 'shanelle', 'shani', 'shanice', 'shanika', 'shaniqua', 'shanita', 'shanna', 'shannan', 'shannon', 'shanon', 'shanta', 'shantae', 'shantay', 'shante', 'shantel', 'shantell', 'shantelle', 'shanti', 'shaquana', 'shaquita', 'shara', 'sharan', 'sharda', 'sharee', 'sharell', 'sharen', 'shari', 'sharice', 'sharie', 'sharika', 'sharilyn', 'sharita', 'sharla', 'sharleen', 'sharlene', 'sharmaine', 'sharolyn', 'sharon', 'sharonda', 'sharri', 'sharron', 'sharyl', 'sharyn', 'shasta', 'shaun', 'shauna', 'shaunda', 'shaunna', 'shaunta', 'shaunte', 'shavon', 'shavonda', 'shavonne', 'shawana', 'shawanda', 'shawanna', 'shawn', 'shawna', 'shawnda', 'shawnee', 'shawnna', 'shawnta', 'shay', 'shayla', 'shayna', 'shayne', 'shea', 'sheba', 'sheena', 'sheila', 'sheilah', 'shela', 'shelba', 'shelby', 'shelia', 'shella', 'shelley', 'shelli', 'shellie', 'shelly', 'shemeka', 'shemika', 'shena', 'shenika', 'shenita', 'shenna', 'shera', 'sheree', 'sherell', 'sheri', 'sherice', 'sheridan', 'sherie', 'sherika', 'sherill', 'sherilyn', 'sherise', 'sherita', 'sherlene', 'sherley', 'sherly', 'sherlyn', 'sheron', 'sherrell', 'sherri', 'sherrie', 'sherril', 'sherrill', 'sherron', 'sherry', 'sherryl', 'shery', 'sheryl', 'sheryll', 'shiela', 'shila', 'shiloh', 'shin', 'shira', 'shirely', 'shirl', 'shirlee', 'shirleen', 'shirlene', 'shirley', 'shirly', 'shizue', 'shizuko', 'shona', 'shonda', 'shondra', 'shonna', 'shonta', 'shoshana', 'shu', 'shyla', 'sibyl', 'sidney', 'sierra', 'signe', 'sigrid', 'silva', 'silvana', 'silvia', 'sima', 'simona', 'simone', 'simonne', 'sina', 'sindy', 'siobhan', 'sirena', 'siu', 'sixta', 'skye', 'slyvia', 'so', 'socorro', 'sofia', 'soila', 'sol', 'solange', 'soledad', 'somer', 'sommer', 'son', 'sona', 'sondra', 'song', 'sonia', 'sonja', 'sonya', 'soo', 'sook', 'soon', 'sophia', 'sophie', 'soraya', 'sparkle', 'spring', 'stacee', 'stacey', 'staci', 'stacia', 'stacie', 'stacy', 'star', 'starla', 'starr', 'stasia', 'stefani', 'stefania', 'stefanie', 'stefany', 'steffanie', 'stella', 'stepanie', 'stephaine', 'stephane', 'stephani', 'stephania', 'stephanie', 'stephany', 'stephen', 'stephenie', 'stephine', 'stephnie', 'steven', 'stevie', 'stormy', 'su', 'suanne', 'sudie', 'sue', 'sueann', 'suellen', 'suk', 'sulema', 'sumiko', 'summer', 'sun', 'sunday', 'sung', 'sunni', 'sunny', 'sunshine', 'susan', 'susana', 'susann', 'susanna', 'susannah', 'susanne', 'susie', 'susy', 'suzan', 'suzann', 'suzanna', 'suzanne', 'suzette', 'suzi', 'suzie', 'suzy', 'svetlana', 'sybil', 'syble', 'sydney', 'sylvia', 'sylvie', 'synthia', 'syreeta', 'ta', 'tabatha', 'tabetha', 'tabitha', 'tai', 'taina', 'taisha', 'tajuana', 'takako', 'takisha', 'talia', 'talisha', 'talitha', 'tam', 'tama', 'tamala', 'tamar', 'tamara', 'tamatha', 'tambra', 'tameika', 'tameka', 'tamekia', 'tamela', 'tamera', 'tamesha', 'tami', 'tamica', 'tamie', 'tamika', 'tamiko', 'tamisha', 'tammara', 'tammera', 'tammi', 'tammie', 'tammy', 'tamra', 'tana', 'tandra', 'tandy', 'taneka', 'tanesha', 'tangela', 'tania', 'tanika', 'tanisha', 'tanja', 'tanna', 'tanya', 'tara', 'tarah', 'taren', 'tari', 'tarra', 'tarsha', 'taryn', 'tasha', 'tashia', 'tashina', 'tasia', 'tatiana', 'tatum', 'tatyana', 'taunya', 'tawana', 'tawanda', 'tawanna', 'tawna', 'tawny', 'tawnya', 'taylor', 'tayna', 'teena', 'tegan', 'teisha', 'telma', 'temeka', 'temika', 'tempie', 'temple', 'tena', 'tenesha', 'tenisha', 'tennie', 'tennille', 'teodora', 'teofila', 'tequila', 'tera', 'tereasa', 'teresa', 'terese', 'teresia', 'teresita', 'teressa', 'teri', 'terica', 'terina', 'terisa', 'terra', 'terrell', 'terresa', 'terri', 'terrie', 'terrilyn', 'terry', 'tesha', 'tess', 'tessa', 'tessie', 'thalia', 'thanh', 'thao', 'thea', 'theda', 'thelma', 'theo', 'theodora', 'theola', 'theresa', 'therese', 'theresia', 'theressa', 'thersa', 'thi', 'thomas', 'thomasena', 'thomasina', 'thomasine', 'thora', 'thresa', 'thu', 'thuy', 'tia', 'tiana', 'tianna', 'tiara', 'tien', 'tiera', 'tierra', 'tiesha', 'tifany', 'tiffaney', 'tiffani', 'tiffanie', 'tiffany', 'tiffiny', 'tijuana', 'tilda', 'tillie', 'timika', 'timothy', 'tina', 'tinisha', 'tiny', 'tisa', 'tish', 'tisha', 'tobi', 'tobie', 'toby', 'toccara', 'toi', 'tomasa', 'tomeka', 'tomi', 'tomika', 'tomiko', 'tommie', 'tommy', 'tommye', 'tomoko', 'tona', 'tonda', 'tonette', 'toni', 'tonia', 'tonie', 'tonisha', 'tonita', 'tonja', 'tony', 'tonya', 'tora', 'tori', 'torie', 'torri', 'torrie', 'tory', 'tosha', 'toshia', 'toshiko', 'tova', 'towanda', 'toya', 'tracee', 'tracey', 'traci', 'tracie', 'tracy', 'tran', 'trang', 'travis', 'treasa', 'treena', 'trena', 'tresa', 'tressa', 'tressie', 'treva', 'tricia', 'trina', 'trinh', 'trinidad', 'trinity', 'trish', 'trisha', 'trista', 'tristan', 'troy', 'trudi', 'trudie', 'trudy', 'trula', 'tu', 'tula', 'tuyet', 'twana', 'twanda', 'twanna', 'twila', 'twyla', 'tyesha', 'tyisha', 'tyler', 'tynisha', 'tyra', 'ula', 'ulrike', 'un', 'una', 'ursula', 'usha', 'ute', 'vada', 'val', 'valarie', 'valda', 'valencia', 'valene', 'valentina', 'valentine', 'valeri', 'valeria', 'valerie', 'valery', 'vallie', 'valorie', 'valrie', 'van', 'vanda', 'vanesa', 'vanessa', 'vanetta', 'vania', 'vanita', 'vanna', 'vannesa', 'vannessa', 'vashti', 'vasiliki', 'veda', 'velda', 'velia', 'vella', 'velma', 'velva', 'velvet', 'vena', 'venessa', 'venetta', 'venice', 'venita', 'vennie', 'venus', 'veola', 'vera', 'verda', 'verdell', 'verdie', 'verena', 'vergie', 'verla', 'verlene', 'verlie', 'verline', 'verna', 'vernell', 'vernetta', 'vernia', 'vernice', 'vernie', 'vernita', 'vernon', 'verona', 'veronica', 'veronika', 'veronique', 'versie', 'vertie', 'vesta', 'veta', 'vi', 'vicenta', 'vickey', 'vicki', 'vickie', 'vicky', 'victor', 'victoria', 'victorina', 'vida', 'viki', 'vikki', 'vilma', 'vina', 'vincenza', 'vinita', 'vinnie', 'viola', 'violet', 'violeta', 'violette', 'virgen', 'virgie', 'virgil', 'virgina', 'virginia', 'vita', 'viva', 'vivan', 'vivian', 'viviana', 'vivien', 'vivienne', 'voncile', 'vonda', 'vonnie', 'wai', 'walter', 'waltraud', 'wan', 'wanda', 'waneta', 'wanetta', 'wanita', 'wava', 'wei', 'wen', 'wendi', 'wendie', 'wendolyn', 'wendy', 'wenona', 'wesley', 'whitley', 'whitney', 'wilda', 'wilhelmina', 'wilhemina', 'willa', 'willena', 'willene', 'willetta', 'willette', 'willia', 'william', 'willie', 'williemae', 'willodean', 'willow', 'wilma', 'windy', 'winifred', 'winnie', 'winnifred', 'winona', 'winter', 'wonda', 'wynell', 'wynona', 'xenia', 'xiao', 'xiomara', 'xochitl', 'xuan', 'yadira', 'yaeko', 'yael', 'yahaira', 'yajaira', 'yan', 'yang', 'yanira', 'yasmin', 'yasmine', 'yasuko', 'yee', 'yelena', 'yen', 'yer', 'yesenia', 'yessenia', 'yetta', 'yevette', 'yi', 'ying', 'yoko', 'yolanda', 'yolande', 'yolando', 'yolonda', 'yon', 'yong', 'yoshie', 'yoshiko', 'youlanda', 'young', 'yu', 'yuette', 'yuk', 'yuki', 'yukiko', 'yuko', 'yulanda', 'yun', 'yung', 'yuonne', 'yuri', 'yuriko', 'yvette', 'yvone', 'yvonne', 'zada', 'zaida', 'zana', 'zandra', 'zelda', 'zella', 'zelma', 'zena', 'zenaida', 'zenia', 'zenobia', 'zetta', 'zina', 'zita', 'zoe', 'zofia', 'zoila', 'zola', 'zona', 'zonia', 'zora', 'zoraida', 'zula', 'zulema', 'zulma', '']\n"
          ]
        }
      ]
    },
    {
      "cell_type": "code",
      "source": [
        "from google.colab import drive\n",
        "drive.mount('/content/drive')"
      ],
      "metadata": {
        "colab": {
          "base_uri": "https://localhost:8080/"
        },
        "id": "ifg6HjVugdfN",
        "outputId": "1c18ce82-4e28-45da-b3cc-d6ce86023293"
      },
      "execution_count": 109,
      "outputs": [
        {
          "output_type": "stream",
          "name": "stdout",
          "text": [
            "Mounted at /content/drive\n"
          ]
        }
      ]
    },
    {
      "cell_type": "markdown",
      "source": [
        "### Question 4 - Function renamer\n",
        "\n",
        "\n",
        "You are working on a large-scale software project involving thousands of different Python files. The files have been written by different programmers and the naming of functions is somewhat inconsistent. You receive a new directive stating that the function names all have to be in camel case. In camel case, function names consisting of multiple words have a capital letter in each word and most underscores are removed. For instance, `def MyArithmeticCalculator()` is in camel case but `def my_arithmetic_calculator()` is not in camel case.\n",
        "\n",
        "You want to write a Python program that automatically processes Python code and renames the function names instead of doing it by hand. The instruction states that:\n",
        "\n",
        "  1.) All functions names need to be changed to camel case. E.g. a function\n",
        "  `calculate_speed_of_vehicle()` needs to be renamed to `CalculateSpeedOfVehicle()`.\n",
        "\n",
        "  2.) If the function has one or more leading ’_’ (underscores) they need to be preserved.\n",
        "\n",
        "  All other underscores need to be removed. E.g. a function `__calc_size()` is renamed to `__CalcSize()`.\n",
        "\n",
        "  3.) If the function is already in camel case, you do not need to change it but it still needs to appear in the dictionary d specified below.\n",
        "\n",
        "  4.) You can assume that there will be no name clashes. That is, a given function name which is not in camel case will not already appear in camel case elsewhere. E.g.if there is a function `print_all_strings()` then there is no function `PrintAllStrings()` elsewhere in the code.\n",
        "\n",
        "5.) Tip: You can use regular expressions to find the function names.\n",
        "\n",
        "\n",
        "To implement this, write a function `function_renamer(code)` that takes as input a string code that represents the Python code. It is typically a multi-line Python string. Your function needs to return the tuple `(d, newcode)`:\n",
        "\n",
        "  • `d` is a nested dictionary where each key corresponds to the original function name. The value is a nested dictionary that has the following items:\n",
        "\n",
        "    – hash: hash code of the original function name (tip: use Python’s hash function)\n",
        "\n",
        "    – camelcase: camel case version of original function name\n",
        "\n",
        "    – allcaps: all caps version of original function name\n",
        "\n",
        "  • newcode is a string containing the code wherein all function names have been renamed by their camel case versions. Note that you need to change the function name and also all other locations where the function name is used (e.g. function calls). You should not change anything else in the code (e.g. the contents of any strings). To clarify this, a few examples are given below:\n",
        "    - Example 1: Assume your input code is the multi-line string\n",
        "    \n",
        "        def add_two_numbers(a, b):\n",
        "          return a + b\n",
        "          print(add_two_numbers(10, 20))\n",
        "\n",
        "    \n",
        "    \n",
        "      After processing it with your function, the code should be changed to\n",
        "\n",
        "        def AddTwoNumbers(a, b):\n",
        "          return a + b\n",
        "        print(AddTwoNumbers(10, 20))\n",
        "\n",
        "        The nested dictionary is given by\n",
        "        d = {’add_two_numbers’:\n",
        "        {’hash’:-9214996652071026704,\n",
        "        ’camelcase’:’AddTwoNumbers’,\n",
        "        ’allcaps’:’ADD_TWO_NUMBERS’} }\n",
        "\n",
        "\n",
        "    - Example 2: Assume your input code is the multi-line string\n",
        "          def _major_split(*args):\n",
        "            return (args[:2], args[2:])\n",
        "          \n",
        "          \n",
        "          def CheckTruth(t = True):\n",
        "            print(’t is’, t)\n",
        "            return _major_split([t]*10)\n",
        "          \n",
        "          x, y = _major_split((10, 20, 30, 40, 50))\n",
        "\n",
        "\n",
        "\n",
        "      CheckTruth(len(x) == 10)\n",
        "\n",
        "      After processing it with your function, the code should be changed to\n",
        "          def _MajorSplit(*args):\n",
        "            return (args[:2], args[2:])\n",
        "          \n",
        "          def CheckTruth(t = True):\n",
        "            print(’t is’, t)\n",
        "            return _MajorSplit([t]*10)\n",
        "          x, y = _MajorSplit((10, 20, 30, 40, 50))\n",
        "          \n",
        "          CheckTruth(len(x) == 10)\n",
        "          \n",
        "          The nested dictionary is given by\n",
        "          \n",
        "          d = {’CheckTruth’:\n",
        "          {’hash’:-6410081306665365595,\n",
        "          ’camelcase’:’CheckTruth’,\n",
        "          ’allcaps’:’CHECKTRUTH’,\n",
        "          ’_major_split’:\n",
        "          {’hash’:484498917506710667,\n",
        "          ’camelcase’:’_MajorSplit’,\n",
        "          ’allcaps’:’_MAJOR_SPLIT’}}\n",
        "\n",
        "\n",
        "\n",
        "Test code: The examples given above are the only test cases to be handled for this question."
      ],
      "metadata": {
        "id": "-XQCi9ydHG9t"
      }
    },
    {
      "cell_type": "code",
      "source": [
        "import re"
      ],
      "metadata": {
        "id": "fvgvGqRAIIpA"
      },
      "execution_count": 346,
      "outputs": []
    },
    {
      "cell_type": "code",
      "source": [
        "t = ''' def add_two_numbers(a, b):\n",
        "        return a + b\n",
        "        print(add_two_numbers(10, 20))'''"
      ],
      "metadata": {
        "id": "CYhDaO7FwZe9"
      },
      "execution_count": 272,
      "outputs": []
    },
    {
      "cell_type": "code",
      "source": [
        "# camelcase = ''.join(map(lambda x: x.title(),re.findall(r'(?<=def\\s)[a-zA-z\\_]+',t)[0].split('_')))\n",
        "# pat = t.replace(re.findall(r'(?<=def\\s)[a-zA-z\\_]+',t)[0],camelcase)\n",
        "# print(pat)"
      ],
      "metadata": {
        "colab": {
          "base_uri": "https://localhost:8080/"
        },
        "id": "NiA_9fqhwZPD",
        "outputId": "67210e0e-634e-4398-801f-194f544d2d25"
      },
      "execution_count": 273,
      "outputs": [
        {
          "output_type": "stream",
          "name": "stdout",
          "text": [
            " def AddTwoNumbers(a, b):\n",
            "        return a + b\n",
            "        print(AddTwoNumbers(10, 20))\n"
          ]
        }
      ]
    },
    {
      "cell_type": "code",
      "source": [
        "# dict1 = dict({(re.findall(r'(?<=def\\s)[a-zA-z\\_]+',t)[0]):\n",
        "#             {'hash':hash(re.findall(r'(?<=def\\s)[a-zA-z\\_]+',t)[0]),\n",
        "#              'camelcase': camelcase ,\n",
        "#              'allcaps':(re.findall(r'(?<=def\\s)[a-zA-z\\_]+',t)[0]).upper()}})\n",
        "# dict1"
      ],
      "metadata": {
        "colab": {
          "base_uri": "https://localhost:8080/"
        },
        "id": "_1feHClQwZLq",
        "outputId": "2b95f02f-80de-474c-80f3-a2cb6a4c4237"
      },
      "execution_count": 274,
      "outputs": [
        {
          "output_type": "execute_result",
          "data": {
            "text/plain": [
              "{'add_two_numbers': {'hash': 5669202761429550580,\n",
              "  'camelcase': 'AddTwoNumbers',\n",
              "  'allcaps': 'ADD_TWO_NUMBERS'}}"
            ]
          },
          "metadata": {},
          "execution_count": 274
        }
      ]
    },
    {
      "cell_type": "code",
      "source": [
        "T = '''def _major_split(*args):\n",
        "        return (args[:2], args[2:])\n",
        "\n",
        "\n",
        "      def CheckTruth(t = True):\n",
        "        print(’t is’, t)\n",
        "        return _major_split([t]*10)\n",
        "\n",
        "      x, y = _major_split((10, 20, 30, 40, 50))\n",
        "      CheckTruth(len(x) == 10)'''"
      ],
      "metadata": {
        "id": "JlELZKUiBe4o"
      },
      "execution_count": 370,
      "outputs": []
    },
    {
      "cell_type": "code",
      "source": [
        "re.findall(r'(?<=def\\s)[a-zA-Z\\_]+',T)"
      ],
      "metadata": {
        "colab": {
          "base_uri": "https://localhost:8080/"
        },
        "id": "7xAS0A_QIrA3",
        "outputId": "f5eefd9a-315c-4532-ab72-8a6e628aa19f"
      },
      "execution_count": 379,
      "outputs": [
        {
          "output_type": "execute_result",
          "data": {
            "text/plain": [
              "['_major_split', 'CheckTruth']"
            ]
          },
          "metadata": {},
          "execution_count": 379
        }
      ]
    },
    {
      "cell_type": "code",
      "source": [
        "camelcase1 = ''.join(map(lambda x: x.title(),re.findall(r'(?<=def\\s\\_)[a-zA-z\\_]+',T)[0].split('_')))\n",
        "pat1 = T.replace(re.findall(r'(?<=def\\s\\_)[a-zA-z\\_]+',T)[0],camelcase1)\n",
        "print(pat1)"
      ],
      "metadata": {
        "colab": {
          "base_uri": "https://localhost:8080/"
        },
        "id": "qm5Doh3fI_7w",
        "outputId": "c15fe49f-3e92-4fe0-a501-d5bbe34a3116"
      },
      "execution_count": 380,
      "outputs": [
        {
          "output_type": "stream",
          "name": "stdout",
          "text": [
            "def _MajorSplit(*args):\n",
            "        return (args[:2], args[2:])\n",
            "\n",
            "\n",
            "      def CheckTruth(t = True):\n",
            "        print(’t is’, t)\n",
            "        return _MajorSplit([t]*10)\n",
            "\n",
            "      x, y = _MajorSplit((10, 20, 30, 40, 50))\n",
            "      CheckTruth(len(x) == 10)\n"
          ]
        }
      ]
    },
    {
      "cell_type": "code",
      "source": [
        "pat2 = re.findall(r'(?<=def\\s)[\\_a-zA-z]+',T)\n",
        "pat2"
      ],
      "metadata": {
        "colab": {
          "base_uri": "https://localhost:8080/"
        },
        "id": "3SWy2yNYJoVQ",
        "outputId": "57b82ffd-0dc5-4fc3-bef9-052bfa6e7f1d"
      },
      "execution_count": 400,
      "outputs": [
        {
          "output_type": "execute_result",
          "data": {
            "text/plain": [
              "['major_split']"
            ]
          },
          "metadata": {},
          "execution_count": 400
        }
      ]
    },
    {
      "cell_type": "code",
      "source": [
        "dict2 = dict({(re.findall(r'(?<=def\\s\\_)[a-zA-z\\_]+',T)[0]):\n",
        "            {'hash':hash(re.findall(r'(?<=def\\s\\_)[a-zA-z\\_]+',T)[0]),\n",
        "             'camelcase': camelcase1,\n",
        "             'allcaps':(re.findall(r'(?<=def\\s\\_)[a-zA-z\\_]+',T)[0]).upper()},\n",
        "              pat2 :{'hash':hash(pat2),\n",
        "              'camelcase': pat2,\n",
        "              'allcaps':pat2.upper()}})\n",
        "dict2"
      ],
      "metadata": {
        "colab": {
          "base_uri": "https://localhost:8080/"
        },
        "id": "gYAAt9fAHTVH",
        "outputId": "54bd5c25-789a-47f8-f80f-94f2d7db4f42"
      },
      "execution_count": 385,
      "outputs": [
        {
          "output_type": "execute_result",
          "data": {
            "text/plain": [
              "{'major_split': {'hash': 3715968611203870648,\n",
              "  'camelcase': 'MajorSplit',\n",
              "  'allcaps': 'MAJOR_SPLIT'},\n",
              " 'CheckTruth': {'hash': 6924894704398801188,\n",
              "  'camelcase': 'CheckTruth',\n",
              "  'allcaps': 'CHECKTRUTH'}}"
            ]
          },
          "metadata": {},
          "execution_count": 385
        }
      ]
    },
    {
      "cell_type": "code",
      "source": [
        "def fun_renamer(code):\n",
        "  camelcase = ''.join(map(lambda x: x.title(),re.findall(r'(?<=def\\s)[a-zA-z\\_]+',t)[0].split('_')))\n",
        "  pat = t.replace(re.findall(r'(?<=def\\s)[a-zA-z\\_]+',t)[0],camelcase)\n",
        "  dict1 = dict({(re.findall(r'(?<=def\\s)[a-zA-z\\_]+',t)[0]):\n",
        "            {'hash':hash(re.findall(r'(?<=def\\s)[a-zA-z\\_]+',t)[0]),\n",
        "             'camelcase': camelcase ,\n",
        "             'allcaps':(re.findall(r'(?<=def\\s)[a-zA-z\\_]+',t)[0]).upper()}})\n",
        "  print(dict1)\n",
        "fun_renamer(''' def add_two_numbers(a, b):\n",
        "        return a + b\n",
        "        print(add_two_numbers(10, 20))''')"
      ],
      "metadata": {
        "colab": {
          "base_uri": "https://localhost:8080/"
        },
        "id": "gKZGwr9KMMCi",
        "outputId": "6b3d1ce5-eae1-405c-aab2-677073431f15"
      },
      "execution_count": 394,
      "outputs": [
        {
          "output_type": "stream",
          "name": "stdout",
          "text": [
            "{'add_two_numbers': {'hash': 5669202761429550580, 'camelcase': 'AddTwoNumbers', 'allcaps': 'ADD_TWO_NUMBERS'}}\n"
          ]
        }
      ]
    },
    {
      "cell_type": "code",
      "source": [
        "fun_renamer('''def _major_split(*args):\n",
        "        return (args[:2], args[2:])\n",
        "\n",
        "\n",
        "      def CheckTruth(t = True):\n",
        "        print(’t is’, t)\n",
        "        return _major_split([t]*10)\n",
        "\n",
        "      x, y = _major_split((10, 20, 30, 40, 50))\n",
        "      CheckTruth(len(x) == 10)''')"
      ],
      "metadata": {
        "colab": {
          "base_uri": "https://localhost:8080/"
        },
        "id": "RuDC8K-cMxpJ",
        "outputId": "43457675-2c8f-47ca-9381-deb266976d87"
      },
      "execution_count": 392,
      "outputs": [
        {
          "output_type": "stream",
          "name": "stdout",
          "text": [
            "{'add_two_numbers': {'hash': 5669202761429550580, 'camelcase': 'AddTwoNumbers', 'allcaps': 'ADD_TWO_NUMBERS'}}\n"
          ]
        }
      ]
    },
    {
      "cell_type": "markdown",
      "source": [
        "## Submit your solution\n",
        "\n",
        "Once you are finish with the test, please make sure that you have renamed your solutions in the format given ahead ex. **python_test(pranav_uikey)** and submit it using this [following link](https://github.com/Ai-Adventures/Python_test_submissions)"
      ],
      "metadata": {
        "id": "TSSWnkRKpDmB"
      }
    },
    {
      "source": [
        "## All The Best!!"
      ],
      "cell_type": "markdown",
      "metadata": {
        "id": "3DGlZHtVnU0A"
      }
    }
  ]
}