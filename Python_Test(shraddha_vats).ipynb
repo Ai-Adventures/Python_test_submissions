{
  "nbformat": 4,
  "nbformat_minor": 0,
  "metadata": {
    "colab": {
      "provenance": []
    },
    "kernelspec": {
      "name": "python3",
      "display_name": "Python 3",
      "language": "python"
    },
    "language_info": {
      "name": "python",
      "version": "3.7.10-final"
    }
  },
  "cells": [
    {
      "cell_type": "code",
      "source": [],
      "metadata": {
        "id": "VsuVULSPnFr3"
      },
      "execution_count": 44,
      "outputs": []
    },
    {
      "cell_type": "markdown",
      "source": [
        "## Python Test\n",
        "\n",
        "### Instructions:\n",
        "\n",
        "You are given with Python coding problems. These problems will give you the chance to test your implementations of the questions. Each code runs your implementations for a number of testcases. You use the test codes to make sure that:\n",
        "\n",
        "    • Your function does not crash, that is, there is no Python errors when trying to run the\n",
        "    function.\n",
        "\n",
        "    • Compare the results of the testcases to your results. Expected results are given at the\n",
        "    end of each code.\n",
        "\n",
        "\n",
        "In each problem, replace pass command with your implementation of each required function."
      ],
      "metadata": {
        "id": "AoBhB2LUBoyf"
      }
    },
    {
      "cell_type": "markdown",
      "source": [
        "### Question 1 - Arithmetic\n",
        "\n",
        "In this question, your task is to implement a function `do_arithmetic(x,y,op)` which takes three input arguments: a number x,\n",
        "a number y, and a string op representing an operation. The function has to perform the\n",
        "operation on the two numbers and return the result.\n",
        "\n",
        "- Example 1: if you call the function with the parameter `do_arithmetic(10,4,’add’)` the function should return the value 14.0.\n",
        "\n",
        "- Example 2: `do_arithmetic(2,3,’*’)` should return 6.0.\n",
        "\n",
        "**Detailed instructions:**\n",
        "-  You can assume that x and y are always provided and always valid numbers (e.g. integers or floats).\n",
        "\n",
        "- `op` is a string representing the operation to perform. You have to implement four operations with ’add’, ’+’, ’subtract’, ’-’, ’multiply’, ’*’, and ’divide’, ’/’.\n",
        "\n",
        "- If `op` is not specified by the user it should default to ’add’.\n",
        "\n",
        "- If `op` is specified by the user but it is not one of the four operations (with eight keywords), print ’Unknown operation’ and return None.\n",
        "\n",
        "- Division by zero should be avoided. To this end, return None whenever division by zero would occur, and print ’Division by 0!’\n",
        "\n",
        "- The returned result should always be of type float.\n",
        "\n",
        "Test code: The following test cases will be tested:\n",
        "\n",
        "`do_arithmetic(24, -7, 'add')`\n",
        "- Expected result:- 17.0\n",
        "\n",
        "`do_arithmetic(6, 6, 'multiply')`\n",
        "- Expected result:- 36.0\n",
        "\n",
        "`do_arithmetic(4, 0, '/')`\n",
        "- Expected result: \"Division by Zero!\"\n",
        "\n",
        "`do_arithmetic(3, 9, '-')`\n",
        "- Expected result: -6.0\n",
        "\n",
        "`do_arithmetic(10, -43, 'subtract')`\n",
        "- Expected result: 53.0\n",
        "\n",
        "`do_arithmetic(3, 9)`\n",
        "- Expected result: 12.0"
      ],
      "metadata": {
        "id": "a9aj25yKCjXR"
      }
    },
    {
      "cell_type": "code",
      "source": [
        "def do_arithmetic(x,y,op='+'):\n",
        "  if op in ['add', '+']:\n",
        "    return float(x+y)\n",
        "  elif op in ['substract', '-']:\n",
        "    return float(x-y)\n",
        "  elif op in ['multiply', '*']:\n",
        "    return float(x*y)\n",
        "  elif op in ['divide', '/']:\n",
        "    if y == 0:\n",
        "      print( 'Division by 0!')\n",
        "    else:\n",
        "      return float(x/y)\n",
        "  else:\n",
        "    print('Unknown operation')\n",
        "    return None\n",
        "    # pass"
      ],
      "metadata": {
        "id": "6qw-Ev62CZ55"
      },
      "execution_count": null,
      "outputs": []
    },
    {
      "cell_type": "code",
      "source": [
        "print(do_arithmetic(3, 9, '-'))\n",
        "print(do_arithmetic(24, -7, 'add'))\n",
        "print(do_arithmetic(6, 6, 'multiply'))\n",
        "print(do_arithmetic(4, 0, '/'))\n",
        "print(do_arithmetic(3, 9, '-'))\n",
        "print(do_arithmetic(10, -43, 'subtract'))\n",
        "print(do_arithmetic(3, 9))"
      ],
      "metadata": {
        "colab": {
          "base_uri": "https://localhost:8080/"
        },
        "id": "VSW_N84EYWjP",
        "outputId": "8bd126e0-f077-4194-a69c-7aa8fa7645c5"
      },
      "execution_count": null,
      "outputs": [
        {
          "output_type": "stream",
          "name": "stdout",
          "text": [
            "-6.0\n",
            "17.0\n",
            "36.0\n",
            "Division by 0!\n",
            "None\n",
            "-6.0\n",
            "Unknown operation\n",
            "None\n",
            "12.0\n"
          ]
        }
      ]
    },
    {
      "cell_type": "markdown",
      "source": [
        "### Question 2 - Sum of digits\n",
        "\n",
        "Write a function `sum_of_digits(s)` that takes as input a string s that contains some numbers. The function calculates the sum of all the digits in the string, ignoring any symbols that\n",
        "are not digits.\n",
        "\n",
        "• Example: `sum_of_digits(\"123\")` should return 6 since 1+2+3 = 6\n",
        "\n",
        "• Example 2: `sum_of_digits(\"10a20\")` should return 3 because 1+0+2+0 = 3.\n",
        "Detailed instructions:\n",
        "\n",
        "- if s includes both digits and nondigits\n",
        " \n",
        "  – Calculate the sum of digits and return the result whilst ignoring any\n",
        "  \n",
        "  non-digit symbols in the string.\n",
        "  \n",
        "  – print e.g. for `sum_of_digits(\"10a20\")`\n",
        "  \n",
        "  ’The sum of digits operation performs 1+0+2+0’\n",
        "\n",
        "  – Save the extracted non-digits in a variable of interest as a list and print \"The extracted non-digits are: [’a’]\"\n",
        "\n",
        "- If s is not provided or an empty string return 0 and print\n",
        "  \n",
        "  ’Empty string entered!’.\n",
        "\n",
        "- If s is provided, but it contains no digits return 0 and print\n",
        "  \n",
        "  ’The sum of digits operation could not detect a digit!’\n",
        "  \n",
        "  ’The returned input letters are: [ALL NONDIGITS HERE]’\n",
        "\n",
        "- The returned number should be an integer.\n",
        "\n",
        "  - Example 1: When you run `sum_of_digits(\"a1w3\")` , the function should print\n",
        "    \n",
        "    The sum of digits operation performs 1+3\n",
        "    \n",
        "    The extracted non-digits are: [’a’, ’w’]\n",
        "    \n",
        "    4\n",
        "\n",
        "  - Example 2: When you run `sum_of_digits(\"united\")`, the function should print\n",
        "    \n",
        "    The sum of digits operation could not detect a digit!\n",
        "\n",
        "    The returned input letters are: [’u’, ’n’, ’i’, ’t’, ’e’, ’d’]\n",
        "    \n",
        "    0\n",
        "\n",
        "Test code: The following test cases will be tested:\n",
        "\n",
        "`sum_of_digits(\"123\")`\n",
        "\n",
        "- Expected result: \n",
        "  \n",
        "  The sum of digit operation performs 1 + 2 + 3\n",
        "  \n",
        "  The extracted non-digits are []\n",
        "  \n",
        "  6\n",
        "\n",
        "`sum_of_digits(\"we10a20b\")`\n",
        "\n",
        "- Expected result: \n",
        "\n",
        "  The sum of digit operation performs 1 + 0 + 2 + 0\n",
        "\n",
        "  The extracted non-digits are ['w', 'e', 'a', 'b']\n",
        "\n",
        "  3\n",
        "\n",
        "`sum_of_digits(\"united\")`\n",
        "- Expected result: \n",
        "\n",
        "  The sum of digits operation could not detect a digit!\n",
        "  \n",
        "  The extracted non-digits are ['u', 'n', 'i', 't', 'e', 'd']\n",
        "  \n",
        "  0\n",
        "\n",
        "`sum_of_digits(\"\")`\n",
        "\n",
        "- Expected result:\n",
        "\n",
        "  The sum of digits operation could not detect a digit!\n",
        "  \n",
        "  The extracted non-digits are []\n",
        "  \n",
        "  0"
      ],
      "metadata": {
        "id": "oiXY9pAQD5bE"
      }
    },
    {
      "cell_type": "code",
      "source": [
        "def sum_of_digits(s):\n",
        "  if not s:\n",
        "    print('Empty string entered!')\n",
        "    return 0\n",
        "  digit = [ ]\n",
        "  nondigit = [ ]\n",
        "  for char in s:\n",
        "    if char.isdigit():\n",
        "      digit.append(int(char))\n",
        "    else:\n",
        "      nondigit.append(char)\n",
        "  if not digit:\n",
        "    print('The sum of digits operation could not detect a digit!')\n",
        "    print(f'’The returned input letters are: {nondigit}')\n",
        "  digit_sum = sum(digit)\n",
        "  print('The sum of digits operation performs' ,'+'.join(map(str, digit)))\n",
        "  print(digit_sum)\n",
        "  print(f'The extracted non-digits are: {nondigit}')"
      ],
      "metadata": {
        "id": "quwAzI41D44Y"
      },
      "execution_count": null,
      "outputs": []
    },
    {
      "cell_type": "code",
      "source": [
        "sum_of_digits(\"united\")"
      ],
      "metadata": {
        "colab": {
          "base_uri": "https://localhost:8080/"
        },
        "id": "I4KaIUbQe1W6",
        "outputId": "84e88e4d-3637-4322-9420-c88a79511c04"
      },
      "execution_count": null,
      "outputs": [
        {
          "output_type": "stream",
          "name": "stdout",
          "text": [
            "The sum of digits operation could not detect a digit!\n",
            "’The returned input letters are: ['u', 'n', 'i', 't', 'e', 'd']\n",
            "The sum of digits operation performs \n",
            "0\n",
            "The extracted non-digits are: ['u', 'n', 'i', 't', 'e', 'd']\n"
          ]
        }
      ]
    },
    {
      "cell_type": "markdown",
      "source": [
        "### Question 3 - Pluralize\n",
        "\n",
        "Please download following file named `pronoun.txt` before you solve this questions the link is given below:\n",
        "\n",
        "[Required file link](https://cdn.discordapp.com/attachments/953213295710584862/974555326865100830/pronoun.txt)\n",
        "\n",
        "Write a function `pluralize(word)` that determines the plural of an English word.\n",
        "Input: Your function takes one argument as input, word, a string representing the word to be\n",
        "pluralised. We assume this word will only be one single token, i.e., no spaces. Your function will also have to load the text file `proper nouns.txt`.\n",
        "\n",
        "Output: The function should return a dictionary of the form:\n",
        "  - {’plural’: word_in_plural, ’status’: x}\n",
        "\n",
        "\n",
        "where word_in_plural is the pluralized version of the input argument word and x is a\n",
        "string which can have one of the following values: ’empty_string’, ’proper_noun’, ’\n",
        "already_in_plural’, ’success’.\n",
        "\n",
        "\n",
        "Below is the logic (in order) that the function should execute.\n",
        "\n",
        "1) Determine if the word is an empty string, already in plural, or a proper noun.\n",
        "\n",
        "    • If the word is an empty string, then your function returns a dictionary with the following values:\n",
        "    \n",
        "      – word_in_plural = ’’ and x = ’empty_string’\n",
        "    \n",
        "      – Explanation: The input word is an empty string and it cannot be pluralized.\n",
        "    \n",
        "    • If the word is already in plural, then your function returns a dictionary with the following values:\n",
        "    \n",
        "      – word_in_plural = word and x = ’already_in_plural’.\n",
        "    \n",
        "      – Explanation: The input word remains untouched (e.g., input: houses, output: houses).\n",
        "    \n",
        "    • If the word is a proper noun, then your function returns a dictionary with the following values:\n",
        "    \n",
        "      – word_in_plural = word and x = ’proper_noun’.\n",
        "    \n",
        "      – Explanation: The input word is a proper noun, and therefore cannot be pluralized (e.g., input: Adam, output: Adam).\n",
        "\n",
        "    • How to determine plural form: We will assume a word is in plural if it ends with ’s’.\n",
        "\n",
        "    • How to determine if a word is a proper noun: We will assume a word is a proper noun if it exists in the file proper nouns.txt. Note that your function should convert any capitalised input to lower case first because the proper nouns in the list are all lower case. The values in your output dictionary, however, will retain the original capitalisation\n",
        "\n",
        "2) If the word is not plural and is not a proper noun, then:\n",
        "  Apply the following English plural rules.\n",
        "    \n",
        "    • If the word ends with a vowel:\n",
        "        – add -s.\n",
        "    \n",
        "    • Otherwise:\n",
        "        \n",
        "        – If it ends with ’y’ and is preceded by a consonant, erase the last letter and add\n",
        "        \n",
        "          -ies.\n",
        "        \n",
        "        – If it ends with ’f’, erase the last letter and add -ves.\n",
        "        \n",
        "        – If it ends with ’sh’/’ch’/’z’, add -es.\n",
        "        \n",
        "        – If none of the above applies, just add -s.\n",
        "\n",
        "    • After these rules are applied, your output dictionary should be:\n",
        "        – {’plural’: word_in_plural, ’status’: ’success’}\n",
        "\n",
        "\n",
        "Test code: The following test cases will be tested:\n",
        "\n",
        "`pluralize(\"failure\")`\n",
        "- Expected result: `{'plural':'failures', 'status':'success'}`\n",
        "\n",
        "`pluralize(\"food\")`\n",
        "- Expected result: `{'plural':'foods', 'status':'success'}`\n",
        "\n",
        "`pluralize(\"Zulma\")`\n",
        "- Expected result: `{'plural':'zulma', 'status':'proper_noun'}`\n",
        "\n",
        "`pluralize(\"injury\")`\n",
        "- Expected result: `{'plural':'injuries', 'status':'success'}`\n",
        "\n",
        "`pluralize(\"elf\")`\n",
        "- Expected result: `{'plural':'elves', 'status':'success'}`\n",
        "\n",
        "`pluralize(\"buzz\")`\n",
        "- Expected result: `{'plural':'buzzes', 'status':'success'}`\n",
        "\n",
        "`pluralize(\"computers\")`\n",
        "- Expected result: `{'plural':'computers', 'status':'already_in_plural'}`\n",
        "\n",
        "`pluralize(\"PCs\")`\n",
        "- Expected result: `{'plural':'PCs', 'status':'already_in_plural'}`\n",
        "\n",
        "`pluralize(\"\")`\n",
        "- Expected result: `{'plural':'', 'status':'empty_string'}`\n",
        "\n",
        "`pluralize(\"highway\")`\n",
        "- Expected result: `{'plural':'highways', 'status':'success'}`\n",
        "\n",
        "`pluralize(\"presentation\")`\n",
        "- Expected result: `{'plural':'presentations', 'status':'success'}`\n",
        "\n",
        "`pluralize(\"pouch\")`\n",
        "- Expected result: `{'plural':'pouches', 'status':'success'}`\n",
        "\n",
        "`pluralize(\"COVID-19\")`\n",
        "- Expected result: `{'plural':'COVID-19s', 'status':'success'}`\n",
        "\n",
        "`pluralize(\"adam\")`\n",
        "- Expected result: `{'plural':'adam', 'status':'proper_noun'}`\n"
      ],
      "metadata": {
        "id": "Ho-lFx1GFOvj"
      }
    },
    {
      "cell_type": "code",
      "source": [
        "file = open('/content/pronoun (1).txt')"
      ],
      "metadata": {
        "id": "s42yt044ganS"
      },
      "execution_count": null,
      "outputs": []
    },
    {
      "cell_type": "code",
      "source": [
        "proper_noun = file.read().splitlines()\n",
        "proper_noun"
      ],
      "metadata": {
        "id": "xX8PcOsejiiJ"
      },
      "execution_count": null,
      "outputs": []
    },
    {
      "cell_type": "code",
      "source": [
        "def pluralize(word):\n",
        "  result = {'plural': ' ', 'x':' ' }\n",
        "  if not word:\n",
        "    result['x'] = 'empty_string'\n",
        "    return result\n",
        "  elif word[-1]== 's':\n",
        "    result['plural'] = word\n",
        "    result['x'] = 'already_in_plural'\n",
        "    return result\n",
        "  lowercase = word.lower()\n",
        "  \n",
        "  if word.lower() in proper_noun:\n",
        "    result['plural']= word\n",
        "    result['x'] = 'proper_noun'\n",
        "    return result\n",
        "  if word[-1] == 'aeiou':\n",
        "    new_word = word + 's'\n",
        "  elif word[-1] == 'y' and word[-2] not in 'aeiou':\n",
        "    new_word = word[:-1] + 'ies'\n",
        "  elif word[-1] == 'f':\n",
        "    new_word = word[:-1] + 'ves'\n",
        "  elif word[-1] == 'sh' or word[-1] == 'ch' or word[-1] == 'z':\n",
        "    new_word = word + 'es'\n",
        "  else:\n",
        "    new_word = word +'s'\n",
        "\n",
        "  result['plural'] = new_word\n",
        "  result['x'] = 'success'\n",
        "  return result"
      ],
      "metadata": {
        "id": "7XBhGIeuj0Tw"
      },
      "execution_count": null,
      "outputs": []
    },
    {
      "cell_type": "code",
      "source": [
        "print(pluralize(\"failure\"))\n",
        "print(pluralize(\"food\"))\n",
        "print(pluralize(\"Zulma\"))\n",
        "print(pluralize(\"\"))\n",
        "print(pluralize(\"injury\"))\n",
        "print(pluralize(\"computers\"))\n",
        "print(pluralize(\"elf\"))\n",
        "print(pluralize(\"highway\"))\n",
        "print(pluralize(\"PCs\"))\n",
        "print(pluralize(\"COVID-19\"))\n",
        "print(pluralize(\"adam\"))"
      ],
      "metadata": {
        "colab": {
          "base_uri": "https://localhost:8080/"
        },
        "id": "sqzheg2cugmy",
        "outputId": "5a444d1b-c09b-4d90-f3a4-92c16e99af2d"
      },
      "execution_count": null,
      "outputs": [
        {
          "output_type": "stream",
          "name": "stdout",
          "text": [
            "{'plural': 'failures', 'x': 'success'}\n",
            "{'plural': 'foods', 'x': 'success'}\n",
            "{'plural': 'Zulma', 'x': 'proper_noun'}\n",
            "{'plural': ' ', 'x': 'empty_string'}\n",
            "{'plural': 'injuries', 'x': 'success'}\n",
            "{'plural': 'computers', 'x': 'already_in_plural'}\n",
            "{'plural': 'elves', 'x': 'success'}\n",
            "{'plural': 'highways', 'x': 'success'}\n",
            "{'plural': 'PCs', 'x': 'already_in_plural'}\n",
            "{'plural': 'COVID-19s', 'x': 'success'}\n",
            "{'plural': 'adam', 'x': 'proper_noun'}\n"
          ]
        }
      ]
    },
    {
      "cell_type": "markdown",
      "source": [
        "### Question 4 - Function renamer\n",
        "\n",
        "\n",
        "You are working on a large-scale software project involving thousands of different Python files. The files have been written by different programmers and the naming of functions is somewhat inconsistent. You receive a new directive stating that the function names all have to be in camel case. In camel case, function names consisting of multiple words have a capital letter in each word and most underscores are removed. For instance, `def MyArithmeticCalculator()` is in camel case but `def my_arithmetic_calculator()` is not in camel case.\n",
        "\n",
        "You want to write a Python program that automatically processes Python code and renames the function names instead of doing it by hand. The instruction states that:\n",
        "\n",
        "  1.) All functions names need to be changed to camel case. E.g. a function\n",
        "  `calculate_speed_of_vehicle()` needs to be renamed to `CalculateSpeedOfVehicle()`.\n",
        "\n",
        "  2.) If the function has one or more leading ’_’ (underscores) they need to be preserved.\n",
        "\n",
        "  All other underscores need to be removed. E.g. a function `__calc_size()` is renamed to `__CalcSize()`.\n",
        "\n",
        "  3.) If the function is already in camel case, you do not need to change it but it still needs to appear in the dictionary d specified below.\n",
        "\n",
        "  4.) You can assume that there will be no name clashes. That is, a given function name which is not in camel case will not already appear in camel case elsewhere. E.g.if there is a function `print_all_strings()` then there is no function `PrintAllStrings()` elsewhere in the code.\n",
        "\n",
        "5.) Tip: You can use regular expressions to find the function names.\n",
        "\n",
        "\n",
        "To implement this, write a function `function_renamer(code)` that takes as input a string code that represents the Python code. It is typically a multi-line Python string. Your function needs to return the tuple `(d, newcode)`:\n",
        "\n",
        "  • `d` is a nested dictionary where each key corresponds to the original function name. The value is a nested dictionary that has the following items:\n",
        "\n",
        "    – hash: hash code of the original function name (tip: use Python’s hash function)\n",
        "\n",
        "    – camelcase: camel case version of original function name\n",
        "\n",
        "    – allcaps: all caps version of original function name\n",
        "\n",
        "  • newcode is a string containing the code wherein all function names have been renamed by their camel case versions. Note that you need to change the function name and also all other locations where the function name is used (e.g. function calls). You should not change anything else in the code (e.g. the contents of any strings). To clarify this, a few examples are given below:\n",
        "    - Example 1: Assume your input code is the multi-line string\n",
        "    \n",
        "        def add_two_numbers(a, b):\n",
        "          return a + b\n",
        "          print(add_two_numbers(10, 20))\n",
        " \n",
        "    \n",
        "    \n",
        "      After processing it with your function, the code should be changed to\n",
        "\n",
        "        def AddTwoNumbers(a, b):\n",
        "          return a + b\n",
        "        print(AddTwoNumbers(10, 20))\n",
        "\n",
        "        The nested dictionary is given by\n",
        "        d = {’add_two_numbers’:\n",
        "        {’hash’:-9214996652071026704,\n",
        "        ’camelcase’:’AddTwoNumbers’,\n",
        "        ’allcaps’:’ADD_TWO_NUMBERS’} }\n",
        "\n",
        "\n",
        "    - Example 2: Assume your input code is the multi-line string\n",
        "          def _major_split(*args):\n",
        "            return (args[:2], args[2:])\n",
        "          \n",
        "          \n",
        "          def CheckTruth(t = True):\n",
        "            print(’t is’, t)\n",
        "            return _major_split([t]*10)\n",
        "          \n",
        "          x, y = _major_split((10, 20, 30, 40, 50))\n",
        "\n",
        "\n",
        "\n",
        "      CheckTruth(len(x) == 10)\n",
        "\n",
        "      After processing it with your function, the code should be changed to\n",
        "          def _MajorSplit(*args):\n",
        "            return (args[:2], args[2:])\n",
        "          \n",
        "          def CheckTruth(t = True):\n",
        "            print(’t is’, t)\n",
        "            return _MajorSplit([t]*10)\n",
        "          x, y = _MajorSplit((10, 20, 30, 40, 50))\n",
        "          \n",
        "          CheckTruth(len(x) == 10)\n",
        "          \n",
        "          The nested dictionary is given by\n",
        "          \n",
        "          d = {’CheckTruth’:\n",
        "          {’hash’:-6410081306665365595,\n",
        "          ’camelcase’:’CheckTruth’,\n",
        "          ’allcaps’:’CHECKTRUTH’,\n",
        "          ’_major_split’:\n",
        "          {’hash’:484498917506710667,\n",
        "          ’camelcase’:’_MajorSplit’,\n",
        "          ’allcaps’:’_MAJOR_SPLIT’}}\n",
        "\n",
        "\n",
        "\n",
        "Test code: The examples given above are the only test cases to be handled for this question."
      ],
      "metadata": {
        "id": "-XQCi9ydHG9t"
      }
    },
    {
      "cell_type": "code",
      "source": [
        "\n",
        "def function_renamer(code):\n",
        "  lines = code.split('\\n')\n",
        "  function_dict = {}\n",
        "  new_lines = []\n",
        "  def to_camel_case(name):\n",
        "      parts = name.split('_')\n",
        "      for i in parts:\n",
        "        x = i.capitalize()\n",
        "      return ' '.join(x)\n",
        "  for i2 in lines:\n",
        "      i2= i2.strip()\n",
        "      if i2.startswith('def '):\n",
        "        parts = i2.split(' ')\n",
        "        func_name = parts[1].split('(')[0]\n",
        "        if '_' in func_name.lower():\n",
        "          leading_underscores = func_name[:func_name.index('_')]\n",
        "          new_func_name = leading_underscores + to_camel_case(func_name)\n",
        "        else:\n",
        "          new_func_name = to_camel_case(func_name)\n",
        "        new_line = i2.replace(func_name, new_func_name)\n",
        "        function_dict[func_name] ={'hash': hash(func_name),\n",
        "                  'camelcase': new_func_name,\n",
        "                  'allcaps': func_name.upper()\n",
        "                  }\n",
        "        new_lines.append(new_line)\n",
        "      else:\n",
        "        new_code = '\\n'.join(new_lines)\n",
        "  return function_dict, new_code\n",
        "  # your code here\n"
      ],
      "metadata": {
        "id": "FQy1xCBIJu5E"
      },
      "execution_count": 43,
      "outputs": []
    },
    {
      "cell_type": "code",
      "source": [
        "code1 = '''\n",
        "def add_two_numbers(a, b):\n",
        "  return a + b\n",
        "print(add_two_numbers(10, 20))\n",
        "'''\n",
        "d1, new_code1 = function_renamer(code1)\n",
        "print(d1)\n",
        "print(new_code1)\n",
        "\n"
      ],
      "metadata": {
        "colab": {
          "base_uri": "https://localhost:8080/"
        },
        "id": "wNCkEnU0cmGI",
        "outputId": "f8d41c77-5a3f-48ab-e87e-b399db0b9dd9"
      },
      "execution_count": 44,
      "outputs": [
        {
          "output_type": "stream",
          "name": "stdout",
          "text": [
            "{'add_two_numbers': {'hash': 6776562631107414520, 'camelcase': 'addN u m b e r s', 'allcaps': 'ADD_TWO_NUMBERS'}}\n",
            "def addN u m b e r s(a, b):\n"
          ]
        }
      ]
    },
    {
      "cell_type": "code",
      "source": [
        "\n",
        "  "
      ],
      "metadata": {
        "id": "SzkPOn2vH4Ve"
      },
      "execution_count": 22,
      "outputs": []
    },
    {
      "cell_type": "code",
      "source": [
        "\n",
        "\n"
      ],
      "metadata": {
        "id": "iaSIJSynLZRf"
      },
      "execution_count": 23,
      "outputs": []
    },
    {
      "cell_type": "markdown",
      "source": [
        "## Submit your solution\n",
        "\n",
        "Once you are finish with the test, please make sure that you have renamed your solutions in the format given ahead ex. **python_test(pranav_uikey)** and submit it using this [following link](https://github.com/Ai-Adventures/Python_test_submissions)"
      ],
      "metadata": {
        "id": "TSSWnkRKpDmB"
      }
    },
    {
      "source": [
        "## All The Best!!"
      ],
      "cell_type": "markdown",
      "metadata": {
        "id": "3DGlZHtVnU0A"
      }
    }
  ]
}